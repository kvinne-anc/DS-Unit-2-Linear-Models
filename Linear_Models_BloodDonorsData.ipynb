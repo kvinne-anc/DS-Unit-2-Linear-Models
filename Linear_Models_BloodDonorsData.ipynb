{
  "nbformat": 4,
  "nbformat_minor": 0,
  "metadata": {
    "colab": {
      "name": "Linear_Models_BloodDonorsData.ipynb",
      "provenance": [],
      "collapsed_sections": [],
      "include_colab_link": true
    },
    "kernelspec": {
      "display_name": "Python 3",
      "language": "python",
      "name": "python3"
    },
    "language_info": {
      "codemirror_mode": {
        "name": "ipython",
        "version": 3
      },
      "file_extension": ".py",
      "mimetype": "text/x-python",
      "name": "python",
      "nbconvert_exporter": "python",
      "pygments_lexer": "ipython3",
      "version": "3.7.3"
    }
  },
  "cells": [
    {
      "cell_type": "markdown",
      "metadata": {
        "id": "view-in-github",
        "colab_type": "text"
      },
      "source": [
        "<a href=\"https://colab.research.google.com/github/kvinne-anc/Linear-Models/blob/master/Linear_Models_BloodDonorsData.ipynb\" target=\"_parent\"><img src=\"https://colab.research.google.com/assets/colab-badge.svg\" alt=\"Open In Colab\"/></a>"
      ]
    },
    {
      "cell_type": "markdown",
      "metadata": {
        "id": "VZf2akBaMjq8"
      },
      "source": [
        "_Lambda School Data Science, Unit 2_\n",
        " \n",
        "# Linear Models Sprint Challenge\n",
        "\n",
        "To demonstrate mastery on your Sprint Challenge, do all the required, numbered instructions in this notebook.\n",
        "\n",
        "To earn a score of \"3\", also do all the stretch goals.\n",
        "\n",
        "You are permitted and encouraged to do as much data exploration as you want."
      ]
    },
    {
      "cell_type": "markdown",
      "metadata": {
        "id": "20OITf58NLQh"
      },
      "source": [
        "### Part 1, Classification\n",
        "- 1.1. Do train/test split. Arrange data into X features matrix and y target vector\n",
        "- 1.2. Use scikit-learn to fit a logistic regression model\n",
        "- 1.3. Report classification metric: accuracy\n",
        "\n",
        "### Part 2, Regression\n",
        "- 2.1. Begin with baselines for regression\n",
        "- 2.2. Do train/validate/test split\n",
        "- 2.3. Arrange data into X features matrix and y target vector\n",
        "- 2.4. Do one-hot encoding\n",
        "- 2.5. Use scikit-learn to fit a linear regression or ridge regression model\n",
        "- 2.6. Report validation MAE and $R^2$\n",
        "\n",
        "### Stretch Goals, Regression\n",
        "- Make at least 2 visualizations to explore relationships between features and target. You may use any visualization library\n",
        "- Try at least 3 feature combinations. You may select features manually, or automatically\n",
        "- Report validation MAE and $R^2$ for each feature combination you try\n",
        "- Report test MAE and $R^2$ for your final model\n",
        "- Print or plot the coefficients for the features in your model"
      ]
    },
    {
      "cell_type": "code",
      "metadata": {
        "id": "BxoFSeX5OX5k",
        "colab": {
          "base_uri": "https://localhost:8080/",
          "height": 1000
        },
        "outputId": "55441970-ddc1-44df-db57-8e2add0fec5d"
      },
      "source": [
        "# If you're in Colab...\n",
        "import sys\n",
        "if 'google.colab' in sys.modules:\n",
        "    !pip install category_encoders==2.*\n",
        "    !pip install pandas-profiling==2.*\n",
        "    !pip install plotly==4.*"
      ],
      "execution_count": null,
      "outputs": [
        {
          "output_type": "stream",
          "text": [
            "Collecting category_encoders==2.*\n",
            "\u001b[?25l  Downloading https://files.pythonhosted.org/packages/44/57/fcef41c248701ee62e8325026b90c432adea35555cbc870aff9cfba23727/category_encoders-2.2.2-py2.py3-none-any.whl (80kB)\n",
            "\r\u001b[K     |████                            | 10kB 12.0MB/s eta 0:00:01\r\u001b[K     |████████▏                       | 20kB 1.7MB/s eta 0:00:01\r\u001b[K     |████████████▏                   | 30kB 2.3MB/s eta 0:00:01\r\u001b[K     |████████████████▎               | 40kB 2.5MB/s eta 0:00:01\r\u001b[K     |████████████████████▎           | 51kB 2.0MB/s eta 0:00:01\r\u001b[K     |████████████████████████▍       | 61kB 2.3MB/s eta 0:00:01\r\u001b[K     |████████████████████████████▍   | 71kB 2.5MB/s eta 0:00:01\r\u001b[K     |████████████████████████████████| 81kB 2.1MB/s \n",
            "\u001b[?25hRequirement already satisfied: scipy>=1.0.0 in /usr/local/lib/python3.6/dist-packages (from category_encoders==2.*) (1.4.1)\n",
            "Requirement already satisfied: pandas>=0.21.1 in /usr/local/lib/python3.6/dist-packages (from category_encoders==2.*) (1.0.5)\n",
            "Requirement already satisfied: numpy>=1.14.0 in /usr/local/lib/python3.6/dist-packages (from category_encoders==2.*) (1.18.5)\n",
            "Requirement already satisfied: statsmodels>=0.9.0 in /usr/local/lib/python3.6/dist-packages (from category_encoders==2.*) (0.10.2)\n",
            "Requirement already satisfied: scikit-learn>=0.20.0 in /usr/local/lib/python3.6/dist-packages (from category_encoders==2.*) (0.22.2.post1)\n",
            "Requirement already satisfied: patsy>=0.5.1 in /usr/local/lib/python3.6/dist-packages (from category_encoders==2.*) (0.5.1)\n",
            "Requirement already satisfied: pytz>=2017.2 in /usr/local/lib/python3.6/dist-packages (from pandas>=0.21.1->category_encoders==2.*) (2018.9)\n",
            "Requirement already satisfied: python-dateutil>=2.6.1 in /usr/local/lib/python3.6/dist-packages (from pandas>=0.21.1->category_encoders==2.*) (2.8.1)\n",
            "Requirement already satisfied: joblib>=0.11 in /usr/local/lib/python3.6/dist-packages (from scikit-learn>=0.20.0->category_encoders==2.*) (0.16.0)\n",
            "Requirement already satisfied: six in /usr/local/lib/python3.6/dist-packages (from patsy>=0.5.1->category_encoders==2.*) (1.15.0)\n",
            "Installing collected packages: category-encoders\n",
            "Successfully installed category-encoders-2.2.2\n",
            "Collecting pandas-profiling==2.*\n",
            "\u001b[?25l  Downloading https://files.pythonhosted.org/packages/32/79/5d03ed1172e3e67a997a6a795bcdd2ab58f84851969d01a91455383795b6/pandas_profiling-2.9.0-py2.py3-none-any.whl (258kB)\n",
            "\u001b[K     |████████████████████████████████| 266kB 2.4MB/s \n",
            "\u001b[?25hRequirement already satisfied: seaborn>=0.10.1 in /usr/local/lib/python3.6/dist-packages (from pandas-profiling==2.*) (0.10.1)\n",
            "Requirement already satisfied: pandas!=1.0.0,!=1.0.1,!=1.0.2,!=1.1.0,>=0.25.3 in /usr/local/lib/python3.6/dist-packages (from pandas-profiling==2.*) (1.0.5)\n",
            "Requirement already satisfied: matplotlib>=3.2.0 in /usr/local/lib/python3.6/dist-packages (from pandas-profiling==2.*) (3.2.2)\n",
            "Requirement already satisfied: jinja2>=2.11.1 in /usr/local/lib/python3.6/dist-packages (from pandas-profiling==2.*) (2.11.2)\n",
            "Collecting phik>=0.9.10\n",
            "\u001b[?25l  Downloading https://files.pythonhosted.org/packages/01/5a/7ef1c04ce62cd72f900c06298dc2385840550d5c653a0dbc19109a5477e6/phik-0.10.0-py3-none-any.whl (599kB)\n",
            "\u001b[K     |████████████████████████████████| 604kB 4.6MB/s \n",
            "\u001b[?25hRequirement already satisfied: requests>=2.23.0 in /usr/local/lib/python3.6/dist-packages (from pandas-profiling==2.*) (2.23.0)\n",
            "Requirement already satisfied: attrs>=19.3.0 in /usr/local/lib/python3.6/dist-packages (from pandas-profiling==2.*) (20.2.0)\n",
            "Collecting confuse>=1.0.0\n",
            "\u001b[?25l  Downloading https://files.pythonhosted.org/packages/b5/6d/bedc0d1068bd244cee05843313cbec6cebb9f01f925538269bababc6d887/confuse-1.3.0-py2.py3-none-any.whl (64kB)\n",
            "\u001b[K     |████████████████████████████████| 71kB 5.0MB/s \n",
            "\u001b[?25hCollecting htmlmin>=0.1.12\n",
            "  Downloading https://files.pythonhosted.org/packages/b3/e7/fcd59e12169de19f0131ff2812077f964c6b960e7c09804d30a7bf2ab461/htmlmin-0.1.12.tar.gz\n",
            "Collecting visions[type_image_path]==0.5.0\n",
            "\u001b[?25l  Downloading https://files.pythonhosted.org/packages/26/e3/9416e94e767d59a86edcbcb8e1c8f42874d272c3b343676074879e9db0e0/visions-0.5.0-py3-none-any.whl (64kB)\n",
            "\u001b[K     |████████████████████████████████| 71kB 4.2MB/s \n",
            "\u001b[?25hRequirement already satisfied: missingno>=0.4.2 in /usr/local/lib/python3.6/dist-packages (from pandas-profiling==2.*) (0.4.2)\n",
            "Collecting tangled-up-in-unicode>=0.0.6\n",
            "\u001b[?25l  Downloading https://files.pythonhosted.org/packages/4a/e2/e588ab9298d4989ce7fdb2b97d18aac878d99dbdc379a4476a09d9271b68/tangled_up_in_unicode-0.0.6-py3-none-any.whl (3.1MB)\n",
            "\u001b[K     |████████████████████████████████| 3.1MB 7.1MB/s \n",
            "\u001b[?25hRequirement already satisfied: scipy>=1.4.1 in /usr/local/lib/python3.6/dist-packages (from pandas-profiling==2.*) (1.4.1)\n",
            "Requirement already satisfied: numpy>=1.16.0 in /usr/local/lib/python3.6/dist-packages (from pandas-profiling==2.*) (1.18.5)\n",
            "Collecting tqdm>=4.43.0\n",
            "\u001b[?25l  Downloading https://files.pythonhosted.org/packages/73/d5/f220e0c69b2f346b5649b66abebb391df1a00a59997a7ccf823325bd7a3e/tqdm-4.49.0-py2.py3-none-any.whl (69kB)\n",
            "\u001b[K     |████████████████████████████████| 71kB 8.2MB/s \n",
            "\u001b[?25hRequirement already satisfied: joblib in /usr/local/lib/python3.6/dist-packages (from pandas-profiling==2.*) (0.16.0)\n",
            "Requirement already satisfied: ipywidgets>=7.5.1 in /usr/local/lib/python3.6/dist-packages (from pandas-profiling==2.*) (7.5.1)\n",
            "Requirement already satisfied: python-dateutil>=2.6.1 in /usr/local/lib/python3.6/dist-packages (from pandas!=1.0.0,!=1.0.1,!=1.0.2,!=1.1.0,>=0.25.3->pandas-profiling==2.*) (2.8.1)\n",
            "Requirement already satisfied: pytz>=2017.2 in /usr/local/lib/python3.6/dist-packages (from pandas!=1.0.0,!=1.0.1,!=1.0.2,!=1.1.0,>=0.25.3->pandas-profiling==2.*) (2018.9)\n",
            "Requirement already satisfied: pyparsing!=2.0.4,!=2.1.2,!=2.1.6,>=2.0.1 in /usr/local/lib/python3.6/dist-packages (from matplotlib>=3.2.0->pandas-profiling==2.*) (2.4.7)\n",
            "Requirement already satisfied: cycler>=0.10 in /usr/local/lib/python3.6/dist-packages (from matplotlib>=3.2.0->pandas-profiling==2.*) (0.10.0)\n",
            "Requirement already satisfied: kiwisolver>=1.0.1 in /usr/local/lib/python3.6/dist-packages (from matplotlib>=3.2.0->pandas-profiling==2.*) (1.2.0)\n",
            "Requirement already satisfied: MarkupSafe>=0.23 in /usr/local/lib/python3.6/dist-packages (from jinja2>=2.11.1->pandas-profiling==2.*) (1.1.1)\n",
            "Requirement already satisfied: numba>=0.38.1 in /usr/local/lib/python3.6/dist-packages (from phik>=0.9.10->pandas-profiling==2.*) (0.48.0)\n",
            "Requirement already satisfied: urllib3!=1.25.0,!=1.25.1,<1.26,>=1.21.1 in /usr/local/lib/python3.6/dist-packages (from requests>=2.23.0->pandas-profiling==2.*) (1.24.3)\n",
            "Requirement already satisfied: certifi>=2017.4.17 in /usr/local/lib/python3.6/dist-packages (from requests>=2.23.0->pandas-profiling==2.*) (2020.6.20)\n",
            "Requirement already satisfied: idna<3,>=2.5 in /usr/local/lib/python3.6/dist-packages (from requests>=2.23.0->pandas-profiling==2.*) (2.10)\n",
            "Requirement already satisfied: chardet<4,>=3.0.2 in /usr/local/lib/python3.6/dist-packages (from requests>=2.23.0->pandas-profiling==2.*) (3.0.4)\n",
            "Requirement already satisfied: pyyaml in /usr/local/lib/python3.6/dist-packages (from confuse>=1.0.0->pandas-profiling==2.*) (3.13)\n",
            "Requirement already satisfied: networkx>=2.4 in /usr/local/lib/python3.6/dist-packages (from visions[type_image_path]==0.5.0->pandas-profiling==2.*) (2.5)\n",
            "Collecting imagehash; extra == \"type_image_path\"\n",
            "\u001b[?25l  Downloading https://files.pythonhosted.org/packages/1a/5d/cc81830be3c4705a46cdbca74439b67f1017881383ba0127c41c4cecb7b3/ImageHash-4.1.0.tar.gz (291kB)\n",
            "\u001b[K     |████████████████████████████████| 296kB 26.9MB/s \n",
            "\u001b[?25hRequirement already satisfied: Pillow; extra == \"type_image_path\" in /usr/local/lib/python3.6/dist-packages (from visions[type_image_path]==0.5.0->pandas-profiling==2.*) (7.0.0)\n",
            "Requirement already satisfied: nbformat>=4.2.0 in /usr/local/lib/python3.6/dist-packages (from ipywidgets>=7.5.1->pandas-profiling==2.*) (5.0.7)\n",
            "Requirement already satisfied: traitlets>=4.3.1 in /usr/local/lib/python3.6/dist-packages (from ipywidgets>=7.5.1->pandas-profiling==2.*) (4.3.3)\n",
            "Requirement already satisfied: widgetsnbextension~=3.5.0 in /usr/local/lib/python3.6/dist-packages (from ipywidgets>=7.5.1->pandas-profiling==2.*) (3.5.1)\n",
            "Requirement already satisfied: ipykernel>=4.5.1 in /usr/local/lib/python3.6/dist-packages (from ipywidgets>=7.5.1->pandas-profiling==2.*) (4.10.1)\n",
            "Requirement already satisfied: ipython>=4.0.0; python_version >= \"3.3\" in /usr/local/lib/python3.6/dist-packages (from ipywidgets>=7.5.1->pandas-profiling==2.*) (5.5.0)\n",
            "Requirement already satisfied: six>=1.5 in /usr/local/lib/python3.6/dist-packages (from python-dateutil>=2.6.1->pandas!=1.0.0,!=1.0.1,!=1.0.2,!=1.1.0,>=0.25.3->pandas-profiling==2.*) (1.15.0)\n",
            "Requirement already satisfied: llvmlite<0.32.0,>=0.31.0dev0 in /usr/local/lib/python3.6/dist-packages (from numba>=0.38.1->phik>=0.9.10->pandas-profiling==2.*) (0.31.0)\n",
            "Requirement already satisfied: setuptools in /usr/local/lib/python3.6/dist-packages (from numba>=0.38.1->phik>=0.9.10->pandas-profiling==2.*) (50.3.0)\n",
            "Requirement already satisfied: decorator>=4.3.0 in /usr/local/lib/python3.6/dist-packages (from networkx>=2.4->visions[type_image_path]==0.5.0->pandas-profiling==2.*) (4.4.2)\n",
            "Requirement already satisfied: PyWavelets in /usr/local/lib/python3.6/dist-packages (from imagehash; extra == \"type_image_path\"->visions[type_image_path]==0.5.0->pandas-profiling==2.*) (1.1.1)\n",
            "Requirement already satisfied: jsonschema!=2.5.0,>=2.4 in /usr/local/lib/python3.6/dist-packages (from nbformat>=4.2.0->ipywidgets>=7.5.1->pandas-profiling==2.*) (2.6.0)\n",
            "Requirement already satisfied: ipython-genutils in /usr/local/lib/python3.6/dist-packages (from nbformat>=4.2.0->ipywidgets>=7.5.1->pandas-profiling==2.*) (0.2.0)\n",
            "Requirement already satisfied: jupyter-core in /usr/local/lib/python3.6/dist-packages (from nbformat>=4.2.0->ipywidgets>=7.5.1->pandas-profiling==2.*) (4.6.3)\n",
            "Requirement already satisfied: notebook>=4.4.1 in /usr/local/lib/python3.6/dist-packages (from widgetsnbextension~=3.5.0->ipywidgets>=7.5.1->pandas-profiling==2.*) (5.3.1)\n",
            "Requirement already satisfied: tornado>=4.0 in /usr/local/lib/python3.6/dist-packages (from ipykernel>=4.5.1->ipywidgets>=7.5.1->pandas-profiling==2.*) (5.1.1)\n",
            "Requirement already satisfied: jupyter-client in /usr/local/lib/python3.6/dist-packages (from ipykernel>=4.5.1->ipywidgets>=7.5.1->pandas-profiling==2.*) (5.3.5)\n",
            "Requirement already satisfied: simplegeneric>0.8 in /usr/local/lib/python3.6/dist-packages (from ipython>=4.0.0; python_version >= \"3.3\"->ipywidgets>=7.5.1->pandas-profiling==2.*) (0.8.1)\n",
            "Requirement already satisfied: prompt-toolkit<2.0.0,>=1.0.4 in /usr/local/lib/python3.6/dist-packages (from ipython>=4.0.0; python_version >= \"3.3\"->ipywidgets>=7.5.1->pandas-profiling==2.*) (1.0.18)\n",
            "Requirement already satisfied: pygments in /usr/local/lib/python3.6/dist-packages (from ipython>=4.0.0; python_version >= \"3.3\"->ipywidgets>=7.5.1->pandas-profiling==2.*) (2.6.1)\n",
            "Requirement already satisfied: pickleshare in /usr/local/lib/python3.6/dist-packages (from ipython>=4.0.0; python_version >= \"3.3\"->ipywidgets>=7.5.1->pandas-profiling==2.*) (0.7.5)\n",
            "Requirement already satisfied: pexpect; sys_platform != \"win32\" in /usr/local/lib/python3.6/dist-packages (from ipython>=4.0.0; python_version >= \"3.3\"->ipywidgets>=7.5.1->pandas-profiling==2.*) (4.8.0)\n",
            "Requirement already satisfied: Send2Trash in /usr/local/lib/python3.6/dist-packages (from notebook>=4.4.1->widgetsnbextension~=3.5.0->ipywidgets>=7.5.1->pandas-profiling==2.*) (1.5.0)\n",
            "Requirement already satisfied: terminado>=0.8.1 in /usr/local/lib/python3.6/dist-packages (from notebook>=4.4.1->widgetsnbextension~=3.5.0->ipywidgets>=7.5.1->pandas-profiling==2.*) (0.8.3)\n",
            "Requirement already satisfied: nbconvert in /usr/local/lib/python3.6/dist-packages (from notebook>=4.4.1->widgetsnbextension~=3.5.0->ipywidgets>=7.5.1->pandas-profiling==2.*) (5.6.1)\n",
            "Requirement already satisfied: pyzmq>=13 in /usr/local/lib/python3.6/dist-packages (from jupyter-client->ipykernel>=4.5.1->ipywidgets>=7.5.1->pandas-profiling==2.*) (19.0.2)\n",
            "Requirement already satisfied: wcwidth in /usr/local/lib/python3.6/dist-packages (from prompt-toolkit<2.0.0,>=1.0.4->ipython>=4.0.0; python_version >= \"3.3\"->ipywidgets>=7.5.1->pandas-profiling==2.*) (0.2.5)\n",
            "Requirement already satisfied: ptyprocess>=0.5 in /usr/local/lib/python3.6/dist-packages (from pexpect; sys_platform != \"win32\"->ipython>=4.0.0; python_version >= \"3.3\"->ipywidgets>=7.5.1->pandas-profiling==2.*) (0.6.0)\n",
            "Requirement already satisfied: pandocfilters>=1.4.1 in /usr/local/lib/python3.6/dist-packages (from nbconvert->notebook>=4.4.1->widgetsnbextension~=3.5.0->ipywidgets>=7.5.1->pandas-profiling==2.*) (1.4.2)\n",
            "Requirement already satisfied: defusedxml in /usr/local/lib/python3.6/dist-packages (from nbconvert->notebook>=4.4.1->widgetsnbextension~=3.5.0->ipywidgets>=7.5.1->pandas-profiling==2.*) (0.6.0)\n",
            "Requirement already satisfied: entrypoints>=0.2.2 in /usr/local/lib/python3.6/dist-packages (from nbconvert->notebook>=4.4.1->widgetsnbextension~=3.5.0->ipywidgets>=7.5.1->pandas-profiling==2.*) (0.3)\n",
            "Requirement already satisfied: testpath in /usr/local/lib/python3.6/dist-packages (from nbconvert->notebook>=4.4.1->widgetsnbextension~=3.5.0->ipywidgets>=7.5.1->pandas-profiling==2.*) (0.4.4)\n",
            "Requirement already satisfied: bleach in /usr/local/lib/python3.6/dist-packages (from nbconvert->notebook>=4.4.1->widgetsnbextension~=3.5.0->ipywidgets>=7.5.1->pandas-profiling==2.*) (3.2.0)\n",
            "Requirement already satisfied: mistune<2,>=0.8.1 in /usr/local/lib/python3.6/dist-packages (from nbconvert->notebook>=4.4.1->widgetsnbextension~=3.5.0->ipywidgets>=7.5.1->pandas-profiling==2.*) (0.8.4)\n",
            "Requirement already satisfied: webencodings in /usr/local/lib/python3.6/dist-packages (from bleach->nbconvert->notebook>=4.4.1->widgetsnbextension~=3.5.0->ipywidgets>=7.5.1->pandas-profiling==2.*) (0.5.1)\n",
            "Requirement already satisfied: packaging in /usr/local/lib/python3.6/dist-packages (from bleach->nbconvert->notebook>=4.4.1->widgetsnbextension~=3.5.0->ipywidgets>=7.5.1->pandas-profiling==2.*) (20.4)\n",
            "Building wheels for collected packages: htmlmin, imagehash\n",
            "  Building wheel for htmlmin (setup.py) ... \u001b[?25l\u001b[?25hdone\n",
            "  Created wheel for htmlmin: filename=htmlmin-0.1.12-cp36-none-any.whl size=27085 sha256=0ae16307172b1b32f3f1dac38251f3f6474c8016dafd5d525bf6d71cb02f3b84\n",
            "  Stored in directory: /root/.cache/pip/wheels/43/07/ac/7c5a9d708d65247ac1f94066cf1db075540b85716c30255459\n",
            "  Building wheel for imagehash (setup.py) ... \u001b[?25l\u001b[?25hdone\n",
            "  Created wheel for imagehash: filename=ImageHash-4.1.0-py2.py3-none-any.whl size=291991 sha256=fd05b1463040234ce355c37e478485b79be335a2a8d8344146503cfeaa385a8d\n",
            "  Stored in directory: /root/.cache/pip/wheels/07/1c/dc/6831446f09feb8cc199ec73a0f2f0703253f6ae013a22f4be9\n",
            "Successfully built htmlmin imagehash\n",
            "Installing collected packages: phik, confuse, htmlmin, tangled-up-in-unicode, imagehash, visions, tqdm, pandas-profiling\n",
            "  Found existing installation: tqdm 4.41.1\n",
            "    Uninstalling tqdm-4.41.1:\n",
            "      Successfully uninstalled tqdm-4.41.1\n",
            "  Found existing installation: pandas-profiling 1.4.1\n",
            "    Uninstalling pandas-profiling-1.4.1:\n",
            "      Successfully uninstalled pandas-profiling-1.4.1\n",
            "Successfully installed confuse-1.3.0 htmlmin-0.1.12 imagehash-4.1.0 pandas-profiling-2.9.0 phik-0.10.0 tangled-up-in-unicode-0.0.6 tqdm-4.49.0 visions-0.5.0\n",
            "Requirement already satisfied: plotly==4.* in /usr/local/lib/python3.6/dist-packages (4.4.1)\n",
            "Requirement already satisfied: six in /usr/local/lib/python3.6/dist-packages (from plotly==4.*) (1.15.0)\n",
            "Requirement already satisfied: retrying>=1.3.3 in /usr/local/lib/python3.6/dist-packages (from plotly==4.*) (1.3.3)\n"
          ],
          "name": "stdout"
        }
      ]
    },
    {
      "cell_type": "markdown",
      "metadata": {
        "id": "Q7u1KtsnOi78"
      },
      "source": [
        "# Part 1, Classification: Predict Blood Donations 🚑\n",
        "Our dataset is from a mobile blood donation vehicle in Taiwan. The Blood Transfusion Service Center drives to different universities and collects blood as part of a blood drive.\n",
        "\n",
        "The goal is to predict whether the donor made a donation in March 2007, using information about each donor's history.\n",
        "\n",
        "Good data-driven systems for tracking and predicting donations and supply needs can improve the entire supply chain, making sure that more patients get the blood transfusions they need."
      ]
    },
    {
      "cell_type": "code",
      "metadata": {
        "id": "gJzpgv-fO4rh"
      },
      "source": [
        "import pandas as pd\n",
        "\n",
        "donors = pd.read_csv('https://archive.ics.uci.edu/ml/machine-learning-databases/blood-transfusion/transfusion.data')\n",
        "assert donors.shape == (748,5)\n",
        "\n",
        "donors = donors.rename(columns={\n",
        "    'Recency (months)': 'months_since_last_donation', \n",
        "    'Frequency (times)': 'number_of_donations', \n",
        "    'Monetary (c.c. blood)': 'total_volume_donated', \n",
        "    'Time (months)': 'months_since_first_donation', \n",
        "    'whether he/she donated blood in March 2007': 'made_donation_in_march_2007'\n",
        "})"
      ],
      "execution_count": null,
      "outputs": []
    },
    {
      "cell_type": "code",
      "metadata": {
        "id": "kdJ95XAYWM4h",
        "colab": {
          "base_uri": "https://localhost:8080/",
          "height": 215
        },
        "outputId": "eb40b939-d5bb-45d9-ce51-09b18620943e"
      },
      "source": [
        "donors.head()"
      ],
      "execution_count": null,
      "outputs": [
        {
          "output_type": "execute_result",
          "data": {
            "text/html": [
              "<div>\n",
              "<style scoped>\n",
              "    .dataframe tbody tr th:only-of-type {\n",
              "        vertical-align: middle;\n",
              "    }\n",
              "\n",
              "    .dataframe tbody tr th {\n",
              "        vertical-align: top;\n",
              "    }\n",
              "\n",
              "    .dataframe thead th {\n",
              "        text-align: right;\n",
              "    }\n",
              "</style>\n",
              "<table border=\"1\" class=\"dataframe\">\n",
              "  <thead>\n",
              "    <tr style=\"text-align: right;\">\n",
              "      <th></th>\n",
              "      <th>months_since_last_donation</th>\n",
              "      <th>number_of_donations</th>\n",
              "      <th>total_volume_donated</th>\n",
              "      <th>months_since_first_donation</th>\n",
              "      <th>made_donation_in_march_2007</th>\n",
              "    </tr>\n",
              "  </thead>\n",
              "  <tbody>\n",
              "    <tr>\n",
              "      <th>0</th>\n",
              "      <td>2</td>\n",
              "      <td>50</td>\n",
              "      <td>12500</td>\n",
              "      <td>98</td>\n",
              "      <td>1</td>\n",
              "    </tr>\n",
              "    <tr>\n",
              "      <th>1</th>\n",
              "      <td>0</td>\n",
              "      <td>13</td>\n",
              "      <td>3250</td>\n",
              "      <td>28</td>\n",
              "      <td>1</td>\n",
              "    </tr>\n",
              "    <tr>\n",
              "      <th>2</th>\n",
              "      <td>1</td>\n",
              "      <td>16</td>\n",
              "      <td>4000</td>\n",
              "      <td>35</td>\n",
              "      <td>1</td>\n",
              "    </tr>\n",
              "    <tr>\n",
              "      <th>3</th>\n",
              "      <td>2</td>\n",
              "      <td>20</td>\n",
              "      <td>5000</td>\n",
              "      <td>45</td>\n",
              "      <td>1</td>\n",
              "    </tr>\n",
              "    <tr>\n",
              "      <th>4</th>\n",
              "      <td>1</td>\n",
              "      <td>24</td>\n",
              "      <td>6000</td>\n",
              "      <td>77</td>\n",
              "      <td>0</td>\n",
              "    </tr>\n",
              "  </tbody>\n",
              "</table>\n",
              "</div>"
            ],
            "text/plain": [
              "   months_since_last_donation  ...  made_donation_in_march_2007\n",
              "0                           2  ...                            1\n",
              "1                           0  ...                            1\n",
              "2                           1  ...                            1\n",
              "3                           2  ...                            1\n",
              "4                           1  ...                            0\n",
              "\n",
              "[5 rows x 5 columns]"
            ]
          },
          "metadata": {
            "tags": []
          },
          "execution_count": 133
        }
      ]
    },
    {
      "cell_type": "markdown",
      "metadata": {
        "id": "oU4oE0LJMG7X"
      },
      "source": [
        "Notice that the majority class (did not donate blood in March 2007) occurs about 3/4 of the time. \n",
        "\n",
        "This is the accuracy score for the \"majority class baseline\" (the accuracy score we'd get by just guessing the majority class every time)."
      ]
    },
    {
      "cell_type": "code",
      "metadata": {
        "id": "TgRp5slvLzJs",
        "colab": {
          "base_uri": "https://localhost:8080/",
          "height": 67
        },
        "outputId": "3eb8c6f2-1e9b-4a69-ff85-96f0c8993ea9"
      },
      "source": [
        "donors['made_donation_in_march_2007'].value_counts(normalize=True)"
      ],
      "execution_count": null,
      "outputs": [
        {
          "output_type": "execute_result",
          "data": {
            "text/plain": [
              "0    0.762032\n",
              "1    0.237968\n",
              "Name: made_donation_in_march_2007, dtype: float64"
            ]
          },
          "metadata": {
            "tags": []
          },
          "execution_count": 134
        }
      ]
    },
    {
      "cell_type": "markdown",
      "metadata": {
        "id": "P66Fpcq1PYZl"
      },
      "source": [
        "## 1.1. Do train/test split. Arrange data into X features matrix and y target vector\n",
        "\n",
        "Do these steps in either order.\n",
        "\n",
        "Use scikit-learn's train/test split function to split randomly. (You can include 75% of the data in the train set, and hold out 25% for the test set, which is the default.)"
      ]
    },
    {
      "cell_type": "code",
      "metadata": {
        "id": "InhicZeZPX8L"
      },
      "source": [
        "import pandas as pd\n",
        "\n",
        "from sklearn.model_selection import train_test_split\n",
        "from sklearn.linear_model import LinearRegression\n",
        "from sklearn import metrics\n",
        "import numpy as np\n",
        "import matplotlib.pyplot as plt\n",
        "\n",
        "import seaborn as sns"
      ],
      "execution_count": null,
      "outputs": []
    },
    {
      "cell_type": "code",
      "metadata": {
        "id": "3dq6NVQdWx31",
        "colab": {
          "base_uri": "https://localhost:8080/",
          "height": 118
        },
        "outputId": "58ea3c4f-517b-448e-ce14-b8e0fae091a2"
      },
      "source": [
        "donors.isnull().sum()"
      ],
      "execution_count": null,
      "outputs": [
        {
          "output_type": "execute_result",
          "data": {
            "text/plain": [
              "months_since_last_donation     0\n",
              "number_of_donations            0\n",
              "total_volume_donated           0\n",
              "months_since_first_donation    0\n",
              "made_donation_in_march_2007    0\n",
              "dtype: int64"
            ]
          },
          "metadata": {
            "tags": []
          },
          "execution_count": 136
        }
      ]
    },
    {
      "cell_type": "code",
      "metadata": {
        "id": "TOH6x88VWyRB"
      },
      "source": [
        "from sklearn.model_selection import train_test_split"
      ],
      "execution_count": null,
      "outputs": []
    },
    {
      "cell_type": "code",
      "metadata": {
        "id": "pSP6UpldZYEB"
      },
      "source": [
        "#Target variable\n",
        "y = donors['made_donation_in_march_2007']\n",
        "\n",
        "#Feature variables: frequency and elligibility to donate again \n",
        "x = donors[['months_since_last_donation','number_of_donations']]"
      ],
      "execution_count": null,
      "outputs": []
    },
    {
      "cell_type": "code",
      "metadata": {
        "id": "SNy1ypORXHUK"
      },
      "source": [
        "X_train, X_test, y_train, y_test = train_test_split(x, y, test_size=0.25, random_state=42)"
      ],
      "execution_count": null,
      "outputs": []
    },
    {
      "cell_type": "code",
      "metadata": {
        "id": "tCFhc6TWZYUp",
        "colab": {
          "base_uri": "https://localhost:8080/",
          "height": 286
        },
        "outputId": "ef3de8b2-f885-459a-d8c2-3425b137c79b"
      },
      "source": [
        "y_test[:15]"
      ],
      "execution_count": null,
      "outputs": [
        {
          "output_type": "execute_result",
          "data": {
            "text/plain": [
              "580    0\n",
              "356    0\n",
              "133    0\n",
              "250    0\n",
              "299    0\n",
              "388    0\n",
              "336    0\n",
              "155    0\n",
              "527    0\n",
              "734    0\n",
              "97     1\n",
              "306    0\n",
              "281    1\n",
              "744    0\n",
              "211    0\n",
              "Name: made_donation_in_march_2007, dtype: int64"
            ]
          },
          "metadata": {
            "tags": []
          },
          "execution_count": 140
        }
      ]
    },
    {
      "cell_type": "code",
      "metadata": {
        "id": "W4NvSxNcXHh3",
        "colab": {
          "base_uri": "https://localhost:8080/",
          "height": 353
        },
        "outputId": "8f3b4d9b-fd0e-4090-c480-217086eb05ec"
      },
      "source": [
        "import statsmodels.api as sm\n",
        "logit_model=sm.Logit(y,x)\n",
        "result=logit_model.fit()\n",
        "print(result.summary2())"
      ],
      "execution_count": null,
      "outputs": [
        {
          "output_type": "stream",
          "text": [
            "Optimization terminated successfully.\n",
            "         Current function value: 0.494016\n",
            "         Iterations 6\n",
            "                               Results: Logit\n",
            "============================================================================\n",
            "Model:              Logit                       Pseudo R-squared: 0.100     \n",
            "Dependent Variable: made_donation_in_march_2007 AIC:              743.0475  \n",
            "Date:               2020-09-14 02:46            BIC:              752.2823  \n",
            "No. Observations:   748                         Log-Likelihood:   -369.52   \n",
            "Df Model:           1                           LL-Null:          -410.45   \n",
            "Df Residuals:       746                         LLR p-value:      1.4705e-19\n",
            "Converged:          1.0000                      Scale:            1.0000    \n",
            "No. Iterations:     6.0000                                                  \n",
            "----------------------------------------------------------------------------\n",
            "                             Coef.  Std.Err.    z     P>|z|   [0.025  0.975]\n",
            "----------------------------------------------------------------------------\n",
            "months_since_last_donation  -0.1598   0.0135 -11.8443 0.0000 -0.1863 -0.1334\n",
            "number_of_donations          0.0301   0.0118   2.5440 0.0110  0.0069  0.0534\n",
            "============================================================================\n",
            "\n"
          ],
          "name": "stdout"
        }
      ]
    },
    {
      "cell_type": "markdown",
      "metadata": {
        "id": "ln9fqAghRmQT"
      },
      "source": [
        "## 1.2. Use scikit-learn to fit a logistic regression model\n",
        "\n",
        "You may use any number of features"
      ]
    },
    {
      "cell_type": "code",
      "metadata": {
        "id": "a2jf_deRRl64",
        "colab": {
          "base_uri": "https://localhost:8080/",
          "height": 101
        },
        "outputId": "c87b54ed-be77-4b6f-a049-b5db65302f5c"
      },
      "source": [
        "from sklearn.linear_model import LogisticRegression\n",
        "from sklearn import metrics\n",
        "X_train, X_test, y_train, y_test = train_test_split(x, y, test_size=0.25, random_state=42)\n",
        "logreg = LogisticRegression()\n",
        "logreg.fit(X_train, y_train)"
      ],
      "execution_count": null,
      "outputs": [
        {
          "output_type": "execute_result",
          "data": {
            "text/plain": [
              "LogisticRegression(C=1.0, class_weight=None, dual=False, fit_intercept=True,\n",
              "                   intercept_scaling=1, l1_ratio=None, max_iter=100,\n",
              "                   multi_class='auto', n_jobs=None, penalty='l2',\n",
              "                   random_state=None, solver='lbfgs', tol=0.0001, verbose=0,\n",
              "                   warm_start=False)"
            ]
          },
          "metadata": {
            "tags": []
          },
          "execution_count": 147
        }
      ]
    },
    {
      "cell_type": "code",
      "metadata": {
        "id": "K7IP9jE-iYQp"
      },
      "source": [
        "y_pred = logreg.predict(X_test)"
      ],
      "execution_count": null,
      "outputs": []
    },
    {
      "cell_type": "code",
      "metadata": {
        "id": "Oh2yVAUolKJm",
        "colab": {
          "base_uri": "https://localhost:8080/",
          "height": 168
        },
        "outputId": "859bd32c-f280-4ca1-e61f-5b03008e4932"
      },
      "source": [
        "from sklearn.metrics import classification_report\n",
        "print(classification_report(y_test, y_pred))"
      ],
      "execution_count": null,
      "outputs": [
        {
          "output_type": "stream",
          "text": [
            "              precision    recall  f1-score   support\n",
            "\n",
            "           0       0.76      0.98      0.85       139\n",
            "           1       0.57      0.08      0.15        48\n",
            "\n",
            "    accuracy                           0.75       187\n",
            "   macro avg       0.66      0.53      0.50       187\n",
            "weighted avg       0.71      0.75      0.67       187\n",
            "\n"
          ],
          "name": "stdout"
        }
      ]
    },
    {
      "cell_type": "code",
      "metadata": {
        "id": "sjNgiBYflKFw",
        "colab": {
          "base_uri": "https://localhost:8080/",
          "height": 50
        },
        "outputId": "3b0d87ac-fc2a-4ddf-a514-20978c5a3d2b"
      },
      "source": [
        "from sklearn.metrics import confusion_matrix\n",
        "confusion_matrix = confusion_matrix(y_test, y_pred)\n",
        "print(confusion_matrix)"
      ],
      "execution_count": null,
      "outputs": [
        {
          "output_type": "stream",
          "text": [
            "[[136   3]\n",
            " [ 44   4]]\n"
          ],
          "name": "stdout"
        }
      ]
    },
    {
      "cell_type": "markdown",
      "metadata": {
        "id": "Ah6EhiRVSusy"
      },
      "source": [
        "## 1.3. Report classification metric: accuracy\n",
        "\n",
        "What is your model's accuracy on the test set?\n",
        "\n",
        "Don't worry if your model doesn't beat the majority class baseline. That's okay!\n",
        "\n",
        "_\"The combination of some data and an aching desire for an answer does not ensure that a reasonable answer can be extracted from a given body of data.\"_ —[John Tukey](https://en.wikiquote.org/wiki/John_Tukey)\n",
        "\n",
        "(Also, if we used recall score instead of accuracy score, then your model would almost certainly beat the baseline. We'll discuss how to choose and interpret evaluation metrics throughout this unit.)\n"
      ]
    },
    {
      "cell_type": "code",
      "metadata": {
        "id": "ZfJ2NFsASt9_",
        "colab": {
          "base_uri": "https://localhost:8080/",
          "height": 34
        },
        "outputId": "d236a354-9022-4ac3-a628-c542974da352"
      },
      "source": [
        "y_pred = logreg.predict(X_test)\n",
        "print('Accuracy of logistic regression classifier on test set: {:.2f}'.format(logreg.score(X_test, y_test)))"
      ],
      "execution_count": null,
      "outputs": [
        {
          "output_type": "stream",
          "text": [
            "Accuracy of logistic regression classifier on test set: 0.75\n"
          ],
          "name": "stdout"
        }
      ]
    },
    {
      "cell_type": "code",
      "metadata": {
        "id": "k6VJiw5wlwLd",
        "colab": {
          "base_uri": "https://localhost:8080/",
          "height": 295
        },
        "outputId": "0ce0114a-a141-48e4-d214-379256dad7d3"
      },
      "source": [
        "from sklearn.metrics import roc_auc_score\n",
        "from sklearn.metrics import roc_curve\n",
        "logit_roc_auc = roc_auc_score(y_test, logreg.predict(X_test))\n",
        "fpr, tpr, thresholds = roc_curve(y_test, logreg.predict_proba(X_test)[:,1])\n",
        "plt.figure()\n",
        "plt.plot(fpr, tpr, label='Logistic Regression (area = %0.2f)' % logit_roc_auc)\n",
        "plt.plot([0, 1], [0, 1],'r--')\n",
        "plt.xlim([0.0, 1.0])\n",
        "plt.ylim([0.0, 1.05])\n",
        "plt.xlabel('False Positive Rate')\n",
        "plt.ylabel('True Positive Rate')\n",
        "plt.title('Receiver operating characteristic')\n",
        "plt.legend(loc=\"lower right\")\n",
        "plt.savefig('Log_ROC')\n",
        "plt.show()"
      ],
      "execution_count": null,
      "outputs": [
        {
          "output_type": "display_data",
          "data": {
            "image/png": "[encoded data removed]",
            "text/plain": [
              "<Figure size 432x288 with 1 Axes>"
            ]
          },
          "metadata": {
            "tags": [],
            "needs_background": "light"
          }
        }
      ]
    },
    {
      "cell_type": "markdown",
      "metadata": {
        "id": "xDmZn3ApOM7t"
      },
      "source": [
        "# Part 2, Regression: Predict home prices in Ames, Iowa 🏠\n",
        "\n",
        "You'll use historical housing data. ***There's a data dictionary at the bottom of the notebook.*** \n",
        "\n",
        "Run this code cell to load the dataset:\n",
        "\n",
        "\n",
        "\n"
      ]
    },
    {
      "cell_type": "code",
      "metadata": {
        "id": "7ptoRG1lu7H4"
      },
      "source": [
        "import pandas as pd\n",
        "URL = 'https://drive.google.com/uc?export=download&id=1522WlEW6HFss36roD_Cd9nybqSuiVcCK'\n",
        "homes = pd.read_csv(URL)\n",
        "assert homes.shape == (2904, 47)"
      ],
      "execution_count": null,
      "outputs": []
    },
    {
      "cell_type": "code",
      "metadata": {
        "id": "6yP9Zpato72D",
        "colab": {
          "base_uri": "https://localhost:8080/",
          "height": 215
        },
        "outputId": "7ec9809d-5965-48ca-c400-155c4edfff0a"
      },
      "source": [
        "homes.head()"
      ],
      "execution_count": null,
      "outputs": [
        {
          "output_type": "execute_result",
          "data": {
            "text/html": [
              "<div>\n",
              "<style scoped>\n",
              "    .dataframe tbody tr th:only-of-type {\n",
              "        vertical-align: middle;\n",
              "    }\n",
              "\n",
              "    .dataframe tbody tr th {\n",
              "        vertical-align: top;\n",
              "    }\n",
              "\n",
              "    .dataframe thead th {\n",
              "        text-align: right;\n",
              "    }\n",
              "</style>\n",
              "<table border=\"1\" class=\"dataframe\">\n",
              "  <thead>\n",
              "    <tr style=\"text-align: right;\">\n",
              "      <th></th>\n",
              "      <th>1st_Flr_SF</th>\n",
              "      <th>Bedroom_AbvGr</th>\n",
              "      <th>Bldg_Type</th>\n",
              "      <th>Bsmt_Full_Bath</th>\n",
              "      <th>Bsmt_Half_Bath</th>\n",
              "      <th>Central_Air</th>\n",
              "      <th>Condition_1</th>\n",
              "      <th>Condition_2</th>\n",
              "      <th>Electrical</th>\n",
              "      <th>Exter_Cond</th>\n",
              "      <th>Exter_Qual</th>\n",
              "      <th>Exterior_1st</th>\n",
              "      <th>Exterior_2nd</th>\n",
              "      <th>Foundation</th>\n",
              "      <th>Full_Bath</th>\n",
              "      <th>Functional</th>\n",
              "      <th>Gr_Liv_Area</th>\n",
              "      <th>Half_Bath</th>\n",
              "      <th>Heating</th>\n",
              "      <th>Heating_QC</th>\n",
              "      <th>House_Style</th>\n",
              "      <th>Kitchen_AbvGr</th>\n",
              "      <th>Kitchen_Qual</th>\n",
              "      <th>Land_Contour</th>\n",
              "      <th>Land_Slope</th>\n",
              "      <th>Lot_Area</th>\n",
              "      <th>Lot_Config</th>\n",
              "      <th>Lot_Shape</th>\n",
              "      <th>MS_SubClass</th>\n",
              "      <th>MS_Zoning</th>\n",
              "      <th>Mas_Vnr_Type</th>\n",
              "      <th>Mo_Sold</th>\n",
              "      <th>Neighborhood</th>\n",
              "      <th>Overall_Cond</th>\n",
              "      <th>Overall_Qual</th>\n",
              "      <th>Paved_Drive</th>\n",
              "      <th>Roof_Matl</th>\n",
              "      <th>Roof_Style</th>\n",
              "      <th>SalePrice</th>\n",
              "      <th>Sale_Condition</th>\n",
              "      <th>Sale_Type</th>\n",
              "      <th>Street</th>\n",
              "      <th>TotRms_AbvGrd</th>\n",
              "      <th>Utilities</th>\n",
              "      <th>Year_Built</th>\n",
              "      <th>Year_Remod/Add</th>\n",
              "      <th>Yr_Sold</th>\n",
              "    </tr>\n",
              "  </thead>\n",
              "  <tbody>\n",
              "    <tr>\n",
              "      <th>0</th>\n",
              "      <td>1656</td>\n",
              "      <td>3</td>\n",
              "      <td>1Fam</td>\n",
              "      <td>1.0</td>\n",
              "      <td>0.0</td>\n",
              "      <td>Y</td>\n",
              "      <td>Norm</td>\n",
              "      <td>Norm</td>\n",
              "      <td>SBrkr</td>\n",
              "      <td>TA</td>\n",
              "      <td>TA</td>\n",
              "      <td>BrkFace</td>\n",
              "      <td>Plywood</td>\n",
              "      <td>CBlock</td>\n",
              "      <td>1</td>\n",
              "      <td>Typ</td>\n",
              "      <td>1656</td>\n",
              "      <td>0</td>\n",
              "      <td>GasA</td>\n",
              "      <td>Fa</td>\n",
              "      <td>1Story</td>\n",
              "      <td>1</td>\n",
              "      <td>TA</td>\n",
              "      <td>Lvl</td>\n",
              "      <td>Gtl</td>\n",
              "      <td>31770</td>\n",
              "      <td>Corner</td>\n",
              "      <td>IR1</td>\n",
              "      <td>20</td>\n",
              "      <td>RL</td>\n",
              "      <td>Stone</td>\n",
              "      <td>5</td>\n",
              "      <td>NAmes</td>\n",
              "      <td>5</td>\n",
              "      <td>6</td>\n",
              "      <td>P</td>\n",
              "      <td>CompShg</td>\n",
              "      <td>Hip</td>\n",
              "      <td>215000</td>\n",
              "      <td>Normal</td>\n",
              "      <td>WD</td>\n",
              "      <td>Pave</td>\n",
              "      <td>7</td>\n",
              "      <td>AllPub</td>\n",
              "      <td>1960</td>\n",
              "      <td>1960</td>\n",
              "      <td>2010</td>\n",
              "    </tr>\n",
              "    <tr>\n",
              "      <th>1</th>\n",
              "      <td>896</td>\n",
              "      <td>2</td>\n",
              "      <td>1Fam</td>\n",
              "      <td>0.0</td>\n",
              "      <td>0.0</td>\n",
              "      <td>Y</td>\n",
              "      <td>Feedr</td>\n",
              "      <td>Norm</td>\n",
              "      <td>SBrkr</td>\n",
              "      <td>TA</td>\n",
              "      <td>TA</td>\n",
              "      <td>VinylSd</td>\n",
              "      <td>VinylSd</td>\n",
              "      <td>CBlock</td>\n",
              "      <td>1</td>\n",
              "      <td>Typ</td>\n",
              "      <td>896</td>\n",
              "      <td>0</td>\n",
              "      <td>GasA</td>\n",
              "      <td>TA</td>\n",
              "      <td>1Story</td>\n",
              "      <td>1</td>\n",
              "      <td>TA</td>\n",
              "      <td>Lvl</td>\n",
              "      <td>Gtl</td>\n",
              "      <td>11622</td>\n",
              "      <td>Inside</td>\n",
              "      <td>Reg</td>\n",
              "      <td>20</td>\n",
              "      <td>RH</td>\n",
              "      <td>None</td>\n",
              "      <td>6</td>\n",
              "      <td>NAmes</td>\n",
              "      <td>6</td>\n",
              "      <td>5</td>\n",
              "      <td>Y</td>\n",
              "      <td>CompShg</td>\n",
              "      <td>Gable</td>\n",
              "      <td>105000</td>\n",
              "      <td>Normal</td>\n",
              "      <td>WD</td>\n",
              "      <td>Pave</td>\n",
              "      <td>5</td>\n",
              "      <td>AllPub</td>\n",
              "      <td>1961</td>\n",
              "      <td>1961</td>\n",
              "      <td>2010</td>\n",
              "    </tr>\n",
              "    <tr>\n",
              "      <th>2</th>\n",
              "      <td>1329</td>\n",
              "      <td>3</td>\n",
              "      <td>1Fam</td>\n",
              "      <td>0.0</td>\n",
              "      <td>0.0</td>\n",
              "      <td>Y</td>\n",
              "      <td>Norm</td>\n",
              "      <td>Norm</td>\n",
              "      <td>SBrkr</td>\n",
              "      <td>TA</td>\n",
              "      <td>TA</td>\n",
              "      <td>Wd Sdng</td>\n",
              "      <td>Wd Sdng</td>\n",
              "      <td>CBlock</td>\n",
              "      <td>1</td>\n",
              "      <td>Typ</td>\n",
              "      <td>1329</td>\n",
              "      <td>1</td>\n",
              "      <td>GasA</td>\n",
              "      <td>TA</td>\n",
              "      <td>1Story</td>\n",
              "      <td>1</td>\n",
              "      <td>Gd</td>\n",
              "      <td>Lvl</td>\n",
              "      <td>Gtl</td>\n",
              "      <td>14267</td>\n",
              "      <td>Corner</td>\n",
              "      <td>IR1</td>\n",
              "      <td>20</td>\n",
              "      <td>RL</td>\n",
              "      <td>BrkFace</td>\n",
              "      <td>6</td>\n",
              "      <td>NAmes</td>\n",
              "      <td>6</td>\n",
              "      <td>6</td>\n",
              "      <td>Y</td>\n",
              "      <td>CompShg</td>\n",
              "      <td>Hip</td>\n",
              "      <td>172000</td>\n",
              "      <td>Normal</td>\n",
              "      <td>WD</td>\n",
              "      <td>Pave</td>\n",
              "      <td>6</td>\n",
              "      <td>AllPub</td>\n",
              "      <td>1958</td>\n",
              "      <td>1958</td>\n",
              "      <td>2010</td>\n",
              "    </tr>\n",
              "    <tr>\n",
              "      <th>3</th>\n",
              "      <td>2110</td>\n",
              "      <td>3</td>\n",
              "      <td>1Fam</td>\n",
              "      <td>1.0</td>\n",
              "      <td>0.0</td>\n",
              "      <td>Y</td>\n",
              "      <td>Norm</td>\n",
              "      <td>Norm</td>\n",
              "      <td>SBrkr</td>\n",
              "      <td>TA</td>\n",
              "      <td>Gd</td>\n",
              "      <td>BrkFace</td>\n",
              "      <td>BrkFace</td>\n",
              "      <td>CBlock</td>\n",
              "      <td>2</td>\n",
              "      <td>Typ</td>\n",
              "      <td>2110</td>\n",
              "      <td>1</td>\n",
              "      <td>GasA</td>\n",
              "      <td>Ex</td>\n",
              "      <td>1Story</td>\n",
              "      <td>1</td>\n",
              "      <td>Ex</td>\n",
              "      <td>Lvl</td>\n",
              "      <td>Gtl</td>\n",
              "      <td>11160</td>\n",
              "      <td>Corner</td>\n",
              "      <td>Reg</td>\n",
              "      <td>20</td>\n",
              "      <td>RL</td>\n",
              "      <td>None</td>\n",
              "      <td>4</td>\n",
              "      <td>NAmes</td>\n",
              "      <td>5</td>\n",
              "      <td>7</td>\n",
              "      <td>Y</td>\n",
              "      <td>CompShg</td>\n",
              "      <td>Hip</td>\n",
              "      <td>244000</td>\n",
              "      <td>Normal</td>\n",
              "      <td>WD</td>\n",
              "      <td>Pave</td>\n",
              "      <td>8</td>\n",
              "      <td>AllPub</td>\n",
              "      <td>1968</td>\n",
              "      <td>1968</td>\n",
              "      <td>2010</td>\n",
              "    </tr>\n",
              "    <tr>\n",
              "      <th>4</th>\n",
              "      <td>928</td>\n",
              "      <td>3</td>\n",
              "      <td>1Fam</td>\n",
              "      <td>0.0</td>\n",
              "      <td>0.0</td>\n",
              "      <td>Y</td>\n",
              "      <td>Norm</td>\n",
              "      <td>Norm</td>\n",
              "      <td>SBrkr</td>\n",
              "      <td>TA</td>\n",
              "      <td>TA</td>\n",
              "      <td>VinylSd</td>\n",
              "      <td>VinylSd</td>\n",
              "      <td>PConc</td>\n",
              "      <td>2</td>\n",
              "      <td>Typ</td>\n",
              "      <td>1629</td>\n",
              "      <td>1</td>\n",
              "      <td>GasA</td>\n",
              "      <td>Gd</td>\n",
              "      <td>2Story</td>\n",
              "      <td>1</td>\n",
              "      <td>TA</td>\n",
              "      <td>Lvl</td>\n",
              "      <td>Gtl</td>\n",
              "      <td>13830</td>\n",
              "      <td>Inside</td>\n",
              "      <td>IR1</td>\n",
              "      <td>60</td>\n",
              "      <td>RL</td>\n",
              "      <td>None</td>\n",
              "      <td>3</td>\n",
              "      <td>Gilbert</td>\n",
              "      <td>5</td>\n",
              "      <td>5</td>\n",
              "      <td>Y</td>\n",
              "      <td>CompShg</td>\n",
              "      <td>Gable</td>\n",
              "      <td>189900</td>\n",
              "      <td>Normal</td>\n",
              "      <td>WD</td>\n",
              "      <td>Pave</td>\n",
              "      <td>6</td>\n",
              "      <td>AllPub</td>\n",
              "      <td>1997</td>\n",
              "      <td>1998</td>\n",
              "      <td>2010</td>\n",
              "    </tr>\n",
              "  </tbody>\n",
              "</table>\n",
              "</div>"
            ],
            "text/plain": [
              "   1st_Flr_SF  Bedroom_AbvGr Bldg_Type  ...  Year_Built  Year_Remod/Add Yr_Sold\n",
              "0        1656              3      1Fam  ...        1960            1960    2010\n",
              "1         896              2      1Fam  ...        1961            1961    2010\n",
              "2        1329              3      1Fam  ...        1958            1958    2010\n",
              "3        2110              3      1Fam  ...        1968            1968    2010\n",
              "4         928              3      1Fam  ...        1997            1998    2010\n",
              "\n",
              "[5 rows x 47 columns]"
            ]
          },
          "metadata": {
            "tags": []
          },
          "execution_count": 156
        }
      ]
    },
    {
      "cell_type": "code",
      "metadata": {
        "id": "eg0MW8yyo8A_",
        "colab": {
          "base_uri": "https://localhost:8080/",
          "height": 600
        },
        "outputId": "acc1db15-edfe-4bab-9401-d367a1c365ce"
      },
      "source": [
        "corrs=homes.corr()\n",
        "corrs"
      ],
      "execution_count": null,
      "outputs": [
        {
          "output_type": "execute_result",
          "data": {
            "text/html": [
              "<div>\n",
              "<style scoped>\n",
              "    .dataframe tbody tr th:only-of-type {\n",
              "        vertical-align: middle;\n",
              "    }\n",
              "\n",
              "    .dataframe tbody tr th {\n",
              "        vertical-align: top;\n",
              "    }\n",
              "\n",
              "    .dataframe thead th {\n",
              "        text-align: right;\n",
              "    }\n",
              "</style>\n",
              "<table border=\"1\" class=\"dataframe\">\n",
              "  <thead>\n",
              "    <tr style=\"text-align: right;\">\n",
              "      <th></th>\n",
              "      <th>1st_Flr_SF</th>\n",
              "      <th>Bedroom_AbvGr</th>\n",
              "      <th>Bsmt_Full_Bath</th>\n",
              "      <th>Bsmt_Half_Bath</th>\n",
              "      <th>Full_Bath</th>\n",
              "      <th>Gr_Liv_Area</th>\n",
              "      <th>Half_Bath</th>\n",
              "      <th>Kitchen_AbvGr</th>\n",
              "      <th>Lot_Area</th>\n",
              "      <th>MS_SubClass</th>\n",
              "      <th>Mo_Sold</th>\n",
              "      <th>Overall_Cond</th>\n",
              "      <th>Overall_Qual</th>\n",
              "      <th>SalePrice</th>\n",
              "      <th>TotRms_AbvGrd</th>\n",
              "      <th>Year_Built</th>\n",
              "      <th>Year_Remod/Add</th>\n",
              "      <th>Yr_Sold</th>\n",
              "    </tr>\n",
              "  </thead>\n",
              "  <tbody>\n",
              "    <tr>\n",
              "      <th>1st_Flr_SF</th>\n",
              "      <td>1.000000</td>\n",
              "      <td>0.103504</td>\n",
              "      <td>0.262002</td>\n",
              "      <td>0.011453</td>\n",
              "      <td>0.369598</td>\n",
              "      <td>0.559269</td>\n",
              "      <td>-0.108080</td>\n",
              "      <td>0.072422</td>\n",
              "      <td>0.323763</td>\n",
              "      <td>-0.246788</td>\n",
              "      <td>0.038717</td>\n",
              "      <td>-0.159271</td>\n",
              "      <td>0.484824</td>\n",
              "      <td>0.625522</td>\n",
              "      <td>0.389427</td>\n",
              "      <td>0.317322</td>\n",
              "      <td>0.244881</td>\n",
              "      <td>-0.011096</td>\n",
              "    </tr>\n",
              "    <tr>\n",
              "      <th>Bedroom_AbvGr</th>\n",
              "      <td>0.103504</td>\n",
              "      <td>1.000000</td>\n",
              "      <td>-0.161262</td>\n",
              "      <td>0.020406</td>\n",
              "      <td>0.358343</td>\n",
              "      <td>0.515283</td>\n",
              "      <td>0.248429</td>\n",
              "      <td>0.240415</td>\n",
              "      <td>0.131601</td>\n",
              "      <td>-0.018295</td>\n",
              "      <td>0.056390</td>\n",
              "      <td>-0.006388</td>\n",
              "      <td>0.066016</td>\n",
              "      <td>0.144901</td>\n",
              "      <td>0.671047</td>\n",
              "      <td>-0.053987</td>\n",
              "      <td>-0.021297</td>\n",
              "      <td>-0.021135</td>\n",
              "    </tr>\n",
              "    <tr>\n",
              "      <th>Bsmt_Full_Bath</th>\n",
              "      <td>0.262002</td>\n",
              "      <td>-0.161262</td>\n",
              "      <td>1.000000</td>\n",
              "      <td>-0.149844</td>\n",
              "      <td>-0.020935</td>\n",
              "      <td>0.057701</td>\n",
              "      <td>-0.035369</td>\n",
              "      <td>-0.020393</td>\n",
              "      <td>0.125163</td>\n",
              "      <td>0.014355</td>\n",
              "      <td>-0.002737</td>\n",
              "      <td>-0.042198</td>\n",
              "      <td>0.168546</td>\n",
              "      <td>0.276769</td>\n",
              "      <td>-0.044031</td>\n",
              "      <td>0.214668</td>\n",
              "      <td>0.136486</td>\n",
              "      <td>0.045575</td>\n",
              "    </tr>\n",
              "    <tr>\n",
              "      <th>Bsmt_Half_Bath</th>\n",
              "      <td>0.011453</td>\n",
              "      <td>0.020406</td>\n",
              "      <td>-0.149844</td>\n",
              "      <td>1.000000</td>\n",
              "      <td>-0.044800</td>\n",
              "      <td>-0.042873</td>\n",
              "      <td>-0.057016</td>\n",
              "      <td>-0.064984</td>\n",
              "      <td>0.027171</td>\n",
              "      <td>-0.003696</td>\n",
              "      <td>0.023707</td>\n",
              "      <td>0.083517</td>\n",
              "      <td>-0.040219</td>\n",
              "      <td>-0.034730</td>\n",
              "      <td>-0.048101</td>\n",
              "      <td>-0.028634</td>\n",
              "      <td>-0.044547</td>\n",
              "      <td>-0.019915</td>\n",
              "    </tr>\n",
              "    <tr>\n",
              "      <th>Full_Bath</th>\n",
              "      <td>0.369598</td>\n",
              "      <td>0.358343</td>\n",
              "      <td>-0.020935</td>\n",
              "      <td>-0.044800</td>\n",
              "      <td>1.000000</td>\n",
              "      <td>0.630029</td>\n",
              "      <td>0.155499</td>\n",
              "      <td>0.170443</td>\n",
              "      <td>0.121190</td>\n",
              "      <td>0.138970</td>\n",
              "      <td>0.044232</td>\n",
              "      <td>-0.212105</td>\n",
              "      <td>0.523776</td>\n",
              "      <td>0.545927</td>\n",
              "      <td>0.528356</td>\n",
              "      <td>0.468618</td>\n",
              "      <td>0.455560</td>\n",
              "      <td>-0.003957</td>\n",
              "    </tr>\n",
              "    <tr>\n",
              "      <th>Gr_Liv_Area</th>\n",
              "      <td>0.559269</td>\n",
              "      <td>0.515283</td>\n",
              "      <td>0.057701</td>\n",
              "      <td>-0.042873</td>\n",
              "      <td>0.630029</td>\n",
              "      <td>1.000000</td>\n",
              "      <td>0.434327</td>\n",
              "      <td>0.116525</td>\n",
              "      <td>0.278829</td>\n",
              "      <td>0.070312</td>\n",
              "      <td>0.043635</td>\n",
              "      <td>-0.115766</td>\n",
              "      <td>0.574431</td>\n",
              "      <td>0.708095</td>\n",
              "      <td>0.807288</td>\n",
              "      <td>0.243151</td>\n",
              "      <td>0.317314</td>\n",
              "      <td>-0.026420</td>\n",
              "    </tr>\n",
              "    <tr>\n",
              "      <th>Half_Bath</th>\n",
              "      <td>-0.108080</td>\n",
              "      <td>0.248429</td>\n",
              "      <td>-0.035369</td>\n",
              "      <td>-0.057016</td>\n",
              "      <td>0.155499</td>\n",
              "      <td>0.434327</td>\n",
              "      <td>1.000000</td>\n",
              "      <td>-0.040391</td>\n",
              "      <td>0.034839</td>\n",
              "      <td>0.175882</td>\n",
              "      <td>-0.004410</td>\n",
              "      <td>-0.087259</td>\n",
              "      <td>0.266532</td>\n",
              "      <td>0.282205</td>\n",
              "      <td>0.347473</td>\n",
              "      <td>0.266079</td>\n",
              "      <td>0.207873</td>\n",
              "      <td>0.002886</td>\n",
              "    </tr>\n",
              "    <tr>\n",
              "      <th>Kitchen_AbvGr</th>\n",
              "      <td>0.072422</td>\n",
              "      <td>0.240415</td>\n",
              "      <td>-0.020393</td>\n",
              "      <td>-0.064984</td>\n",
              "      <td>0.170443</td>\n",
              "      <td>0.116525</td>\n",
              "      <td>-0.040391</td>\n",
              "      <td>1.000000</td>\n",
              "      <td>-0.024624</td>\n",
              "      <td>0.260240</td>\n",
              "      <td>0.038117</td>\n",
              "      <td>-0.083959</td>\n",
              "      <td>-0.159844</td>\n",
              "      <td>-0.120238</td>\n",
              "      <td>0.294340</td>\n",
              "      <td>-0.136594</td>\n",
              "      <td>-0.141325</td>\n",
              "      <td>0.036368</td>\n",
              "    </tr>\n",
              "    <tr>\n",
              "      <th>Lot_Area</th>\n",
              "      <td>0.323763</td>\n",
              "      <td>0.131601</td>\n",
              "      <td>0.125163</td>\n",
              "      <td>0.027171</td>\n",
              "      <td>0.121190</td>\n",
              "      <td>0.278829</td>\n",
              "      <td>0.034839</td>\n",
              "      <td>-0.024624</td>\n",
              "      <td>1.000000</td>\n",
              "      <td>-0.203376</td>\n",
              "      <td>0.004117</td>\n",
              "      <td>-0.034616</td>\n",
              "      <td>0.098892</td>\n",
              "      <td>0.265802</td>\n",
              "      <td>0.211162</td>\n",
              "      <td>0.024609</td>\n",
              "      <td>0.021248</td>\n",
              "      <td>-0.022190</td>\n",
              "    </tr>\n",
              "    <tr>\n",
              "      <th>MS_SubClass</th>\n",
              "      <td>-0.246788</td>\n",
              "      <td>-0.018295</td>\n",
              "      <td>0.014355</td>\n",
              "      <td>-0.003696</td>\n",
              "      <td>0.138970</td>\n",
              "      <td>0.070312</td>\n",
              "      <td>0.175882</td>\n",
              "      <td>0.260240</td>\n",
              "      <td>-0.203376</td>\n",
              "      <td>1.000000</td>\n",
              "      <td>0.001079</td>\n",
              "      <td>-0.068193</td>\n",
              "      <td>0.040691</td>\n",
              "      <td>-0.083644</td>\n",
              "      <td>0.032881</td>\n",
              "      <td>0.037647</td>\n",
              "      <td>0.044437</td>\n",
              "      <td>-0.018376</td>\n",
              "    </tr>\n",
              "    <tr>\n",
              "      <th>Mo_Sold</th>\n",
              "      <td>0.038717</td>\n",
              "      <td>0.056390</td>\n",
              "      <td>-0.002737</td>\n",
              "      <td>0.023707</td>\n",
              "      <td>0.044232</td>\n",
              "      <td>0.043635</td>\n",
              "      <td>-0.004410</td>\n",
              "      <td>0.038117</td>\n",
              "      <td>0.004117</td>\n",
              "      <td>0.001079</td>\n",
              "      <td>1.000000</td>\n",
              "      <td>-0.005914</td>\n",
              "      <td>0.026017</td>\n",
              "      <td>0.030698</td>\n",
              "      <td>0.045089</td>\n",
              "      <td>0.009694</td>\n",
              "      <td>0.013132</td>\n",
              "      <td>-0.155832</td>\n",
              "    </tr>\n",
              "    <tr>\n",
              "      <th>Overall_Cond</th>\n",
              "      <td>-0.159271</td>\n",
              "      <td>-0.006388</td>\n",
              "      <td>-0.042198</td>\n",
              "      <td>0.083517</td>\n",
              "      <td>-0.212105</td>\n",
              "      <td>-0.115766</td>\n",
              "      <td>-0.087259</td>\n",
              "      <td>-0.083959</td>\n",
              "      <td>-0.034616</td>\n",
              "      <td>-0.068193</td>\n",
              "      <td>-0.005914</td>\n",
              "      <td>1.000000</td>\n",
              "      <td>-0.091449</td>\n",
              "      <td>-0.099841</td>\n",
              "      <td>-0.089979</td>\n",
              "      <td>-0.367292</td>\n",
              "      <td>0.051843</td>\n",
              "      <td>0.030152</td>\n",
              "    </tr>\n",
              "    <tr>\n",
              "      <th>Overall_Qual</th>\n",
              "      <td>0.484824</td>\n",
              "      <td>0.066016</td>\n",
              "      <td>0.168546</td>\n",
              "      <td>-0.040219</td>\n",
              "      <td>0.523776</td>\n",
              "      <td>0.574431</td>\n",
              "      <td>0.266532</td>\n",
              "      <td>-0.159844</td>\n",
              "      <td>0.098892</td>\n",
              "      <td>0.040691</td>\n",
              "      <td>0.026017</td>\n",
              "      <td>-0.091449</td>\n",
              "      <td>1.000000</td>\n",
              "      <td>0.799119</td>\n",
              "      <td>0.383980</td>\n",
              "      <td>0.595248</td>\n",
              "      <td>0.567794</td>\n",
              "      <td>-0.018263</td>\n",
              "    </tr>\n",
              "    <tr>\n",
              "      <th>SalePrice</th>\n",
              "      <td>0.625522</td>\n",
              "      <td>0.144901</td>\n",
              "      <td>0.276769</td>\n",
              "      <td>-0.034730</td>\n",
              "      <td>0.545927</td>\n",
              "      <td>0.708095</td>\n",
              "      <td>0.282205</td>\n",
              "      <td>-0.120238</td>\n",
              "      <td>0.265802</td>\n",
              "      <td>-0.083644</td>\n",
              "      <td>0.030698</td>\n",
              "      <td>-0.099841</td>\n",
              "      <td>0.799119</td>\n",
              "      <td>1.000000</td>\n",
              "      <td>0.496314</td>\n",
              "      <td>0.558414</td>\n",
              "      <td>0.532115</td>\n",
              "      <td>-0.027753</td>\n",
              "    </tr>\n",
              "    <tr>\n",
              "      <th>TotRms_AbvGrd</th>\n",
              "      <td>0.389427</td>\n",
              "      <td>0.671047</td>\n",
              "      <td>-0.044031</td>\n",
              "      <td>-0.048101</td>\n",
              "      <td>0.528356</td>\n",
              "      <td>0.807288</td>\n",
              "      <td>0.347473</td>\n",
              "      <td>0.294340</td>\n",
              "      <td>0.211162</td>\n",
              "      <td>0.032881</td>\n",
              "      <td>0.045089</td>\n",
              "      <td>-0.089979</td>\n",
              "      <td>0.383980</td>\n",
              "      <td>0.496314</td>\n",
              "      <td>1.000000</td>\n",
              "      <td>0.113506</td>\n",
              "      <td>0.198428</td>\n",
              "      <td>-0.031408</td>\n",
              "    </tr>\n",
              "    <tr>\n",
              "      <th>Year_Built</th>\n",
              "      <td>0.317322</td>\n",
              "      <td>-0.053987</td>\n",
              "      <td>0.214668</td>\n",
              "      <td>-0.028634</td>\n",
              "      <td>0.468618</td>\n",
              "      <td>0.243151</td>\n",
              "      <td>0.266079</td>\n",
              "      <td>-0.136594</td>\n",
              "      <td>0.024609</td>\n",
              "      <td>0.037647</td>\n",
              "      <td>0.009694</td>\n",
              "      <td>-0.367292</td>\n",
              "      <td>0.595248</td>\n",
              "      <td>0.558414</td>\n",
              "      <td>0.113506</td>\n",
              "      <td>1.000000</td>\n",
              "      <td>0.608666</td>\n",
              "      <td>-0.011959</td>\n",
              "    </tr>\n",
              "    <tr>\n",
              "      <th>Year_Remod/Add</th>\n",
              "      <td>0.244881</td>\n",
              "      <td>-0.021297</td>\n",
              "      <td>0.136486</td>\n",
              "      <td>-0.044547</td>\n",
              "      <td>0.455560</td>\n",
              "      <td>0.317314</td>\n",
              "      <td>0.207873</td>\n",
              "      <td>-0.141325</td>\n",
              "      <td>0.021248</td>\n",
              "      <td>0.044437</td>\n",
              "      <td>0.013132</td>\n",
              "      <td>0.051843</td>\n",
              "      <td>0.567794</td>\n",
              "      <td>0.532115</td>\n",
              "      <td>0.198428</td>\n",
              "      <td>0.608666</td>\n",
              "      <td>1.000000</td>\n",
              "      <td>0.034200</td>\n",
              "    </tr>\n",
              "    <tr>\n",
              "      <th>Yr_Sold</th>\n",
              "      <td>-0.011096</td>\n",
              "      <td>-0.021135</td>\n",
              "      <td>0.045575</td>\n",
              "      <td>-0.019915</td>\n",
              "      <td>-0.003957</td>\n",
              "      <td>-0.026420</td>\n",
              "      <td>0.002886</td>\n",
              "      <td>0.036368</td>\n",
              "      <td>-0.022190</td>\n",
              "      <td>-0.018376</td>\n",
              "      <td>-0.155832</td>\n",
              "      <td>0.030152</td>\n",
              "      <td>-0.018263</td>\n",
              "      <td>-0.027753</td>\n",
              "      <td>-0.031408</td>\n",
              "      <td>-0.011959</td>\n",
              "      <td>0.034200</td>\n",
              "      <td>1.000000</td>\n",
              "    </tr>\n",
              "  </tbody>\n",
              "</table>\n",
              "</div>"
            ],
            "text/plain": [
              "                1st_Flr_SF  Bedroom_AbvGr  ...  Year_Remod/Add   Yr_Sold\n",
              "1st_Flr_SF        1.000000       0.103504  ...        0.244881 -0.011096\n",
              "Bedroom_AbvGr     0.103504       1.000000  ...       -0.021297 -0.021135\n",
              "Bsmt_Full_Bath    0.262002      -0.161262  ...        0.136486  0.045575\n",
              "Bsmt_Half_Bath    0.011453       0.020406  ...       -0.044547 -0.019915\n",
              "Full_Bath         0.369598       0.358343  ...        0.455560 -0.003957\n",
              "Gr_Liv_Area       0.559269       0.515283  ...        0.317314 -0.026420\n",
              "Half_Bath        -0.108080       0.248429  ...        0.207873  0.002886\n",
              "Kitchen_AbvGr     0.072422       0.240415  ...       -0.141325  0.036368\n",
              "Lot_Area          0.323763       0.131601  ...        0.021248 -0.022190\n",
              "MS_SubClass      -0.246788      -0.018295  ...        0.044437 -0.018376\n",
              "Mo_Sold           0.038717       0.056390  ...        0.013132 -0.155832\n",
              "Overall_Cond     -0.159271      -0.006388  ...        0.051843  0.030152\n",
              "Overall_Qual      0.484824       0.066016  ...        0.567794 -0.018263\n",
              "SalePrice         0.625522       0.144901  ...        0.532115 -0.027753\n",
              "TotRms_AbvGrd     0.389427       0.671047  ...        0.198428 -0.031408\n",
              "Year_Built        0.317322      -0.053987  ...        0.608666 -0.011959\n",
              "Year_Remod/Add    0.244881      -0.021297  ...        1.000000  0.034200\n",
              "Yr_Sold          -0.011096      -0.021135  ...        0.034200  1.000000\n",
              "\n",
              "[18 rows x 18 columns]"
            ]
          },
          "metadata": {
            "tags": []
          },
          "execution_count": 158
        }
      ]
    },
    {
      "cell_type": "code",
      "metadata": {
        "id": "42qQF0hDo8S7",
        "colab": {
          "base_uri": "https://localhost:8080/",
          "height": 560
        },
        "outputId": "270cba6a-aec9-4b55-dc5a-5d91857d9621"
      },
      "source": [
        "plt.figure(figsize=(12, 8))\n",
        "sns.heatmap(corrs);"
      ],
      "execution_count": null,
      "outputs": [
        {
          "output_type": "display_data",
          "data": {
            "image/png": "[encoded data removed]",
            "text/plain": [
              "<Figure size 864x576 with 2 Axes>"
            ]
          },
          "metadata": {
            "tags": [],
            "needs_background": "light"
          }
        }
      ]
    },
    {
      "cell_type": "code",
      "metadata": {
        "id": "zNvZER11pWa8",
        "colab": {
          "base_uri": "https://localhost:8080/",
          "height": 336
        },
        "outputId": "5d64e5aa-b190-4738-cdc3-ea49839e004e"
      },
      "source": [
        "corrs['SalePrice'].sort_values(ascending=False)"
      ],
      "execution_count": null,
      "outputs": [
        {
          "output_type": "execute_result",
          "data": {
            "text/plain": [
              "SalePrice         1.000000\n",
              "Overall_Qual      0.799119\n",
              "Gr_Liv_Area       0.708095\n",
              "1st_Flr_SF        0.625522\n",
              "Year_Built        0.558414\n",
              "Full_Bath         0.545927\n",
              "Year_Remod/Add    0.532115\n",
              "TotRms_AbvGrd     0.496314\n",
              "Half_Bath         0.282205\n",
              "Bsmt_Full_Bath    0.276769\n",
              "Lot_Area          0.265802\n",
              "Bedroom_AbvGr     0.144901\n",
              "Mo_Sold           0.030698\n",
              "Yr_Sold          -0.027753\n",
              "Bsmt_Half_Bath   -0.034730\n",
              "MS_SubClass      -0.083644\n",
              "Overall_Cond     -0.099841\n",
              "Kitchen_AbvGr    -0.120238\n",
              "Name: SalePrice, dtype: float64"
            ]
          },
          "metadata": {
            "tags": []
          },
          "execution_count": 160
        }
      ]
    },
    {
      "cell_type": "code",
      "metadata": {
        "id": "SDCWp9CipWeW",
        "colab": {
          "base_uri": "https://localhost:8080/",
          "height": 823
        },
        "outputId": "735642d5-e4e4-4057-a53d-c3815af90d2c"
      },
      "source": [
        "homes.dtypes"
      ],
      "execution_count": null,
      "outputs": [
        {
          "output_type": "execute_result",
          "data": {
            "text/plain": [
              "1st_Flr_SF          int64\n",
              "Bedroom_AbvGr       int64\n",
              "Bldg_Type          object\n",
              "Bsmt_Full_Bath    float64\n",
              "Bsmt_Half_Bath    float64\n",
              "Central_Air        object\n",
              "Condition_1        object\n",
              "Condition_2        object\n",
              "Electrical         object\n",
              "Exter_Cond         object\n",
              "Exter_Qual         object\n",
              "Exterior_1st       object\n",
              "Exterior_2nd       object\n",
              "Foundation         object\n",
              "Full_Bath           int64\n",
              "Functional         object\n",
              "Gr_Liv_Area         int64\n",
              "Half_Bath           int64\n",
              "Heating            object\n",
              "Heating_QC         object\n",
              "House_Style        object\n",
              "Kitchen_AbvGr       int64\n",
              "Kitchen_Qual       object\n",
              "Land_Contour       object\n",
              "Land_Slope         object\n",
              "Lot_Area            int64\n",
              "Lot_Config         object\n",
              "Lot_Shape          object\n",
              "MS_SubClass         int64\n",
              "MS_Zoning          object\n",
              "Mas_Vnr_Type       object\n",
              "Mo_Sold             int64\n",
              "Neighborhood       object\n",
              "Overall_Cond        int64\n",
              "Overall_Qual        int64\n",
              "Paved_Drive        object\n",
              "Roof_Matl          object\n",
              "Roof_Style         object\n",
              "SalePrice           int64\n",
              "Sale_Condition     object\n",
              "Sale_Type          object\n",
              "Street             object\n",
              "TotRms_AbvGrd       int64\n",
              "Utilities          object\n",
              "Year_Built          int64\n",
              "Year_Remod/Add      int64\n",
              "Yr_Sold             int64\n",
              "dtype: object"
            ]
          },
          "metadata": {
            "tags": []
          },
          "execution_count": 161
        }
      ]
    },
    {
      "cell_type": "markdown",
      "metadata": {
        "id": "CowG-cgZ5ZrB"
      },
      "source": [
        "## 2.1. Begin with baselines\n",
        "\n",
        "What is the Mean Absolute Error and R^2 score for a mean baseline? (You can get these estimated scores using all your data, before splitting it.)"
      ]
    },
    {
      "cell_type": "code",
      "metadata": {
        "id": "4eq4Vj4FpWrf",
        "colab": {
          "base_uri": "https://localhost:8080/",
          "height": 34
        },
        "outputId": "eb51eee4-b20b-4d43-9a0f-a876b8e3e76a"
      },
      "source": [
        "#Baseline\n",
        "guess = homes['SalePrice'].mean()\n",
        "guess"
      ],
      "execution_count": null,
      "outputs": [
        {
          "output_type": "execute_result",
          "data": {
            "text/plain": [
              "180383.689738292"
            ]
          },
          "metadata": {
            "tags": []
          },
          "execution_count": 162
        }
      ]
    },
    {
      "cell_type": "code",
      "metadata": {
        "id": "JAks8LnRpWn9",
        "colab": {
          "base_uri": "https://localhost:8080/",
          "height": 218
        },
        "outputId": "7352d918-a6e2-43b6-d1c6-806d79889bb3"
      },
      "source": [
        "errors = guess - homes['SalePrice']\n",
        "errors"
      ],
      "execution_count": null,
      "outputs": [
        {
          "output_type": "execute_result",
          "data": {
            "text/plain": [
              "0      -34616.310262\n",
              "1       75383.689738\n",
              "2        8383.689738\n",
              "3      -63616.310262\n",
              "4       -9516.310262\n",
              "            ...     \n",
              "2899    37883.689738\n",
              "2900    49383.689738\n",
              "2901    48383.689738\n",
              "2902    10383.689738\n",
              "2903    -7616.310262\n",
              "Name: SalePrice, Length: 2904, dtype: float64"
            ]
          },
          "metadata": {
            "tags": []
          },
          "execution_count": 163
        }
      ]
    },
    {
      "cell_type": "code",
      "metadata": {
        "id": "TbahVr-j5ZLs",
        "colab": {
          "base_uri": "https://localhost:8080/",
          "height": 34
        },
        "outputId": "b2045d9d-25bb-4919-ac4a-496c34a4dba9"
      },
      "source": [
        "MAE = errors.abs().mean()\n",
        "MAE"
      ],
      "execution_count": null,
      "outputs": [
        {
          "output_type": "execute_result",
          "data": {
            "text/plain": [
              "58149.927741208136"
            ]
          },
          "metadata": {
            "tags": []
          },
          "execution_count": 164
        }
      ]
    },
    {
      "cell_type": "code",
      "metadata": {
        "id": "EWrZpEA9wYZf",
        "colab": {
          "base_uri": "https://localhost:8080/",
          "height": 542
        },
        "outputId": "31a02834-b105-498f-d107-bc24e1478779"
      },
      "source": [
        "import plotly.express as px\n",
        "px.scatter(homes, x = 'Overall_Qual', y = 'SalePrice', trendline = 'ols')"
      ],
      "execution_count": null,
      "outputs": [
        {
          "output_type": "display_data",
          "data": {
            "text/html": [
              "<html>\n",
              "<head><meta charset=\"utf-8\" /></head>\n",
              "<body>\n",
              "    <div>\n",
              "            <script src=\"https://cdnjs.cloudflare.com/ajax/libs/mathjax/2.7.5/MathJax.js?config=TeX-AMS-MML_SVG\"></script><script type=\"text/javascript\">if (window.MathJax) {MathJax.Hub.Config({SVG: {font: \"STIX-Web\"}});}</script>\n",
              "                <script type=\"text/javascript\">window.PlotlyConfig = {MathJaxConfig: 'local'};</script>\n",
              "        <script src=\"https://cdn.plot.ly/plotly-latest.min.js\"></script>    \n",
              "            <div id=\"04696f0d-14c1-4b53-b38b-c08948c4c5d2\" class=\"plotly-graph-div\" style=\"height:525px; width:100%;\"></div>\n",
              "            <script type=\"text/javascript\">\n",
              "                \n",
              "                    window.PLOTLYENV=window.PLOTLYENV || {};\n",
              "                    \n",
              "                if (document.getElementById(\"04696f0d-14c1-4b53-b38b-c08948c4c5d2\")) {\n",
              "                    Plotly.newPlot(\n",
              "                        '04696f0d-14c1-4b53-b38b-c08948c4c5d2',\n",
              "                        [{\"hoverlabel\": {\"namelength\": 0}, \"hovertemplate\": \"Overall_Qual=%{x}<br>SalePrice=%{y}\", \"legendgroup\": \"\", \"marker\": {\"color\": \"#636efa\", \"symbol\": \"circle\"}, \"mode\": \"markers\", \"name\": \"\", \"showlegend\": false, \"type\": \"scattergl\", \"x\": [6, 5, 6, 7, 5, 6, 8, 8, 8, 7, 6, 6, 6, 7, 8, 8, 8, 9, 4, 6, 6, 7, 7, 6, 5, 5, 4, 4, 7, 6, 5, 6, 6, 6, 7, 6, 9, 8, 9, 8, 7, 9, 8, 7, 9, 7, 9, 8, 9, 8, 7, 6, 7, 8, 7, 7, 7, 7, 9, 8, 7, 8, 8, 7, 8, 8, 7, 7, 8, 7, 6, 7, 7, 7, 6, 6, 6, 6, 7, 6, 6, 5, 6, 5, 5, 5, 5, 5, 6, 7, 8, 8, 7, 7, 7, 7, 7, 6, 7, 6, 6, 7, 7, 8, 8, 8, 8, 6, 7, 6, 6, 6, 6, 7, 6, 6, 5, 6, 4, 5, 5, 6, 5, 6, 5, 5, 5, 6, 5, 3, 5, 6, 5, 6, 5, 7, 6, 5, 7, 5, 5, 5, 6, 5, 5, 5, 6, 4, 5, 5, 5, 5, 4, 5, 5, 5, 6, 6, 5, 7, 6, 5, 5, 5, 6, 5, 6, 6, 4, 4, 5, 5, 5, 3, 4, 5, 5, 6, 5, 5, 2, 6, 8, 5, 8, 5, 6, 4, 4, 6, 5, 7, 4, 6, 6, 5, 6, 5, 5, 6, 7, 4, 6, 6, 5, 4, 5, 7, 5, 5, 5, 6, 4, 5, 5, 4, 4, 5, 5, 5, 5, 5, 6, 5, 5, 5, 6, 7, 7, 4, 4, 7, 6, 3, 5, 6, 5, 4, 5, 6, 7, 5, 4, 6, 7, 6, 7, 6, 8, 7, 7, 7, 7, 6, 6, 5, 7, 6, 5, 6, 5, 5, 8, 8, 7, 7, 7, 6, 6, 8, 7, 7, 3, 5, 5, 5, 4, 6, 6, 4, 4, 6, 4, 5, 5, 6, 3, 5, 6, 4, 5, 6, 7, 5, 7, 7, 7, 8, 8, 7, 4, 2, 6, 4, 4, 5, 4, 8, 8, 6, 7, 6, 6, 5, 7, 7, 5, 8, 7, 8, 9, 5, 5, 6, 5, 4, 5, 5, 4, 4, 4, 4, 5, 5, 5, 5, 5, 5, 8, 6, 6, 6, 8, 6, 8, 7, 9, 7, 8, 8, 8, 8, 7, 7, 6, 6, 6, 6, 6, 6, 6, 6, 7, 7, 8, 9, 8, 7, 5, 7, 6, 7, 6, 7, 6, 7, 7, 6, 8, 7, 7, 5, 7, 8, 8, 8, 5, 6, 7, 6, 6, 5, 5, 6, 5, 5, 4, 4, 4, 4, 4, 6, 5, 5, 6, 6, 5, 6, 6, 6, 7, 6, 6, 6, 6, 6, 7, 5, 5, 10, 9, 9, 10, 9, 8, 8, 9, 9, 9, 10, 10, 10, 9, 9, 8, 8, 8, 9, 8, 9, 9, 9, 8, 8, 7, 7, 10, 9, 8, 8, 6, 6, 6, 7, 7, 10, 8, 9, 9, 8, 8, 7, 7, 7, 6, 6, 6, 7, 7, 7, 7, 7, 7, 7, 6, 7, 7, 8, 7, 7, 7, 7, 7, 6, 7, 6, 6, 7, 7, 6, 7, 7, 8, 8, 8, 8, 8, 7, 8, 7, 7, 8, 8, 7, 8, 8, 8, 8, 8, 8, 7, 9, 7, 8, 6, 8, 7, 9, 9, 8, 10, 8, 8, 7, 8, 7, 7, 7, 7, 7, 7, 7, 6, 7, 8, 7, 5, 5, 7, 7, 8, 7, 6, 6, 6, 7, 6, 6, 4, 6, 5, 5, 5, 5, 5, 5, 5, 5, 5, 8, 7, 7, 6, 6, 6, 6, 6, 6, 7, 8, 8, 8, 7, 8, 4, 6, 6, 6, 7, 7, 6, 6, 6, 5, 6, 7, 6, 7, 8, 5, 5, 5, 7, 6, 6, 4, 5, 6, 4, 5, 5, 6, 5, 5, 5, 5, 6, 5, 6, 5, 4, 5, 6, 6, 6, 5, 6, 5, 5, 6, 6, 6, 7, 6, 6, 4, 5, 6, 7, 6, 6, 6, 5, 5, 4, 6, 5, 5, 6, 5, 5, 4, 5, 5, 5, 5, 3, 7, 5, 6, 3, 5, 5, 4, 5, 5, 4, 7, 2, 4, 5, 3, 6, 6, 6, 5, 6, 6, 5, 6, 6, 5, 3, 6, 4, 5, 5, 5, 5, 5, 5, 4, 6, 6, 5, 6, 5, 6, 5, 6, 6, 5, 5, 5, 5, 5, 4, 5, 7, 5, 4, 5, 5, 4, 2, 3, 5, 5, 4, 4, 5, 5, 7, 6, 6, 8, 4, 7, 5, 5, 6, 6, 4, 3, 5, 6, 7, 5, 6, 4, 6, 5, 6, 5, 6, 5, 5, 4, 2, 5, 5, 5, 5, 6, 7, 6, 7, 7, 6, 5, 6, 4, 6, 7, 6, 4, 6, 4, 5, 5, 5, 1, 6, 5, 5, 5, 6, 5, 5, 6, 5, 5, 5, 5, 6, 5, 2, 4, 5, 4, 4, 5, 3, 4, 6, 5, 5, 6, 4, 5, 4, 5, 5, 6, 4, 7, 6, 8, 7, 7, 7, 8, 5, 5, 5, 5, 5, 5, 5, 5, 5, 7, 7, 7, 9, 8, 8, 9, 8, 8, 8, 9, 7, 7, 8, 7, 8, 6, 7, 7, 5, 5, 5, 6, 7, 7, 5, 5, 7, 7, 7, 6, 7, 7, 7, 7, 7, 7, 5, 5, 5, 5, 5, 5, 5, 5, 5, 5, 7, 8, 8, 8, 9, 7, 8, 7, 8, 7, 7, 7, 7, 7, 6, 6, 8, 7, 7, 6, 6, 4, 5, 4, 7, 6, 4, 6, 9, 6, 5, 4, 5, 4, 5, 3, 5, 5, 4, 6, 5, 5, 5, 5, 2, 6, 7, 6, 4, 6, 6, 7, 6, 7, 7, 7, 5, 6, 5, 5, 5, 5, 7, 5, 7, 6, 5, 6, 6, 6, 6, 6, 6, 6, 7, 6, 5, 5, 5, 3, 4, 8, 2, 8, 7, 7, 6, 6, 6, 5, 7, 5, 6, 7, 9, 7, 9, 9, 8, 6, 6, 7, 8, 7, 9, 9, 5, 5, 6, 6, 4, 5, 4, 5, 4, 4, 4, 5, 6, 5, 5, 5, 5, 5, 6, 5, 6, 6, 6, 6, 6, 6, 6, 6, 5, 7, 8, 8, 8, 8, 6, 6, 6, 7, 6, 8, 8, 8, 9, 9, 6, 9, 6, 7, 7, 6, 7, 7, 7, 6, 6, 5, 7, 5, 7, 6, 6, 7, 5, 8, 5, 6, 4, 5, 4, 6, 6, 6, 6, 6, 6, 6, 5, 6, 6, 7, 5, 8, 10, 10, 9, 8, 8, 8, 9, 9, 10, 9, 8, 8, 10, 9, 7, 8, 8, 8, 9, 9, 7, 8, 9, 9, 8, 8, 7, 7, 7, 7, 7, 7, 7, 7, 6, 6, 7, 6, 7, 7, 7, 6, 7, 7, 7, 7, 8, 8, 8, 9, 8, 7, 8, 8, 7, 7, 7, 8, 8, 6, 8, 7, 9, 8, 7, 8, 8, 8, 7, 7, 8, 7, 8, 8, 7, 6, 7, 6, 7, 6, 5, 6, 6, 7, 6, 6, 6, 7, 6, 7, 6, 6, 6, 6, 5, 5, 5, 5, 5, 6, 6, 5, 6, 9, 7, 7, 7, 6, 7, 7, 7, 6, 9, 9, 9, 9, 9, 7, 7, 7, 8, 8, 10, 8, 8, 8, 6, 9, 8, 7, 6, 6, 6, 7, 5, 6, 5, 5, 5, 5, 5, 5, 7, 8, 6, 6, 7, 7, 5, 4, 4, 5, 6, 6, 6, 6, 5, 6, 5, 5, 6, 4, 5, 3, 3, 5, 4, 5, 6, 5, 6, 5, 7, 6, 5, 6, 6, 6, 5, 5, 5, 5, 5, 6, 6, 6, 6, 6, 5, 5, 5, 5, 6, 5, 5, 5, 5, 5, 4, 5, 5, 4, 5, 4, 6, 5, 7, 6, 6, 7, 5, 5, 5, 5, 5, 5, 5, 6, 6, 6, 6, 5, 5, 5, 6, 6, 5, 6, 5, 5, 5, 5, 6, 5, 6, 4, 7, 4, 5, 7, 6, 5, 5, 5, 5, 5, 2, 5, 4, 3, 7, 5, 5, 7, 5, 5, 5, 6, 5, 7, 6, 6, 8, 7, 10, 2, 7, 5, 5, 5, 4, 5, 7, 5, 5, 5, 5, 6, 6, 5, 6, 6, 6, 6, 5, 4, 5, 5, 7, 5, 7, 6, 4, 5, 6, 7, 6, 5, 6, 6, 8, 6, 6, 6, 6, 5, 6, 6, 6, 5, 6, 5, 3, 6, 5, 5, 5, 4, 5, 5, 5, 6, 5, 5, 5, 6, 5, 5, 4, 5, 5, 5, 5, 6, 5, 6, 5, 5, 5, 5, 5, 6, 7, 7, 7, 4, 6, 7, 6, 6, 5, 6, 6, 5, 5, 6, 5, 5, 5, 6, 5, 7, 6, 7, 7, 7, 7, 8, 9, 9, 7, 8, 6, 6, 5, 5, 5, 7, 6, 7, 7, 7, 7, 7, 7, 7, 7, 5, 5, 5, 6, 5, 5, 5, 5, 5, 8, 7, 7, 8, 7, 8, 9, 8, 8, 7, 7, 7, 8, 7, 6, 6, 6, 6, 7, 7, 7, 7, 7, 8, 7, 7, 7, 6, 6, 6, 6, 5, 5, 5, 5, 5, 6, 5, 4, 7, 6, 6, 4, 10, 6, 4, 4, 4, 4, 4, 5, 5, 4, 5, 4, 5, 4, 4, 5, 3, 5, 6, 5, 6, 7, 5, 5, 6, 6, 6, 6, 6, 6, 8, 6, 6, 7, 6, 5, 5, 6, 8, 8, 7, 7, 5, 6, 6, 6, 6, 6, 4, 6, 5, 5, 5, 5, 5, 1, 4, 4, 4, 3, 4, 8, 8, 7, 8, 7, 8, 7, 6, 6, 5, 4, 5, 7, 8, 8, 8, 8, 5, 7, 6, 6, 6, 6, 8, 6, 8, 8, 8, 7, 7, 5, 6, 4, 5, 5, 5, 4, 4, 5, 6, 4, 5, 5, 5, 5, 5, 5, 6, 5, 5, 5, 6, 7, 7, 8, 7, 6, 6, 6, 6, 8, 6, 6, 7, 7, 6, 7, 7, 7, 6, 6, 8, 7, 8, 8, 9, 8, 9, 5, 9, 8, 8, 10, 6, 6, 6, 7, 7, 7, 7, 6, 6, 6, 7, 6, 5, 6, 5, 6, 7, 7, 6, 5, 6, 7, 5, 5, 5, 4, 4, 4, 4, 7, 6, 6, 6, 6, 6, 5, 5, 6, 6, 7, 5, 9, 9, 8, 8, 8, 8, 9, 9, 8, 10, 7, 9, 8, 9, 8, 8, 9, 10, 8, 8, 8, 8, 9, 8, 8, 8, 8, 8, 7, 8, 8, 6, 6, 6, 6, 8, 8, 8, 9, 9, 9, 8, 7, 6, 6, 7, 6, 6, 6, 7, 7, 7, 6, 6, 7, 7, 7, 7, 8, 7, 7, 7, 7, 7, 7, 7, 7, 6, 7, 6, 7, 7, 6, 6, 10, 8, 8, 10, 9, 8, 7, 10, 7, 7, 7, 8, 8, 8, 8, 7, 8, 9, 8, 8, 10, 8, 8, 7, 7, 8, 8, 8, 7, 8, 7, 8, 8, 7, 8, 5, 8, 8, 8, 7, 8, 8, 6, 8, 6, 7, 5, 7, 6, 6, 7, 7, 6, 6, 5, 5, 5, 5, 5, 5, 4, 5, 5, 5, 5, 7, 7, 5, 5, 6, 8, 8, 8, 8, 8, 7, 7, 7, 6, 6, 6, 6, 6, 7, 8, 7, 7, 8, 8, 8, 7, 5, 5, 8, 6, 6, 8, 5, 7, 6, 6, 6, 6, 7, 7, 7, 5, 6, 7, 6, 5, 5, 5, 5, 5, 4, 5, 6, 5, 6, 5, 5, 5, 5, 5, 5, 7, 6, 6, 6, 6, 6, 6, 5, 4, 6, 5, 1, 3, 3, 5, 6, 5, 5, 5, 5, 5, 5, 6, 5, 5, 6, 6, 5, 5, 5, 6, 5, 6, 5, 6, 5, 5, 6, 5, 5, 5, 5, 6, 6, 5, 5, 5, 4, 5, 5, 4, 5, 4, 5, 5, 5, 5, 4, 4, 4, 5, 5, 7, 5, 6, 5, 5, 6, 6, 5, 5, 5, 5, 5, 5, 5, 5, 5, 5, 6, 5, 5, 5, 5, 5, 6, 5, 5, 5, 4, 5, 5, 3, 4, 4, 4, 4, 5, 5, 8, 6, 5, 5, 5, 6, 6, 5, 7, 6, 6, 5, 7, 5, 4, 4, 5, 5, 5, 6, 5, 6, 6, 5, 6, 5, 5, 5, 5, 7, 6, 6, 6, 6, 6, 5, 6, 7, 6, 5, 5, 7, 7, 6, 6, 6, 7, 6, 4, 5, 4, 5, 7, 5, 4, 7, 5, 5, 5, 5, 5, 4, 4, 5, 5, 6, 5, 5, 5, 5, 5, 5, 5, 6, 5, 5, 5, 5, 7, 6, 5, 4, 7, 6, 6, 5, 5, 4, 6, 6, 6, 5, 4, 4, 4, 5, 5, 5, 4, 5, 6, 7, 7, 7, 7, 7, 7, 7, 8, 8, 8, 7, 7, 8, 8, 7, 7, 7, 7, 7, 8, 7, 7, 6, 7, 7, 6, 6, 6, 8, 5, 5, 6, 6, 6, 5, 5, 4, 6, 7, 7, 7, 7, 7, 7, 5, 5, 5, 5, 5, 5, 5, 5, 5, 4, 8, 8, 7, 7, 7, 7, 8, 8, 8, 7, 9, 8, 6, 8, 7, 7, 7, 7, 7, 7, 6, 7, 5, 5, 5, 4, 4, 5, 6, 6, 6, 6, 5, 5, 5, 5, 10, 10, 6, 5, 4, 4, 5, 3, 6, 4, 4, 4, 4, 4, 6, 5, 6, 5, 5, 6, 5, 7, 6, 7, 6, 7, 5, 5, 5, 6, 5, 7, 5, 6, 8, 4, 6, 5, 8, 6, 6, 7, 6, 6, 6, 6, 4, 8, 7, 8, 5, 6, 5, 5, 4, 5, 5, 6, 5, 5, 2, 5, 4, 5, 8, 8, 6, 6, 6, 5, 7, 7, 7, 6, 7, 7, 5, 6, 7, 8, 8, 8, 7, 7, 6, 8, 7, 8, 6, 8, 7, 5, 8, 10, 8, 5, 3, 6, 4, 5, 4, 5, 5, 4, 4, 4, 4, 4, 4, 6, 5, 6, 5, 5, 5, 5, 4, 4, 5, 5, 5, 5, 5, 6, 6, 5, 6, 7, 6, 7, 6, 6, 6, 6, 7, 7, 8, 8, 7, 7, 8, 6, 6, 7, 8, 7, 8, 9, 10, 9, 9, 8, 10, 9, 10, 5, 5, 9, 8, 9, 7, 7, 7, 6, 6, 7, 7, 6, 7, 6, 7, 7, 6, 5, 7, 6, 6, 5, 4, 4, 4, 6, 6, 5, 6, 6, 6, 6, 6, 6, 6, 6, 5, 5, 7, 6, 9, 9, 9, 8, 7, 9, 9, 8, 8, 9, 8, 9, 9, 8, 8, 9, 8, 9, 9, 9, 9, 8, 8, 7, 9, 7, 7, 9, 9, 7, 6, 6, 7, 7, 7, 6, 6, 8, 7, 7, 7, 8, 7, 7, 7, 7, 7, 7, 8, 7, 5, 6, 8, 7, 8, 7, 6, 6, 7, 6, 7, 7, 8, 8, 8, 10, 9, 8, 8, 8, 9, 8, 8, 8, 8, 8, 8, 7, 8, 8, 9, 8, 8, 7, 6, 7, 6, 7, 7, 6, 7, 6, 6, 6, 7, 7, 6, 6, 6, 6, 6, 6, 4, 5, 5, 5, 6, 5, 6, 5, 5, 5, 5, 5, 5, 5, 5, 7, 8, 8, 8, 7, 8, 7, 8, 7, 7, 7, 7, 6, 7, 7, 7, 7, 8, 8, 6, 8, 8, 8, 8, 9, 5, 7, 7, 6, 6, 6, 7, 7, 5, 5, 5, 6, 5, 5, 5, 5, 5, 6, 5, 5, 5, 6, 6, 6, 5, 6, 5, 5, 6, 5, 5, 4, 4, 4, 5, 5, 5, 5, 5, 6, 5, 5, 5, 6, 5, 7, 5, 8, 6, 5, 5, 5, 6, 6, 5, 5, 6, 5, 5, 6, 6, 5, 6, 5, 5, 5, 5, 7, 5, 5, 6, 6, 3, 5, 5, 3, 4, 5, 6, 4, 3, 5, 5, 6, 5, 6, 6, 6, 5, 6, 6, 5, 6, 7, 7, 5, 4, 4, 5, 4, 5, 3, 3, 3, 5, 5, 5, 6, 5, 7, 5, 5, 5, 4, 5, 4, 6, 7, 7, 7, 6, 4, 6, 5, 5, 4, 6, 3, 5, 5, 3, 6, 3, 3, 6, 4, 7, 7, 5, 7, 6, 7, 6, 10, 5, 5, 3, 4, 6, 6, 6, 5, 6, 5, 3, 5, 4, 5, 5, 6, 5, 5, 5, 6, 4, 6, 4, 4, 5, 5, 6, 5, 3, 6, 6, 5, 6, 5, 5, 5, 5, 7, 4, 4, 6, 5, 5, 6, 5, 5, 6, 5, 5, 6, 5, 5, 5, 5, 5, 5, 4, 5, 7, 5, 7, 5, 5, 7, 7, 4, 5, 5, 6, 6, 6, 5, 5, 5, 6, 6, 5, 5, 5, 6, 6, 8, 6, 7, 7, 7, 7, 7, 7, 7, 6, 7, 8, 7, 7, 7, 8, 5, 6, 7, 6, 5, 5, 6, 7, 5, 7, 6, 7, 7, 7, 7, 7, 7, 5, 6, 6, 5, 5, 5, 5, 6, 8, 7, 6, 8, 8, 7, 7, 8, 7, 7, 7, 7, 7, 6, 6, 8, 7, 7, 6, 7, 7, 7, 7, 7, 6, 6, 7, 4, 5, 4, 6, 6, 5, 7, 7, 5, 6, 6, 7, 7, 6, 7, 7, 4, 6, 4, 5, 5, 5, 4, 5, 4, 4, 2, 4, 5, 6, 5, 6, 7, 5, 6, 5, 7, 7, 5, 5, 7, 6, 8, 5, 4, 7, 7, 6, 7, 6, 6, 5, 5, 5, 6, 5, 6, 4, 4, 4, 6, 4, 3, 2, 5, 3, 8, 8, 6, 6, 8, 6, 6, 7, 7, 7, 6, 8, 6, 7, 7, 6, 8, 8, 8, 9, 1, 7, 6, 6, 5, 5, 5, 6, 5, 5, 4, 4, 5, 5, 4, 4, 4, 4, 6, 5, 5, 5, 6, 5, 5, 5, 7], \"xaxis\": \"x\", \"y\": [215000, 105000, 172000, 244000, 189900, 195500, 213500, 191500, 236500, 189000, 175900, 185000, 180400, 171500, 212000, 538000, 164000, 394432, 141000, 210000, 190000, 170000, 216000, 149000, 149900, 142000, 126000, 115000, 184000, 96000, 105500, 88000, 127500, 149900, 120000, 146000, 376162, 306000, 395192, 290941, 220000, 275000, 259000, 214000, 611657, 224000, 500000, 320000, 319900, 205000, 175500, 199500, 160000, 192000, 184500, 185088, 180000, 222500, 333168, 355000, 260400, 325000, 290000, 221000, 410000, 221500, 204500, 215200, 262500, 254900, 271500, 233000, 181000, 205000, 143000, 189000, 99500, 125000, 194500, 152000, 171000, 67500, 112000, 148000, 138500, 122000, 133000, 127000, 169000, 190000, 362500, 285000, 260000, 190000, 155000, 151000, 149500, 152000, 222000, 177500, 177000, 155000, 147110, 267916, 254000, 155000, 206000, 130500, 230000, 218500, 243500, 205000, 212500, 196500, 197500, 171000, 142250, 143000, 128950, 159000, 178900, 136300, 180500, 137500, 84900, 142125, 197600, 172500, 116500, 76500, 128000, 153000, 132000, 178000, 154300, 180000, 190000, 135000, 214000, 136000, 165500, 145000, 148000, 142000, 167500, 108538, 159500, 108000, 135000, 122500, 119000, 109000, 105000, 107500, 144900, 129000, 97500, 144000, 162000, 242000, 132000, 154000, 166000, 134800, 160000, 148000, 192000, 155000, 80400, 96500, 109500, 115000, 143000, 107400, 80000, 119000, 130000, 119000, 129000, 100000, 12789, 105900, 150000, 139000, 240000, 76500, 149700, 125500, 122500, 140750, 128500, 209500, 87000, 134000, 128000, 132000, 139900, 123900, 138400, 109500, 140000, 149500, 159900, 122000, 110000, 55000, 140000, 244400, 173000, 107500, 100000, 95000, 93369, 114900, 94000, 136000, 136500, 131500, 121500, 125000, 154000, 137900, 158000, 137250, 160250, 163000, 158900, 328000, 270000, 85000, 128000, 260000, 230000, 124000, 83000, 144500, 129000, 127000, 128000, 186000, 308030, 114000, 84900, 178000, 270000, 218000, 236000, 147000, 245350, 206000, 198900, 187000, 320000, 138500, 155000, 159000, 191000, 200500, 150000, 161750, 128200, 127000, 318000, 272000, 237000, 240000, 224900, 143750, 143000, 232000, 213000, 185500, 84900, 155891, 100000, 144000, 64000, 125200, 107000, 90000, 140000, 113000, 80000, 144500, 104000, 128000, 58500, 127000, 126000, 160000, 100000, 169000, 257500, 215000, 266500, 335000, 203135, 185000, 162500, 289000, 125500, 82000, 110000, 68400, 102776, 55993, 50138, 246000, 254900, 190000, 201000, 169900, 170000, 160000, 220000, 179781, 174000, 269500, 214900, 202900, 378500, 169000, 173500, 139000, 166500, 83500, 119500, 85000, 76000, 75500, 88250, 85500, 130000, 157900, 149900, 159000, 136000, 161000, 285000, 231000, 124500, 157000, 345000, 189500, 270000, 189000, 377500, 168500, 375000, 278000, 240000, 239500, 177500, 185000, 191000, 178000, 185000, 181316, 166000, 178000, 174000, 173000, 225000, 180500, 187500, 501837, 372500, 260000, 185000, 260000, 181000, 82500, 215000, 154000, 200000, 249000, 187500, 184000, 278000, 157000, 152000, 197500, 240900, 263435, 220000, 235000, 213000, 167900, 158000, 165000, 158000, 136000, 148500, 156000, 128000, 143000, 76500, 120500, 124500, 97000, 130000, 111000, 125000, 112000, 97000, 118000, 119500, 143750, 146000, 148500, 123000, 147000, 137900, 147000, 148500, 138000, 128500, 100000, 148800, 337500, 462000, 485000, 555000, 325000, 256300, 253293, 398800, 335000, 404000, 402861, 451950, 610000, 582933, 360000, 296000, 409900, 255500, 335000, 274900, 300000, 324000, 350000, 280000, 284000, 269500, 233170, 386250, 445000, 290000, 255900, 213000, 196000, 184500, 212500, 230000, 552000, 382500, 320000, 248500, 286500, 254000, 173000, 173000, 184000, 167800, 174000, 174000, 174000, 175900, 192500, 181000, 180000, 160200, 188500, 200000, 170000, 189500, 184100, 195500, 192000, 178000, 207500, 236000, 244000, 167000, 179000, 190000, 156000, 245000, 181000, 214000, 168000, 337000, 403000, 327000, 340000, 336000, 265000, 315000, 260000, 260000, 263550, 402000, 248000, 244600, 275000, 257500, 287090, 275500, 245000, 253000, 468000, 252678, 210000, 208300, 229456, 229800, 250000, 370878, 238500, 310000, 270000, 252000, 241000, 264500, 291000, 263000, 185000, 234500, 209000, 159000, 152000, 143500, 193000, 203000, 159000, 142000, 153000, 224243, 220000, 257000, 189000, 171500, 120000, 145000, 184000, 162000, 160000, 82000, 76000, 110000, 135000, 141000, 122000, 124100, 129000, 131400, 62383, 123000, 275000, 235000, 280750, 164500, 173733, 222000, 195000, 172500, 180000, 156000, 172500, 318750, 211500, 241600, 180500, 150000, 154000, 185000, 185750, 200000, 206000, 162000, 256900, 197900, 163000, 113000, 230000, 167900, 213250, 227000, 130000, 143000, 117500, 168500, 172500, 161500, 141500, 118000, 127500, 140000, 177625, 110000, 167000, 153000, 145100, 154000, 177500, 158000, 124500, 174500, 122000, 82500, 110000, 149500, 175000, 167000, 128900, 140000, 147000, 124000, 187500, 159000, 256000, 205000, 193500, 110000, 104900, 150000, 156500, 176000, 149500, 139000, 155000, 120000, 153000, 144000, 176000, 153000, 135000, 131000, 123000, 126000, 115000, 164900, 113000, 145500, 102900, 95000, 152500, 129900, 132000, 99900, 135000, 149000, 114000, 109500, 125000, 142900, 156500, 59000, 105000, 106000, 78500, 190000, 154000, 163000, 200000, 143500, 135000, 153000, 157500, 113500, 133000, 92900, 128500, 90000, 138000, 128000, 139000, 118900, 138000, 132500, 133500, 135000, 144750, 145000, 127000, 109500, 115000, 110000, 128900, 103500, 66500, 130000, 129000, 150000, 107500, 94550, 124500, 135000, 103000, 93000, 129500, 93000, 80000, 45000, 37900, 91300, 99500, 113000, 87500, 110000, 106000, 265979, 160000, 119000, 168000, 58500, 143000, 85000, 124900, 119000, 146500, 34900, 44000, 223500, 149000, 205000, 137000, 121000, 128000, 134900, 117000, 132500, 93000, 119000, 100000, 141500, 133000, 60000, 105000, 115000, 150000, 126500, 214500, 167500, 155000, 155000, 179900, 104000, 62500, 149000, 103000, 123000, 97500, 135000, 70000, 116000, 88750, 179000, 179000, 159900, 61000, 103600, 63000, 175000, 139000, 172500, 113500, 130000, 149900, 134900, 137000, 139000, 165000, 148000, 165000, 63900, 161500, 143000, 135000, 82500, 190000, 139600, 122000, 127500, 121500, 60000, 154400, 113000, 125000, 84000, 139500, 131000, 105000, 108000, 162000, 156500, 316600, 271900, 213000, 239900, 239500, 131000, 118964, 153337, 147983, 118858, 118858, 142953, 148325, 113722, 269500, 269500, 269500, 323262, 297000, 295493, 332000, 239900, 212000, 272500, 239000, 220000, 200000, 221800, 194500, 237000, 173000, 275000, 233500, 185000, 152000, 143000, 231500, 212000, 207000, 145000, 138000, 197900, 204000, 192000, 200000, 195000, 227000, 230000, 187100, 203000, 201000, 124000, 140000, 134900, 150500, 136500, 143500, 133500, 123000, 133900, 133000, 250000, 254750, 236500, 261500, 313000, 211000, 220000, 203000, 279500, 210000, 219500, 191000, 178000, 213000, 144000, 140000, 293200, 190000, 190000, 173500, 170000, 108000, 167000, 100000, 198500, 159500, 127000, 125000, 320000, 145500, 118000, 85000, 120000, 98000, 99900, 82000, 119900, 103500, 112000, 110000, 122000, 117000, 160000, 159434, 60000, 139500, 197000, 105000, 135000, 147500, 137450, 155000, 177000, 145000, 137000, 234000, 205000, 177500, 160000, 155000, 163500, 154900, 205000, 144800, 174500, 193000, 158000, 158500, 224000, 115000, 137000, 121000, 124000, 208000, 315000, 222000, 147000, 123000, 78000, 85000, 75000, 230000, 57625, 251000, 239686, 240000, 215000, 156450, 173000, 126000, 173000, 152000, 137500, 375000, 315500, 224500, 410000, 316500, 201000, 175000, 204000, 213500, 220000, 170000, 315000, 425000, 139500, 115000, 162000, 165000, 91000, 130000, 86000, 160000, 80000, 97000, 88000, 131900, 131250, 165500, 112000, 149000, 143000, 130000, 196000, 173000, 176500, 237500, 206900, 187500, 165000, 195500, 192000, 173000, 177900, 175000, 286000, 247900, 180000, 180000, 181000, 183000, 188000, 194500, 185000, 189000, 188500, 355000, 325000, 387000, 115000, 334000, 133000, 215000, 226500, 175500, 181900, 235000, 220000, 272000, 161000, 175000, 185000, 146900, 292500, 180000, 159900, 205000, 157000, 306000, 133000, 151000, 111900, 123000, 111250, 181000, 103400, 100000, 100500, 106000, 85400, 89500, 111750, 140000, 143000, 148500, 110000, 394617, 426000, 385000, 446261, 317500, 372402, 417500, 383000, 390000, 460000, 379000, 250000, 316000, 615000, 412500, 284000, 284000, 421250, 370000, 336860, 367294, 192000, 274000, 266000, 370967, 234250, 219500, 155000, 154000, 207000, 195000, 219990, 191000, 159895, 187687, 179000, 193000, 190000, 176000, 188000, 213000, 217300, 186500, 226750, 184000, 225000, 185900, 284500, 315000, 250000, 291000, 350000, 279500, 290000, 350000, 341000, 287500, 271000, 301500, 235128, 214000, 232000, 240000, 264132, 245000, 227680, 257000, 297900, 212700, 250580, 226700, 250000, 250000, 339750, 256000, 230348, 207500, 141000, 188000, 192500, 146000, 159000, 155000, 173000, 170000, 182000, 163000, 193500, 189000, 190500, 175000, 179200, 187000, 193000, 153900, 128000, 144000, 135000, 115000, 119916, 142000, 192000, 140000, 290000, 372500, 196000, 171900, 178000, 165000, 146000, 146000, 179400, 172900, 300000, 285000, 290000, 305000, 328900, 160000, 170000, 223000, 170000, 200000, 345000, 245500, 217500, 324000, 162500, 150000, 290000, 174000, 183000, 150000, 145000, 215000, 140500, 240000, 141000, 147000, 135000, 145000, 142600, 135000, 170000, 299800, 185000, 173000, 178400, 176000, 98000, 109008, 135750, 155000, 180500, 174900, 140000, 145000, 179900, 168500, 140000, 145500, 142000, 141000, 153000, 72500, 52000, 118000, 87000, 141500, 119000, 141500, 165500, 112900, 201800, 163000, 139950, 174000, 165000, 227000, 135000, 124000, 140000, 136500, 185000, 163000, 166800, 139000, 166000, 136000, 133000, 116000, 137500, 130000, 180000, 139000, 110000, 100000, 118500, 146000, 89900, 114000, 140000, 86900, 139000, 106250, 171000, 139000, 186000, 157000, 148000, 242000, 116000, 94000, 98300, 127000, 159000, 125900, 155000, 138000, 112500, 105500, 127500, 130000, 150000, 109500, 140000, 167900, 136870, 143000, 73000, 157500, 122600, 111000, 256000, 64000, 139500, 118000, 200000, 119164, 122250, 120000, 155000, 78000, 95000, 115000, 147000, 140000, 46500, 112500, 107900, 65000, 295000, 139500, 153900, 132000, 98000, 114000, 130000, 129500, 129400, 161000, 163000, 128000, 122000, 116900, 325000, 55000, 184000, 110000, 131500, 97000, 115500, 138000, 108000, 79500, 153000, 109500, 124000, 106900, 164900, 119000, 120000, 157000, 105000, 113000, 115000, 123000, 81300, 162900, 150000, 123500, 129900, 128000, 68500, 127000, 207000, 184000, 162500, 145000, 130000, 160000, 161000, 127500, 93850, 136000, 141000, 120000, 127500, 127000, 89500, 125000, 79900, 85000, 82375, 135000, 124000, 134000, 135000, 134432, 127500, 148000, 129500, 157500, 109900, 145000, 130000, 153000, 120000, 152000, 108959, 95541, 80000, 149350, 144900, 185000, 165000, 235000, 140000, 108000, 145000, 152400, 144000, 173000, 192000, 245000, 241500, 256000, 177000, 125600, 155000, 240000, 260000, 185000, 235000, 159900, 99600, 134500, 119000, 107500, 125000, 79000, 95000, 262280, 260000, 226500, 225000, 229000, 177439, 248500, 475000, 395039, 228000, 225000, 195000, 200000, 155000, 144000, 145000, 226001, 215700, 207500, 193000, 188000, 191000, 221000, 231500, 235000, 223500, 130250, 149900, 158000, 147000, 143195, 163000, 110000, 127000, 124900, 230000, 235000, 230500, 230000, 222500, 287000, 274000, 300000, 255900, 224900, 240000, 183000, 207000, 210000, 136500, 145000, 208900, 185000, 214000, 208500, 186500, 210000, 185900, 179900, 218836, 193000, 189000, 149300, 141000, 149000, 144500, 85000, 145900, 123000, 147500, 165000, 135000, 108000, 137500, 165400, 147000, 160500, 176000, 160000, 148000, 82000, 82000, 118000, 82500, 91900, 120000, 96000, 99000, 130500, 135000, 135500, 100000, 108000, 98000, 67000, 135900, 140000, 179500, 136500, 168000, 130000, 189000, 161900, 145000, 191000, 177000, 147500, 91000, 231000, 115000, 138000, 149000, 188700, 198000, 110000, 104000, 257076, 381000, 311500, 263400, 236500, 224000, 116500, 151000, 126000, 120000, 55000, 120500, 120500, 119000, 126000, 99500, 165500, 13100, 89000, 40000, 80900, 81000, 65000, 392500, 294464, 250000, 275000, 300000, 271000, 213000, 171000, 171500, 100000, 228500, 228950, 241500, 287000, 294000, 293077, 264966, 172500, 218689, 150000, 184000, 180000, 175000, 232500, 195000, 305000, 298751, 370000, 209200, 206300, 146000, 160500, 173000, 124000, 115000, 129500, 105000, 94900, 152500, 98000, 81000, 113000, 128500, 119500, 130500, 138000, 134500, 160000, 137500, 172000, 103000, 167300, 167000, 244000, 268000, 225000, 168000, 177000, 169000, 161500, 251000, 160000, 180000, 178750, 176000, 204000, 160000, 160000, 163900, 168000, 154204, 170000, 207500, 182000, 212000, 377426, 349265, 591587, 155000, 319900, 392000, 441929, 455000, 182900, 174000, 178000, 176000, 213000, 192000, 190000, 195000, 148000, 151500, 197000, 192350, 152000, 170000, 175000, 175000, 197900, 174000, 178900, 139000, 143250, 184000, 155000, 133000, 119500, 123000, 110000, 128000, 120500, 133000, 155000, 177000, 113500, 113000, 113700, 106000, 122500, 128000, 155000, 142500, 129250, 356000, 314813, 318000, 322400, 318000, 345474, 415298, 492000, 338931, 450000, 280000, 479069, 395000, 380000, 250000, 440000, 418000, 500067, 260116, 317000, 319500, 325624, 372000, 342000, 354000, 350000, 285000, 281500, 245700, 232698, 250000, 194700, 204000, 200000, 207000, 209500, 209500, 202500, 280000, 277500, 318061, 221370, 200000, 176000, 178900, 168165, 171925, 198444, 203000, 179540, 176485, 181134, 156932, 166000, 177594, 173500, 172500, 194201, 226500, 185485, 259000, 188500, 175000, 215000, 206580, 183500, 211000, 181000, 219500, 175000, 170000, 162000, 187000, 185000, 745000, 384500, 248000, 466500, 410000, 322500, 252000, 755000, 269790, 315750, 290000, 290000, 430000, 263000, 330000, 213133, 260261, 320000, 282922, 215000, 419005, 255000, 147000, 311872, 248328, 227000, 260000, 225000, 249000, 307000, 250000, 221300, 208900, 210400, 255000, 212109, 270000, 303477, 249700, 227875, 261329, 253000, 265000, 340000, 146000, 147000, 149000, 181000, 201000, 191750, 179000, 215000, 179200, 128000, 144000, 144000, 120750, 132500, 132000, 132500, 129000, 143900, 145000, 128500, 125500, 300000, 294000, 129000, 171000, 147000, 302000, 285000, 214000, 166000, 193800, 208900, 194000, 164700, 176500, 176000, 168500, 177000, 177000, 148800, 174000, 239000, 204000, 301000, 312500, 279700, 255000, 194000, 218000, 213750, 187000, 181500, 373000, 190000, 226000, 143450, 240050, 162500, 164000, 185000, 188500, 255000, 136905, 158500, 175500, 127000, 127000, 143000, 156000, 144000, 119000, 103000, 139900, 151500, 126500, 145000, 120000, 124000, 106500, 140500, 137500, 117600, 163500, 161000, 158000, 224500, 147000, 200000, 181900, 150750, 101800, 124000, 138500, 39300, 64500, 64000, 112000, 165000, 144000, 137000, 105000, 146500, 126000, 175000, 158500, 114500, 144000, 129000, 141000, 131000, 142100, 139000, 157900, 139400, 150000, 120000, 174850, 116000, 135000, 163500, 130000, 129500, 142000, 128600, 125000, 136000, 134500, 127000, 130000, 115000, 116900, 132000, 153000, 112500, 138000, 135000, 156000, 301600, 109000, 103200, 128500, 64500, 148000, 86000, 172000, 120000, 128500, 135000, 122900, 119200, 143000, 119000, 102000, 129000, 135000, 152000, 140000, 152000, 156500, 141000, 99000, 187000, 169500, 125500, 130000, 103000, 132000, 127500, 89500, 140000, 99900, 100000, 130000, 135000, 120000, 89471, 85000, 108500, 137000, 110500, 100000, 184900, 145000, 125000, 114000, 90000, 144100, 117500, 124500, 185000, 133900, 152000, 153500, 159500, 87000, 104500, 110000, 136500, 128250, 144000, 210000, 135000, 128000, 131000, 113000, 126000, 132000, 131750, 132500, 137500, 132000, 127500, 102000, 200000, 180500, 165000, 90000, 153575, 140000, 136000, 113000, 117000, 169500, 139400, 202500, 127000, 141000, 212300, 161000, 99500, 101000, 109900, 128500, 122000, 87000, 50000, 219000, 200500, 126000, 108500, 130000, 158450, 115400, 118500, 165000, 123000, 129000, 125000, 108000, 119900, 115000, 134500, 127000, 129000, 143500, 129000, 187000, 158000, 112000, 165250, 150000, 137000, 89500, 302000, 182000, 211000, 216000, 130000, 109900, 255000, 243000, 154000, 118000, 80000, 150000, 86000, 130000, 125000, 136500, 96000, 120000, 228500, 179900, 225000, 301000, 238000, 228500, 220000, 383970, 424870, 250000, 360000, 279500, 200141, 246500, 276000, 203000, 155835, 194000, 195400, 217000, 212999, 175900, 191000, 176432, 277000, 207000, 277000, 240000, 187500, 279000, 139500, 126000, 177500, 175000, 211000, 146000, 147900, 123600, 204750, 235500, 217000, 190550, 217500, 226000, 180000, 131000, 153500, 160000, 134900, 130000, 120000, 112500, 122000, 127000, 117000, 305900, 228500, 270000, 192000, 213000, 200000, 267000, 228000, 275000, 211000, 285000, 240000, 131500, 246900, 219500, 185000, 179400, 213500, 179600, 173500, 167840, 168675, 167000, 140000, 118500, 110000, 94750, 122000, 110000, 118500, 133500, 148000, 141000, 155000, 157000, 171500, 183850, 184750, 140000, 131750, 61500, 111000, 98500, 79000, 108500, 110000, 112000, 125000, 79275, 119000, 200000, 150000, 165000, 96500, 136500, 146500, 175000, 148500, 141500, 189950, 135000, 164000, 90350, 139000, 119750, 145000, 145000, 238000, 153500, 239000, 359100, 188000, 220000, 140000, 315000, 259500, 257500, 219500, 217000, 201000, 215000, 123900, 170000, 200000, 198000, 315000, 115000, 141000, 87000, 129850, 100000, 150909, 75200, 118400, 67000, 152000, 68104, 119600, 140000, 124900, 375000, 235000, 183500, 156000, 134000, 215000, 245000, 210000, 148000, 143000, 244000, 330000, 170000, 257000, 231713, 265900, 239000, 248900, 174000, 187500, 204000, 180500, 187500, 282000, 178000, 270000, 279900, 186700, 283463, 392000, 281213, 147000, 130000, 140000, 132250, 143000, 168000, 129900, 134000, 85500, 106500, 93900, 75000, 84500, 75190, 146800, 153500, 188000, 196000, 157000, 138000, 129500, 80000, 129500, 135000, 124500, 139000, 93500, 124500, 149900, 157500, 169000, 252000, 192100, 183500, 222000, 170000, 187500, 202000, 185000, 320000, 240000, 250000, 239900, 309000, 274725, 270000, 183500, 165600, 176500, 130000, 239000, 275000, 457347, 545224, 356383, 556581, 361919, 535000, 401179, 438780, 169000, 145000, 318000, 319000, 470000, 202500, 229000, 235000, 190000, 169000, 241500, 188900, 207500, 250000, 179900, 172000, 294323, 184500, 153500, 162900, 181000, 155000, 138800, 116050, 88000, 97500, 190000, 105500, 125500, 83000, 116000, 91500, 118000, 89000, 108000, 94500, 146300, 145000, 123000, 137500, 144000, 315000, 412083, 342643, 252000, 293000, 415000, 326000, 325300, 309000, 300000, 275500, 338500, 345000, 298236, 329900, 360000, 281000, 372397, 378000, 374000, 437154, 275000, 279000, 185850, 282500, 202500, 202665, 332200, 310090, 171750, 169990, 170440, 169985, 179665, 219210, 174190, 172785, 258000, 185101, 210250, 234000, 215000, 246990, 178740, 225000, 167240, 156820, 213490, 264561, 246578, 192140, 183200, 178000, 201490, 230500, 180000, 172400, 215000, 199900, 173000, 287602, 230000, 348000, 286000, 300000, 625000, 405000, 280000, 258000, 350000, 584500, 321000, 290000, 315000, 252000, 423000, 290000, 232000, 199000, 198600, 405749, 232600, 266000, 186500, 200825, 197000, 185000, 176000, 187750, 139500, 186800, 132000, 142500, 158000, 184000, 184900, 187000, 175900, 248500, 172000, 151000, 150000, 107000, 119900, 129500, 125000, 119500, 144000, 151000, 126000, 116000, 133500, 120875, 137000, 124000, 135000, 129200, 260000, 260000, 334000, 310000, 268000, 262000, 176400, 197000, 151000, 147400, 149900, 144152, 166000, 183900, 165000, 139000, 200000, 221000, 270000, 165000, 214000, 188000, 190000, 170000, 385000, 146500, 170000, 262500, 179900, 250000, 165150, 164500, 140000, 135500, 142000, 155000, 157500, 138500, 140000, 124400, 158000, 146000, 190000, 136500, 129900, 145000, 185900, 160000, 167000, 157500, 140000, 150000, 151500, 129800, 137000, 137000, 121600, 85500, 79900, 127000, 161000, 146500, 135000, 137900, 133000, 137000, 121000, 119000, 172000, 98600, 226000, 118000, 235000, 135000, 132500, 143000, 132000, 145250, 162000, 148000, 141000, 153000, 134450, 135960, 156000, 140000, 139500, 155000, 127000, 133500, 125000, 142000, 167000, 159000, 180000, 127000, 112000, 99800, 117000, 108480, 68000, 86900, 120000, 155500, 80000, 105000, 160000, 170000, 160000, 159950, 165000, 159000, 147000, 115000, 159500, 120000, 129900, 183000, 157500, 277500, 207500, 147500, 135000, 109500, 109900, 133700, 81400, 87500, 93500, 119000, 141000, 146000, 155000, 134500, 120000, 105000, 124000, 169000, 107000, 135000, 111500, 156500, 178000, 139900, 105000, 110000, 111500, 108000, 111500, 124000, 105000, 116000, 96900, 135500, 139000, 61500, 120000, 126175, 64000, 137000, 87000, 163000, 155000, 79000, 144000, 114504, 157000, 125000, 475000, 93500, 125000, 64500, 100000, 140200, 202500, 159000, 119900, 114500, 115000, 75000, 88000, 80500, 149000, 110000, 110500, 89000, 113000, 109000, 220000, 129000, 117000, 52500, 107000, 116500, 72000, 119500, 125500, 91000, 84500, 90000, 137500, 150000, 131000, 130000, 125000, 80000, 157000, 148000, 90000, 154500, 153600, 164500, 132000, 142500, 158000, 149500, 165000, 180000, 160500, 156500, 157000, 172500, 155000, 170000, 105000, 145000, 168000, 278000, 164000, 225000, 130000, 142500, 148400, 190000, 146000, 128000, 225000, 274970, 235000, 415000, 182000, 135000, 137000, 136900, 149900, 123500, 93000, 91500, 180000, 209000, 215000, 224500, 229800, 183600, 194000, 193879, 221500, 204900, 239799, 233555, 260000, 294900, 209700, 225000, 181000, 220000, 190000, 180000, 280000, 158900, 148000, 145000, 187000, 193000, 156000, 235000, 217000, 214000, 196000, 217000, 200000, 192500, 205000, 132500, 157500, 174000, 128500, 128500, 149900, 119900, 137000, 255000, 222000, 214000, 220000, 275000, 197000, 230000, 268500, 210900, 227000, 237000, 274300, 216837, 133000, 155900, 233230, 207000, 195000, 200000, 203160, 195800, 212900, 196500, 198000, 173900, 163990, 164990, 98000, 149900, 102000, 127500, 127500, 119900, 196500, 229000, 145000, 140000, 142500, 134000, 130000, 130000, 137500, 130000, 97900, 92000, 107000, 81000, 104900, 115000, 125000, 116000, 83000, 118500, 35000, 121000, 160000, 140000, 137000, 128000, 160000, 138887, 149000, 102000, 167000, 200100, 131000, 112000, 140000, 195000, 230000, 194000, 137500, 250000, 218000, 239000, 199500, 210000, 230000, 217500, 257000, 157000, 223000, 102000, 145400, 72000, 85000, 106500, 139000, 108000, 51689, 35311, 115000, 78000, 375000, 300000, 242500, 145000, 209000, 135000, 148000, 171000, 335000, 230000, 250764, 228000, 176000, 180000, 250000, 202000, 312500, 320000, 369900, 359900, 81500, 215000, 164000, 153500, 84500, 104500, 127000, 151400, 126500, 146500, 73000, 79400, 140000, 92000, 87550, 79500, 90500, 71000, 150900, 188000, 160000, 131000, 142500, 131000, 132000, 170000, 188000], \"yaxis\": \"y\"}, {\"hoverlabel\": {\"namelength\": 0}, \"hovertemplate\": \"<b>OLS trendline</b><br>SalePrice = 45225.679648 * Overall_Qual + -94894.930601<br>R<sup>2</sup>=0.638591<br><br>Overall_Qual=%{x}<br>SalePrice=%{y} <b>(trend)</b>\", \"legendgroup\": \"\", \"marker\": {\"color\": \"#636efa\", \"symbol\": \"circle\"}, \"mode\": \"lines\", \"name\": \"\", \"showlegend\": false, \"type\": \"scattergl\", \"x\": [1, 1, 1, 1, 2, 2, 2, 2, 2, 2, 2, 2, 2, 2, 2, 2, 2, 3, 3, 3, 3, 3, 3, 3, 3, 3, 3, 3, 3, 3, 3, 3, 3, 3, 3, 3, 3, 3, 3, 3, 3, 3, 3, 3, 3, 3, 3, 3, 3, 3, 3, 3, 3, 3, 3, 3, 3, 4, 4, 4, 4, 4, 4, 4, 4, 4, 4, 4, 4, 4, 4, 4, 4, 4, 4, 4, 4, 4, 4, 4, 4, 4, 4, 4, 4, 4, 4, 4, 4, 4, 4, 4, 4, 4, 4, 4, 4, 4, 4, 4, 4, 4, 4, 4, 4, 4, 4, 4, 4, 4, 4, 4, 4, 4, 4, 4, 4, 4, 4, 4, 4, 4, 4, 4, 4, 4, 4, 4, 4, 4, 4, 4, 4, 4, 4, 4, 4, 4, 4, 4, 4, 4, 4, 4, 4, 4, 4, 4, 4, 4, 4, 4, 4, 4, 4, 4, 4, 4, 4, 4, 4, 4, 4, 4, 4, 4, 4, 4, 4, 4, 4, 4, 4, 4, 4, 4, 4, 4, 4, 4, 4, 4, 4, 4, 4, 4, 4, 4, 4, 4, 4, 4, 4, 4, 4, 4, 4, 4, 4, 4, 4, 4, 4, 4, 4, 4, 4, 4, 4, 4, 4, 4, 4, 4, 4, 4, 4, 4, 4, 4, 4, 4, 4, 4, 4, 4, 4, 4, 4, 4, 4, 4, 4, 4, 4, 4, 4, 4, 4, 4, 4, 4, 4, 4, 4, 4, 4, 4, 4, 4, 4, 4, 4, 4, 4, 4, 4, 4, 4, 4, 4, 4, 4, 4, 4, 4, 4, 4, 4, 4, 4, 4, 4, 4, 4, 4, 4, 4, 4, 4, 4, 4, 5, 5, 5, 5, 5, 5, 5, 5, 5, 5, 5, 5, 5, 5, 5, 5, 5, 5, 5, 5, 5, 5, 5, 5, 5, 5, 5, 5, 5, 5, 5, 5, 5, 5, 5, 5, 5, 5, 5, 5, 5, 5, 5, 5, 5, 5, 5, 5, 5, 5, 5, 5, 5, 5, 5, 5, 5, 5, 5, 5, 5, 5, 5, 5, 5, 5, 5, 5, 5, 5, 5, 5, 5, 5, 5, 5, 5, 5, 5, 5, 5, 5, 5, 5, 5, 5, 5, 5, 5, 5, 5, 5, 5, 5, 5, 5, 5, 5, 5, 5, 5, 5, 5, 5, 5, 5, 5, 5, 5, 5, 5, 5, 5, 5, 5, 5, 5, 5, 5, 5, 5, 5, 5, 5, 5, 5, 5, 5, 5, 5, 5, 5, 5, 5, 5, 5, 5, 5, 5, 5, 5, 5, 5, 5, 5, 5, 5, 5, 5, 5, 5, 5, 5, 5, 5, 5, 5, 5, 5, 5, 5, 5, 5, 5, 5, 5, 5, 5, 5, 5, 5, 5, 5, 5, 5, 5, 5, 5, 5, 5, 5, 5, 5, 5, 5, 5, 5, 5, 5, 5, 5, 5, 5, 5, 5, 5, 5, 5, 5, 5, 5, 5, 5, 5, 5, 5, 5, 5, 5, 5, 5, 5, 5, 5, 5, 5, 5, 5, 5, 5, 5, 5, 5, 5, 5, 5, 5, 5, 5, 5, 5, 5, 5, 5, 5, 5, 5, 5, 5, 5, 5, 5, 5, 5, 5, 5, 5, 5, 5, 5, 5, 5, 5, 5, 5, 5, 5, 5, 5, 5, 5, 5, 5, 5, 5, 5, 5, 5, 5, 5, 5, 5, 5, 5, 5, 5, 5, 5, 5, 5, 5, 5, 5, 5, 5, 5, 5, 5, 5, 5, 5, 5, 5, 5, 5, 5, 5, 5, 5, 5, 5, 5, 5, 5, 5, 5, 5, 5, 5, 5, 5, 5, 5, 5, 5, 5, 5, 5, 5, 5, 5, 5, 5, 5, 5, 5, 5, 5, 5, 5, 5, 5, 5, 5, 5, 5, 5, 5, 5, 5, 5, 5, 5, 5, 5, 5, 5, 5, 5, 5, 5, 5, 5, 5, 5, 5, 5, 5, 5, 5, 5, 5, 5, 5, 5, 5, 5, 5, 5, 5, 5, 5, 5, 5, 5, 5, 5, 5, 5, 5, 5, 5, 5, 5, 5, 5, 5, 5, 5, 5, 5, 5, 5, 5, 5, 5, 5, 5, 5, 5, 5, 5, 5, 5, 5, 5, 5, 5, 5, 5, 5, 5, 5, 5, 5, 5, 5, 5, 5, 5, 5, 5, 5, 5, 5, 5, 5, 5, 5, 5, 5, 5, 5, 5, 5, 5, 5, 5, 5, 5, 5, 5, 5, 5, 5, 5, 5, 5, 5, 5, 5, 5, 5, 5, 5, 5, 5, 5, 5, 5, 5, 5, 5, 5, 5, 5, 5, 5, 5, 5, 5, 5, 5, 5, 5, 5, 5, 5, 5, 5, 5, 5, 5, 5, 5, 5, 5, 5, 5, 5, 5, 5, 5, 5, 5, 5, 5, 5, 5, 5, 5, 5, 5, 5, 5, 5, 5, 5, 5, 5, 5, 5, 5, 5, 5, 5, 5, 5, 5, 5, 5, 5, 5, 5, 5, 5, 5, 5, 5, 5, 5, 5, 5, 5, 5, 5, 5, 5, 5, 5, 5, 5, 5, 5, 5, 5, 5, 5, 5, 5, 5, 5, 5, 5, 5, 5, 5, 5, 5, 5, 5, 5, 5, 5, 5, 5, 5, 5, 5, 5, 5, 5, 5, 5, 5, 5, 5, 5, 5, 5, 5, 5, 5, 5, 5, 5, 5, 5, 5, 5, 5, 5, 5, 5, 5, 5, 5, 5, 5, 5, 5, 5, 5, 5, 5, 5, 5, 5, 5, 5, 5, 5, 5, 5, 5, 5, 5, 5, 5, 5, 5, 5, 5, 5, 5, 5, 5, 5, 5, 5, 5, 5, 5, 5, 5, 5, 5, 5, 5, 5, 5, 5, 5, 5, 5, 5, 5, 5, 5, 5, 5, 5, 5, 5, 5, 5, 5, 5, 5, 5, 5, 5, 5, 5, 5, 5, 5, 5, 5, 5, 5, 5, 5, 5, 5, 5, 5, 5, 5, 5, 5, 5, 5, 5, 5, 5, 5, 5, 5, 5, 5, 5, 5, 5, 5, 5, 5, 5, 5, 5, 5, 5, 5, 5, 5, 5, 5, 5, 5, 5, 5, 5, 5, 5, 5, 5, 5, 5, 5, 5, 5, 5, 5, 5, 5, 5, 5, 5, 5, 5, 5, 5, 5, 5, 5, 5, 5, 5, 5, 5, 5, 5, 5, 5, 5, 5, 5, 5, 5, 5, 5, 5, 5, 5, 5, 5, 5, 5, 5, 5, 5, 5, 5, 5, 5, 5, 5, 5, 5, 5, 5, 5, 5, 5, 5, 5, 5, 5, 5, 5, 5, 5, 5, 5, 5, 5, 5, 5, 5, 5, 5, 5, 5, 5, 5, 5, 5, 5, 5, 5, 5, 5, 5, 5, 5, 5, 5, 5, 5, 5, 5, 5, 5, 5, 5, 5, 5, 5, 5, 5, 5, 5, 5, 6, 6, 6, 6, 6, 6, 6, 6, 6, 6, 6, 6, 6, 6, 6, 6, 6, 6, 6, 6, 6, 6, 6, 6, 6, 6, 6, 6, 6, 6, 6, 6, 6, 6, 6, 6, 6, 6, 6, 6, 6, 6, 6, 6, 6, 6, 6, 6, 6, 6, 6, 6, 6, 6, 6, 6, 6, 6, 6, 6, 6, 6, 6, 6, 6, 6, 6, 6, 6, 6, 6, 6, 6, 6, 6, 6, 6, 6, 6, 6, 6, 6, 6, 6, 6, 6, 6, 6, 6, 6, 6, 6, 6, 6, 6, 6, 6, 6, 6, 6, 6, 6, 6, 6, 6, 6, 6, 6, 6, 6, 6, 6, 6, 6, 6, 6, 6, 6, 6, 6, 6, 6, 6, 6, 6, 6, 6, 6, 6, 6, 6, 6, 6, 6, 6, 6, 6, 6, 6, 6, 6, 6, 6, 6, 6, 6, 6, 6, 6, 6, 6, 6, 6, 6, 6, 6, 6, 6, 6, 6, 6, 6, 6, 6, 6, 6, 6, 6, 6, 6, 6, 6, 6, 6, 6, 6, 6, 6, 6, 6, 6, 6, 6, 6, 6, 6, 6, 6, 6, 6, 6, 6, 6, 6, 6, 6, 6, 6, 6, 6, 6, 6, 6, 6, 6, 6, 6, 6, 6, 6, 6, 6, 6, 6, 6, 6, 6, 6, 6, 6, 6, 6, 6, 6, 6, 6, 6, 6, 6, 6, 6, 6, 6, 6, 6, 6, 6, 6, 6, 6, 6, 6, 6, 6, 6, 6, 6, 6, 6, 6, 6, 6, 6, 6, 6, 6, 6, 6, 6, 6, 6, 6, 6, 6, 6, 6, 6, 6, 6, 6, 6, 6, 6, 6, 6, 6, 6, 6, 6, 6, 6, 6, 6, 6, 6, 6, 6, 6, 6, 6, 6, 6, 6, 6, 6, 6, 6, 6, 6, 6, 6, 6, 6, 6, 6, 6, 6, 6, 6, 6, 6, 6, 6, 6, 6, 6, 6, 6, 6, 6, 6, 6, 6, 6, 6, 6, 6, 6, 6, 6, 6, 6, 6, 6, 6, 6, 6, 6, 6, 6, 6, 6, 6, 6, 6, 6, 6, 6, 6, 6, 6, 6, 6, 6, 6, 6, 6, 6, 6, 6, 6, 6, 6, 6, 6, 6, 6, 6, 6, 6, 6, 6, 6, 6, 6, 6, 6, 6, 6, 6, 6, 6, 6, 6, 6, 6, 6, 6, 6, 6, 6, 6, 6, 6, 6, 6, 6, 6, 6, 6, 6, 6, 6, 6, 6, 6, 6, 6, 6, 6, 6, 6, 6, 6, 6, 6, 6, 6, 6, 6, 6, 6, 6, 6, 6, 6, 6, 6, 6, 6, 6, 6, 6, 6, 6, 6, 6, 6, 6, 6, 6, 6, 6, 6, 6, 6, 6, 6, 6, 6, 6, 6, 6, 6, 6, 6, 6, 6, 6, 6, 6, 6, 6, 6, 6, 6, 6, 6, 6, 6, 6, 6, 6, 6, 6, 6, 6, 6, 6, 6, 6, 6, 6, 6, 6, 6, 6, 6, 6, 6, 6, 6, 6, 6, 6, 6, 6, 6, 6, 6, 6, 6, 6, 6, 6, 6, 6, 6, 6, 6, 6, 6, 6, 6, 6, 6, 6, 6, 6, 6, 6, 6, 6, 6, 6, 6, 6, 6, 6, 6, 6, 6, 6, 6, 6, 6, 6, 6, 6, 6, 6, 6, 6, 6, 6, 6, 6, 6, 6, 6, 6, 6, 6, 6, 6, 6, 6, 6, 6, 6, 6, 6, 6, 6, 6, 6, 6, 6, 6, 6, 6, 6, 6, 6, 6, 6, 6, 6, 6, 6, 6, 6, 6, 6, 6, 6, 6, 6, 6, 6, 6, 6, 6, 6, 6, 6, 6, 6, 6, 6, 6, 6, 6, 6, 6, 6, 6, 6, 6, 6, 6, 6, 6, 6, 6, 6, 6, 6, 6, 6, 6, 6, 6, 6, 6, 6, 6, 6, 6, 6, 6, 6, 6, 6, 6, 6, 6, 6, 6, 6, 6, 6, 6, 6, 6, 6, 6, 6, 6, 6, 6, 6, 6, 6, 6, 6, 6, 6, 6, 6, 6, 6, 6, 6, 6, 6, 6, 6, 6, 6, 6, 6, 6, 6, 6, 6, 6, 6, 6, 6, 6, 6, 6, 6, 6, 6, 6, 6, 6, 6, 6, 6, 6, 6, 6, 6, 6, 6, 6, 6, 6, 6, 6, 6, 6, 6, 6, 6, 6, 6, 6, 6, 6, 6, 6, 6, 6, 6, 6, 6, 6, 6, 6, 6, 6, 6, 6, 6, 7, 7, 7, 7, 7, 7, 7, 7, 7, 7, 7, 7, 7, 7, 7, 7, 7, 7, 7, 7, 7, 7, 7, 7, 7, 7, 7, 7, 7, 7, 7, 7, 7, 7, 7, 7, 7, 7, 7, 7, 7, 7, 7, 7, 7, 7, 7, 7, 7, 7, 7, 7, 7, 7, 7, 7, 7, 7, 7, 7, 7, 7, 7, 7, 7, 7, 7, 7, 7, 7, 7, 7, 7, 7, 7, 7, 7, 7, 7, 7, 7, 7, 7, 7, 7, 7, 7, 7, 7, 7, 7, 7, 7, 7, 7, 7, 7, 7, 7, 7, 7, 7, 7, 7, 7, 7, 7, 7, 7, 7, 7, 7, 7, 7, 7, 7, 7, 7, 7, 7, 7, 7, 7, 7, 7, 7, 7, 7, 7, 7, 7, 7, 7, 7, 7, 7, 7, 7, 7, 7, 7, 7, 7, 7, 7, 7, 7, 7, 7, 7, 7, 7, 7, 7, 7, 7, 7, 7, 7, 7, 7, 7, 7, 7, 7, 7, 7, 7, 7, 7, 7, 7, 7, 7, 7, 7, 7, 7, 7, 7, 7, 7, 7, 7, 7, 7, 7, 7, 7, 7, 7, 7, 7, 7, 7, 7, 7, 7, 7, 7, 7, 7, 7, 7, 7, 7, 7, 7, 7, 7, 7, 7, 7, 7, 7, 7, 7, 7, 7, 7, 7, 7, 7, 7, 7, 7, 7, 7, 7, 7, 7, 7, 7, 7, 7, 7, 7, 7, 7, 7, 7, 7, 7, 7, 7, 7, 7, 7, 7, 7, 7, 7, 7, 7, 7, 7, 7, 7, 7, 7, 7, 7, 7, 7, 7, 7, 7, 7, 7, 7, 7, 7, 7, 7, 7, 7, 7, 7, 7, 7, 7, 7, 7, 7, 7, 7, 7, 7, 7, 7, 7, 7, 7, 7, 7, 7, 7, 7, 7, 7, 7, 7, 7, 7, 7, 7, 7, 7, 7, 7, 7, 7, 7, 7, 7, 7, 7, 7, 7, 7, 7, 7, 7, 7, 7, 7, 7, 7, 7, 7, 7, 7, 7, 7, 7, 7, 7, 7, 7, 7, 7, 7, 7, 7, 7, 7, 7, 7, 7, 7, 7, 7, 7, 7, 7, 7, 7, 7, 7, 7, 7, 7, 7, 7, 7, 7, 7, 7, 7, 7, 7, 7, 7, 7, 7, 7, 7, 7, 7, 7, 7, 7, 7, 7, 7, 7, 7, 7, 7, 7, 7, 7, 7, 7, 7, 7, 7, 7, 7, 7, 7, 7, 7, 7, 7, 7, 7, 7, 7, 7, 7, 7, 7, 7, 7, 7, 7, 7, 7, 7, 7, 7, 7, 7, 7, 7, 7, 7, 7, 7, 7, 7, 7, 7, 7, 7, 7, 7, 7, 7, 7, 7, 7, 7, 7, 7, 7, 7, 7, 7, 7, 7, 7, 7, 7, 7, 7, 7, 7, 7, 7, 7, 7, 7, 7, 7, 7, 7, 7, 7, 7, 7, 7, 7, 7, 7, 7, 7, 7, 7, 7, 7, 7, 7, 7, 7, 7, 7, 7, 7, 7, 7, 7, 7, 7, 7, 7, 7, 7, 7, 7, 7, 7, 7, 7, 7, 7, 7, 7, 7, 7, 7, 7, 7, 7, 7, 7, 7, 7, 7, 7, 7, 7, 7, 7, 7, 7, 7, 7, 7, 7, 7, 7, 7, 7, 7, 7, 7, 7, 7, 7, 7, 7, 7, 7, 7, 7, 7, 7, 7, 7, 7, 7, 7, 7, 7, 7, 7, 7, 7, 7, 7, 7, 7, 7, 7, 7, 7, 7, 7, 7, 7, 7, 7, 7, 7, 7, 7, 7, 7, 7, 7, 7, 7, 7, 7, 7, 7, 7, 7, 7, 7, 8, 8, 8, 8, 8, 8, 8, 8, 8, 8, 8, 8, 8, 8, 8, 8, 8, 8, 8, 8, 8, 8, 8, 8, 8, 8, 8, 8, 8, 8, 8, 8, 8, 8, 8, 8, 8, 8, 8, 8, 8, 8, 8, 8, 8, 8, 8, 8, 8, 8, 8, 8, 8, 8, 8, 8, 8, 8, 8, 8, 8, 8, 8, 8, 8, 8, 8, 8, 8, 8, 8, 8, 8, 8, 8, 8, 8, 8, 8, 8, 8, 8, 8, 8, 8, 8, 8, 8, 8, 8, 8, 8, 8, 8, 8, 8, 8, 8, 8, 8, 8, 8, 8, 8, 8, 8, 8, 8, 8, 8, 8, 8, 8, 8, 8, 8, 8, 8, 8, 8, 8, 8, 8, 8, 8, 8, 8, 8, 8, 8, 8, 8, 8, 8, 8, 8, 8, 8, 8, 8, 8, 8, 8, 8, 8, 8, 8, 8, 8, 8, 8, 8, 8, 8, 8, 8, 8, 8, 8, 8, 8, 8, 8, 8, 8, 8, 8, 8, 8, 8, 8, 8, 8, 8, 8, 8, 8, 8, 8, 8, 8, 8, 8, 8, 8, 8, 8, 8, 8, 8, 8, 8, 8, 8, 8, 8, 8, 8, 8, 8, 8, 8, 8, 8, 8, 8, 8, 8, 8, 8, 8, 8, 8, 8, 8, 8, 8, 8, 8, 8, 8, 8, 8, 8, 8, 8, 8, 8, 8, 8, 8, 8, 8, 8, 8, 8, 8, 8, 8, 8, 8, 8, 8, 8, 8, 8, 8, 8, 8, 8, 8, 8, 8, 8, 8, 8, 8, 8, 8, 8, 8, 8, 8, 8, 8, 8, 8, 8, 8, 8, 8, 8, 8, 8, 8, 8, 8, 8, 8, 8, 8, 8, 8, 8, 8, 8, 8, 8, 8, 8, 8, 8, 8, 8, 8, 8, 8, 8, 8, 8, 8, 8, 8, 8, 8, 8, 8, 8, 8, 8, 8, 8, 8, 8, 8, 8, 8, 8, 8, 8, 8, 8, 8, 8, 8, 8, 8, 8, 8, 8, 8, 8, 8, 8, 8, 8, 8, 8, 8, 8, 8, 8, 9, 9, 9, 9, 9, 9, 9, 9, 9, 9, 9, 9, 9, 9, 9, 9, 9, 9, 9, 9, 9, 9, 9, 9, 9, 9, 9, 9, 9, 9, 9, 9, 9, 9, 9, 9, 9, 9, 9, 9, 9, 9, 9, 9, 9, 9, 9, 9, 9, 9, 9, 9, 9, 9, 9, 9, 9, 9, 9, 9, 9, 9, 9, 9, 9, 9, 9, 9, 9, 9, 9, 9, 9, 9, 9, 9, 9, 9, 9, 9, 9, 9, 9, 9, 9, 9, 9, 9, 9, 9, 9, 9, 9, 9, 9, 9, 9, 9, 9, 9, 9, 9, 9, 9, 9, 9, 9, 10, 10, 10, 10, 10, 10, 10, 10, 10, 10, 10, 10, 10, 10, 10, 10, 10, 10, 10, 10, 10, 10, 10, 10, 10, 10, 10, 10, 10, 10], \"xaxis\": \"x\", \"y\": [-49669.250952733986, -49669.250952733986, -49669.250952733986, -49669.250952733986, -4443.571304295008, -4443.571304295008, -4443.571304295008, -4443.571304295008, -4443.571304295008, -4443.571304295008, -4443.571304295008, -4443.571304295008, -4443.571304295008, -4443.571304295008, -4443.571304295008, -4443.571304295008, -4443.571304295008, 40782.108344143955, 40782.108344143955, 40782.108344143955, 40782.108344143955, 40782.108344143955, 40782.108344143955, 40782.108344143955, 40782.108344143955, 40782.108344143955, 40782.108344143955, 40782.108344143955, 40782.108344143955, 40782.108344143955, 40782.108344143955, 40782.108344143955, 40782.108344143955, 40782.108344143955, 40782.108344143955, 40782.108344143955, 40782.108344143955, 40782.108344143955, 40782.108344143955, 40782.108344143955, 40782.108344143955, 40782.108344143955, 40782.108344143955, 40782.108344143955, 40782.108344143955, 40782.108344143955, 40782.108344143955, 40782.108344143955, 40782.108344143955, 40782.108344143955, 40782.108344143955, 40782.108344143955, 40782.108344143955, 40782.108344143955, 40782.108344143955, 40782.108344143955, 40782.108344143955, 86007.78799258295, 86007.78799258295, 86007.78799258295, 86007.78799258295, 86007.78799258295, 86007.78799258295, 86007.78799258295, 86007.78799258295, 86007.78799258295, 86007.78799258295, 86007.78799258295, 86007.78799258295, 86007.78799258295, 86007.78799258295, 86007.78799258295, 86007.78799258295, 86007.78799258295, 86007.78799258295, 86007.78799258295, 86007.78799258295, 86007.78799258295, 86007.78799258295, 86007.78799258295, 86007.78799258295, 86007.78799258295, 86007.78799258295, 86007.78799258295, 86007.78799258295, 86007.78799258295, 86007.78799258295, 86007.78799258295, 86007.78799258295, 86007.78799258295, 86007.78799258295, 86007.78799258295, 86007.78799258295, 86007.78799258295, 86007.78799258295, 86007.78799258295, 86007.78799258295, 86007.78799258295, 86007.78799258295, 86007.78799258295, 86007.78799258295, 86007.78799258295, 86007.78799258295, 86007.78799258295, 86007.78799258295, 86007.78799258295, 86007.78799258295, 86007.78799258295, 86007.78799258295, 86007.78799258295, 86007.78799258295, 86007.78799258295, 86007.78799258295, 86007.78799258295, 86007.78799258295, 86007.78799258295, 86007.78799258295, 86007.78799258295, 86007.78799258295, 86007.78799258295, 86007.78799258295, 86007.78799258295, 86007.78799258295, 86007.78799258295, 86007.78799258295, 86007.78799258295, 86007.78799258295, 86007.78799258295, 86007.78799258295, 86007.78799258295, 86007.78799258295, 86007.78799258295, 86007.78799258295, 86007.78799258295, 86007.78799258295, 86007.78799258295, 86007.78799258295, 86007.78799258295, 86007.78799258295, 86007.78799258295, 86007.78799258295, 86007.78799258295, 86007.78799258295, 86007.78799258295, 86007.78799258295, 86007.78799258295, 86007.78799258295, 86007.78799258295, 86007.78799258295, 86007.78799258295, 86007.78799258295, 86007.78799258295, 86007.78799258295, 86007.78799258295, 86007.78799258295, 86007.78799258295, 86007.78799258295, 86007.78799258295, 86007.78799258295, 86007.78799258295, 86007.78799258295, 86007.78799258295, 86007.78799258295, 86007.78799258295, 86007.78799258295, 86007.78799258295, 86007.78799258295, 86007.78799258295, 86007.78799258295, 86007.78799258295, 86007.78799258295, 86007.78799258295, 86007.78799258295, 86007.78799258295, 86007.78799258295, 86007.78799258295, 86007.78799258295, 86007.78799258295, 86007.78799258295, 86007.78799258295, 86007.78799258295, 86007.78799258295, 86007.78799258295, 86007.78799258295, 86007.78799258295, 86007.78799258295, 86007.78799258295, 86007.78799258295, 86007.78799258295, 86007.78799258295, 86007.78799258295, 86007.78799258295, 86007.78799258295, 86007.78799258295, 86007.78799258295, 86007.78799258295, 86007.78799258295, 86007.78799258295, 86007.78799258295, 86007.78799258295, 86007.78799258295, 86007.78799258295, 86007.78799258295, 86007.78799258295, 86007.78799258295, 86007.78799258295, 86007.78799258295, 86007.78799258295, 86007.78799258295, 86007.78799258295, 86007.78799258295, 86007.78799258295, 86007.78799258295, 86007.78799258295, 86007.78799258295, 86007.78799258295, 86007.78799258295, 86007.78799258295, 86007.78799258295, 86007.78799258295, 86007.78799258295, 86007.78799258295, 86007.78799258295, 86007.78799258295, 86007.78799258295, 86007.78799258295, 86007.78799258295, 86007.78799258295, 86007.78799258295, 86007.78799258295, 86007.78799258295, 86007.78799258295, 86007.78799258295, 86007.78799258295, 86007.78799258295, 86007.78799258295, 86007.78799258295, 86007.78799258295, 86007.78799258295, 86007.78799258295, 86007.78799258295, 86007.78799258295, 86007.78799258295, 86007.78799258295, 86007.78799258295, 86007.78799258295, 86007.78799258295, 86007.78799258295, 86007.78799258295, 86007.78799258295, 86007.78799258295, 86007.78799258295, 86007.78799258295, 86007.78799258295, 86007.78799258295, 86007.78799258295, 86007.78799258295, 86007.78799258295, 86007.78799258295, 86007.78799258295, 86007.78799258295, 86007.78799258295, 86007.78799258295, 86007.78799258295, 86007.78799258295, 86007.78799258295, 86007.78799258295, 86007.78799258295, 86007.78799258295, 86007.78799258295, 86007.78799258295, 86007.78799258295, 86007.78799258295, 86007.78799258295, 86007.78799258295, 86007.78799258295, 86007.78799258295, 86007.78799258295, 86007.78799258295, 86007.78799258295, 86007.78799258295, 86007.78799258295, 131233.46764102194, 131233.46764102194, 131233.46764102194, 131233.46764102194, 131233.46764102194, 131233.46764102194, 131233.46764102194, 131233.46764102194, 131233.46764102194, 131233.46764102194, 131233.46764102194, 131233.46764102194, 131233.46764102194, 131233.46764102194, 131233.46764102194, 131233.46764102194, 131233.46764102194, 131233.46764102194, 131233.46764102194, 131233.46764102194, 131233.46764102194, 131233.46764102194, 131233.46764102194, 131233.46764102194, 131233.46764102194, 131233.46764102194, 131233.46764102194, 131233.46764102194, 131233.46764102194, 131233.46764102194, 131233.46764102194, 131233.46764102194, 131233.46764102194, 131233.46764102194, 131233.46764102194, 131233.46764102194, 131233.46764102194, 131233.46764102194, 131233.46764102194, 131233.46764102194, 131233.46764102194, 131233.46764102194, 131233.46764102194, 131233.46764102194, 131233.46764102194, 131233.46764102194, 131233.46764102194, 131233.46764102194, 131233.46764102194, 131233.46764102194, 131233.46764102194, 131233.46764102194, 131233.46764102194, 131233.46764102194, 131233.46764102194, 131233.46764102194, 131233.46764102194, 131233.46764102194, 131233.46764102194, 131233.46764102194, 131233.46764102194, 131233.46764102194, 131233.46764102194, 131233.46764102194, 131233.46764102194, 131233.46764102194, 131233.46764102194, 131233.46764102194, 131233.46764102194, 131233.46764102194, 131233.46764102194, 131233.46764102194, 131233.46764102194, 131233.46764102194, 131233.46764102194, 131233.46764102194, 131233.46764102194, 131233.46764102194, 131233.46764102194, 131233.46764102194, 131233.46764102194, 131233.46764102194, 131233.46764102194, 131233.46764102194, 131233.46764102194, 131233.46764102194, 131233.46764102194, 131233.46764102194, 131233.46764102194, 131233.46764102194, 131233.46764102194, 131233.46764102194, 131233.46764102194, 131233.46764102194, 131233.46764102194, 131233.46764102194, 131233.46764102194, 131233.46764102194, 131233.46764102194, 131233.46764102194, 131233.46764102194, 131233.46764102194, 131233.46764102194, 131233.46764102194, 131233.46764102194, 131233.46764102194, 131233.46764102194, 131233.46764102194, 131233.46764102194, 131233.46764102194, 131233.46764102194, 131233.46764102194, 131233.46764102194, 131233.46764102194, 131233.46764102194, 131233.46764102194, 131233.46764102194, 131233.46764102194, 131233.46764102194, 131233.46764102194, 131233.46764102194, 131233.46764102194, 131233.46764102194, 131233.46764102194, 131233.46764102194, 131233.46764102194, 131233.46764102194, 131233.46764102194, 131233.46764102194, 131233.46764102194, 131233.46764102194, 131233.46764102194, 131233.46764102194, 131233.46764102194, 131233.46764102194, 131233.46764102194, 131233.46764102194, 131233.46764102194, 131233.46764102194, 131233.46764102194, 131233.46764102194, 131233.46764102194, 131233.46764102194, 131233.46764102194, 131233.46764102194, 131233.46764102194, 131233.46764102194, 131233.46764102194, 131233.46764102194, 131233.46764102194, 131233.46764102194, 131233.46764102194, 131233.46764102194, 131233.46764102194, 131233.46764102194, 131233.46764102194, 131233.46764102194, 131233.46764102194, 131233.46764102194, 131233.46764102194, 131233.46764102194, 131233.46764102194, 131233.46764102194, 131233.46764102194, 131233.46764102194, 131233.46764102194, 131233.46764102194, 131233.46764102194, 131233.46764102194, 131233.46764102194, 131233.46764102194, 131233.46764102194, 131233.46764102194, 131233.46764102194, 131233.46764102194, 131233.46764102194, 131233.46764102194, 131233.46764102194, 131233.46764102194, 131233.46764102194, 131233.46764102194, 131233.46764102194, 131233.46764102194, 131233.46764102194, 131233.46764102194, 131233.46764102194, 131233.46764102194, 131233.46764102194, 131233.46764102194, 131233.46764102194, 131233.46764102194, 131233.46764102194, 131233.46764102194, 131233.46764102194, 131233.46764102194, 131233.46764102194, 131233.46764102194, 131233.46764102194, 131233.46764102194, 131233.46764102194, 131233.46764102194, 131233.46764102194, 131233.46764102194, 131233.46764102194, 131233.46764102194, 131233.46764102194, 131233.46764102194, 131233.46764102194, 131233.46764102194, 131233.46764102194, 131233.46764102194, 131233.46764102194, 131233.46764102194, 131233.46764102194, 131233.46764102194, 131233.46764102194, 131233.46764102194, 131233.46764102194, 131233.46764102194, 131233.46764102194, 131233.46764102194, 131233.46764102194, 131233.46764102194, 131233.46764102194, 131233.46764102194, 131233.46764102194, 131233.46764102194, 131233.46764102194, 131233.46764102194, 131233.46764102194, 131233.46764102194, 131233.46764102194, 131233.46764102194, 131233.46764102194, 131233.46764102194, 131233.46764102194, 131233.46764102194, 131233.46764102194, 131233.46764102194, 131233.46764102194, 131233.46764102194, 131233.46764102194, 131233.46764102194, 131233.46764102194, 131233.46764102194, 131233.46764102194, 131233.46764102194, 131233.46764102194, 131233.46764102194, 131233.46764102194, 131233.46764102194, 131233.46764102194, 131233.46764102194, 131233.46764102194, 131233.46764102194, 131233.46764102194, 131233.46764102194, 131233.46764102194, 131233.46764102194, 131233.46764102194, 131233.46764102194, 131233.46764102194, 131233.46764102194, 131233.46764102194, 131233.46764102194, 131233.46764102194, 131233.46764102194, 131233.46764102194, 131233.46764102194, 131233.46764102194, 131233.46764102194, 131233.46764102194, 131233.46764102194, 131233.46764102194, 131233.46764102194, 131233.46764102194, 131233.46764102194, 131233.46764102194, 131233.46764102194, 131233.46764102194, 131233.46764102194, 131233.46764102194, 131233.46764102194, 131233.46764102194, 131233.46764102194, 131233.46764102194, 131233.46764102194, 131233.46764102194, 131233.46764102194, 131233.46764102194, 131233.46764102194, 131233.46764102194, 131233.46764102194, 131233.46764102194, 131233.46764102194, 131233.46764102194, 131233.46764102194, 131233.46764102194, 131233.46764102194, 131233.46764102194, 131233.46764102194, 131233.46764102194, 131233.46764102194, 131233.46764102194, 131233.46764102194, 131233.46764102194, 131233.46764102194, 131233.46764102194, 131233.46764102194, 131233.46764102194, 131233.46764102194, 131233.46764102194, 131233.46764102194, 131233.46764102194, 131233.46764102194, 131233.46764102194, 131233.46764102194, 131233.46764102194, 131233.46764102194, 131233.46764102194, 131233.46764102194, 131233.46764102194, 131233.46764102194, 131233.46764102194, 131233.46764102194, 131233.46764102194, 131233.46764102194, 131233.46764102194, 131233.46764102194, 131233.46764102194, 131233.46764102194, 131233.46764102194, 131233.46764102194, 131233.46764102194, 131233.46764102194, 131233.46764102194, 131233.46764102194, 131233.46764102194, 131233.46764102194, 131233.46764102194, 131233.46764102194, 131233.46764102194, 131233.46764102194, 131233.46764102194, 131233.46764102194, 131233.46764102194, 131233.46764102194, 131233.46764102194, 131233.46764102194, 131233.46764102194, 131233.46764102194, 131233.46764102194, 131233.46764102194, 131233.46764102194, 131233.46764102194, 131233.46764102194, 131233.46764102194, 131233.46764102194, 131233.46764102194, 131233.46764102194, 131233.46764102194, 131233.46764102194, 131233.46764102194, 131233.46764102194, 131233.46764102194, 131233.46764102194, 131233.46764102194, 131233.46764102194, 131233.46764102194, 131233.46764102194, 131233.46764102194, 131233.46764102194, 131233.46764102194, 131233.46764102194, 131233.46764102194, 131233.46764102194, 131233.46764102194, 131233.46764102194, 131233.46764102194, 131233.46764102194, 131233.46764102194, 131233.46764102194, 131233.46764102194, 131233.46764102194, 131233.46764102194, 131233.46764102194, 131233.46764102194, 131233.46764102194, 131233.46764102194, 131233.46764102194, 131233.46764102194, 131233.46764102194, 131233.46764102194, 131233.46764102194, 131233.46764102194, 131233.46764102194, 131233.46764102194, 131233.46764102194, 131233.46764102194, 131233.46764102194, 131233.46764102194, 131233.46764102194, 131233.46764102194, 131233.46764102194, 131233.46764102194, 131233.46764102194, 131233.46764102194, 131233.46764102194, 131233.46764102194, 131233.46764102194, 131233.46764102194, 131233.46764102194, 131233.46764102194, 131233.46764102194, 131233.46764102194, 131233.46764102194, 131233.46764102194, 131233.46764102194, 131233.46764102194, 131233.46764102194, 131233.46764102194, 131233.46764102194, 131233.46764102194, 131233.46764102194, 131233.46764102194, 131233.46764102194, 131233.46764102194, 131233.46764102194, 131233.46764102194, 131233.46764102194, 131233.46764102194, 131233.46764102194, 131233.46764102194, 131233.46764102194, 131233.46764102194, 131233.46764102194, 131233.46764102194, 131233.46764102194, 131233.46764102194, 131233.46764102194, 131233.46764102194, 131233.46764102194, 131233.46764102194, 131233.46764102194, 131233.46764102194, 131233.46764102194, 131233.46764102194, 131233.46764102194, 131233.46764102194, 131233.46764102194, 131233.46764102194, 131233.46764102194, 131233.46764102194, 131233.46764102194, 131233.46764102194, 131233.46764102194, 131233.46764102194, 131233.46764102194, 131233.46764102194, 131233.46764102194, 131233.46764102194, 131233.46764102194, 131233.46764102194, 131233.46764102194, 131233.46764102194, 131233.46764102194, 131233.46764102194, 131233.46764102194, 131233.46764102194, 131233.46764102194, 131233.46764102194, 131233.46764102194, 131233.46764102194, 131233.46764102194, 131233.46764102194, 131233.46764102194, 131233.46764102194, 131233.46764102194, 131233.46764102194, 131233.46764102194, 131233.46764102194, 131233.46764102194, 131233.46764102194, 131233.46764102194, 131233.46764102194, 131233.46764102194, 131233.46764102194, 131233.46764102194, 131233.46764102194, 131233.46764102194, 131233.46764102194, 131233.46764102194, 131233.46764102194, 131233.46764102194, 131233.46764102194, 131233.46764102194, 131233.46764102194, 131233.46764102194, 131233.46764102194, 131233.46764102194, 131233.46764102194, 131233.46764102194, 131233.46764102194, 131233.46764102194, 131233.46764102194, 131233.46764102194, 131233.46764102194, 131233.46764102194, 131233.46764102194, 131233.46764102194, 131233.46764102194, 131233.46764102194, 131233.46764102194, 131233.46764102194, 131233.46764102194, 131233.46764102194, 131233.46764102194, 131233.46764102194, 131233.46764102194, 131233.46764102194, 131233.46764102194, 131233.46764102194, 131233.46764102194, 131233.46764102194, 131233.46764102194, 131233.46764102194, 131233.46764102194, 131233.46764102194, 131233.46764102194, 131233.46764102194, 131233.46764102194, 131233.46764102194, 131233.46764102194, 131233.46764102194, 131233.46764102194, 131233.46764102194, 131233.46764102194, 131233.46764102194, 131233.46764102194, 131233.46764102194, 131233.46764102194, 131233.46764102194, 131233.46764102194, 131233.46764102194, 131233.46764102194, 131233.46764102194, 131233.46764102194, 131233.46764102194, 131233.46764102194, 131233.46764102194, 131233.46764102194, 131233.46764102194, 131233.46764102194, 131233.46764102194, 131233.46764102194, 131233.46764102194, 131233.46764102194, 131233.46764102194, 131233.46764102194, 131233.46764102194, 131233.46764102194, 131233.46764102194, 131233.46764102194, 131233.46764102194, 131233.46764102194, 131233.46764102194, 131233.46764102194, 131233.46764102194, 131233.46764102194, 131233.46764102194, 131233.46764102194, 131233.46764102194, 131233.46764102194, 131233.46764102194, 131233.46764102194, 131233.46764102194, 131233.46764102194, 131233.46764102194, 131233.46764102194, 131233.46764102194, 131233.46764102194, 131233.46764102194, 131233.46764102194, 131233.46764102194, 131233.46764102194, 131233.46764102194, 131233.46764102194, 131233.46764102194, 131233.46764102194, 131233.46764102194, 131233.46764102194, 131233.46764102194, 131233.46764102194, 131233.46764102194, 131233.46764102194, 131233.46764102194, 131233.46764102194, 131233.46764102194, 131233.46764102194, 131233.46764102194, 131233.46764102194, 131233.46764102194, 131233.46764102194, 131233.46764102194, 131233.46764102194, 131233.46764102194, 131233.46764102194, 131233.46764102194, 131233.46764102194, 131233.46764102194, 131233.46764102194, 131233.46764102194, 131233.46764102194, 131233.46764102194, 131233.46764102194, 131233.46764102194, 131233.46764102194, 131233.46764102194, 131233.46764102194, 131233.46764102194, 131233.46764102194, 131233.46764102194, 131233.46764102194, 131233.46764102194, 131233.46764102194, 131233.46764102194, 131233.46764102194, 131233.46764102194, 131233.46764102194, 131233.46764102194, 131233.46764102194, 131233.46764102194, 131233.46764102194, 131233.46764102194, 131233.46764102194, 131233.46764102194, 131233.46764102194, 131233.46764102194, 131233.46764102194, 131233.46764102194, 131233.46764102194, 131233.46764102194, 131233.46764102194, 131233.46764102194, 131233.46764102194, 131233.46764102194, 131233.46764102194, 131233.46764102194, 131233.46764102194, 131233.46764102194, 131233.46764102194, 131233.46764102194, 131233.46764102194, 131233.46764102194, 131233.46764102194, 131233.46764102194, 131233.46764102194, 131233.46764102194, 131233.46764102194, 131233.46764102194, 131233.46764102194, 131233.46764102194, 131233.46764102194, 131233.46764102194, 131233.46764102194, 131233.46764102194, 131233.46764102194, 131233.46764102194, 131233.46764102194, 131233.46764102194, 131233.46764102194, 131233.46764102194, 131233.46764102194, 131233.46764102194, 131233.46764102194, 131233.46764102194, 131233.46764102194, 131233.46764102194, 131233.46764102194, 131233.46764102194, 131233.46764102194, 131233.46764102194, 131233.46764102194, 131233.46764102194, 131233.46764102194, 131233.46764102194, 131233.46764102194, 131233.46764102194, 131233.46764102194, 131233.46764102194, 131233.46764102194, 131233.46764102194, 131233.46764102194, 131233.46764102194, 131233.46764102194, 131233.46764102194, 131233.46764102194, 131233.46764102194, 131233.46764102194, 131233.46764102194, 131233.46764102194, 131233.46764102194, 131233.46764102194, 131233.46764102194, 131233.46764102194, 131233.46764102194, 131233.46764102194, 131233.46764102194, 131233.46764102194, 131233.46764102194, 131233.46764102194, 131233.46764102194, 131233.46764102194, 131233.46764102194, 131233.46764102194, 131233.46764102194, 131233.46764102194, 131233.46764102194, 131233.46764102194, 131233.46764102194, 131233.46764102194, 131233.46764102194, 131233.46764102194, 131233.46764102194, 131233.46764102194, 131233.46764102194, 131233.46764102194, 131233.46764102194, 131233.46764102194, 131233.46764102194, 131233.46764102194, 131233.46764102194, 131233.46764102194, 131233.46764102194, 131233.46764102194, 131233.46764102194, 131233.46764102194, 131233.46764102194, 131233.46764102194, 131233.46764102194, 131233.46764102194, 131233.46764102194, 131233.46764102194, 131233.46764102194, 131233.46764102194, 131233.46764102194, 131233.46764102194, 131233.46764102194, 131233.46764102194, 131233.46764102194, 131233.46764102194, 131233.46764102194, 131233.46764102194, 131233.46764102194, 131233.46764102194, 131233.46764102194, 131233.46764102194, 131233.46764102194, 131233.46764102194, 131233.46764102194, 131233.46764102194, 131233.46764102194, 131233.46764102194, 131233.46764102194, 131233.46764102194, 131233.46764102194, 131233.46764102194, 131233.46764102194, 131233.46764102194, 131233.46764102194, 131233.46764102194, 131233.46764102194, 131233.46764102194, 131233.46764102194, 131233.46764102194, 131233.46764102194, 131233.46764102194, 131233.46764102194, 131233.46764102194, 131233.46764102194, 131233.46764102194, 131233.46764102194, 131233.46764102194, 131233.46764102194, 131233.46764102194, 131233.46764102194, 131233.46764102194, 131233.46764102194, 131233.46764102194, 131233.46764102194, 131233.46764102194, 131233.46764102194, 131233.46764102194, 131233.46764102194, 131233.46764102194, 131233.46764102194, 131233.46764102194, 131233.46764102194, 131233.46764102194, 131233.46764102194, 131233.46764102194, 131233.46764102194, 131233.46764102194, 131233.46764102194, 131233.46764102194, 131233.46764102194, 131233.46764102194, 131233.46764102194, 131233.46764102194, 131233.46764102194, 131233.46764102194, 131233.46764102194, 131233.46764102194, 131233.46764102194, 131233.46764102194, 131233.46764102194, 131233.46764102194, 131233.46764102194, 131233.46764102194, 131233.46764102194, 131233.46764102194, 131233.46764102194, 131233.46764102194, 176459.14728946087, 176459.14728946087, 176459.14728946087, 176459.14728946087, 176459.14728946087, 176459.14728946087, 176459.14728946087, 176459.14728946087, 176459.14728946087, 176459.14728946087, 176459.14728946087, 176459.14728946087, 176459.14728946087, 176459.14728946087, 176459.14728946087, 176459.14728946087, 176459.14728946087, 176459.14728946087, 176459.14728946087, 176459.14728946087, 176459.14728946087, 176459.14728946087, 176459.14728946087, 176459.14728946087, 176459.14728946087, 176459.14728946087, 176459.14728946087, 176459.14728946087, 176459.14728946087, 176459.14728946087, 176459.14728946087, 176459.14728946087, 176459.14728946087, 176459.14728946087, 176459.14728946087, 176459.14728946087, 176459.14728946087, 176459.14728946087, 176459.14728946087, 176459.14728946087, 176459.14728946087, 176459.14728946087, 176459.14728946087, 176459.14728946087, 176459.14728946087, 176459.14728946087, 176459.14728946087, 176459.14728946087, 176459.14728946087, 176459.14728946087, 176459.14728946087, 176459.14728946087, 176459.14728946087, 176459.14728946087, 176459.14728946087, 176459.14728946087, 176459.14728946087, 176459.14728946087, 176459.14728946087, 176459.14728946087, 176459.14728946087, 176459.14728946087, 176459.14728946087, 176459.14728946087, 176459.14728946087, 176459.14728946087, 176459.14728946087, 176459.14728946087, 176459.14728946087, 176459.14728946087, 176459.14728946087, 176459.14728946087, 176459.14728946087, 176459.14728946087, 176459.14728946087, 176459.14728946087, 176459.14728946087, 176459.14728946087, 176459.14728946087, 176459.14728946087, 176459.14728946087, 176459.14728946087, 176459.14728946087, 176459.14728946087, 176459.14728946087, 176459.14728946087, 176459.14728946087, 176459.14728946087, 176459.14728946087, 176459.14728946087, 176459.14728946087, 176459.14728946087, 176459.14728946087, 176459.14728946087, 176459.14728946087, 176459.14728946087, 176459.14728946087, 176459.14728946087, 176459.14728946087, 176459.14728946087, 176459.14728946087, 176459.14728946087, 176459.14728946087, 176459.14728946087, 176459.14728946087, 176459.14728946087, 176459.14728946087, 176459.14728946087, 176459.14728946087, 176459.14728946087, 176459.14728946087, 176459.14728946087, 176459.14728946087, 176459.14728946087, 176459.14728946087, 176459.14728946087, 176459.14728946087, 176459.14728946087, 176459.14728946087, 176459.14728946087, 176459.14728946087, 176459.14728946087, 176459.14728946087, 176459.14728946087, 176459.14728946087, 176459.14728946087, 176459.14728946087, 176459.14728946087, 176459.14728946087, 176459.14728946087, 176459.14728946087, 176459.14728946087, 176459.14728946087, 176459.14728946087, 176459.14728946087, 176459.14728946087, 176459.14728946087, 176459.14728946087, 176459.14728946087, 176459.14728946087, 176459.14728946087, 176459.14728946087, 176459.14728946087, 176459.14728946087, 176459.14728946087, 176459.14728946087, 176459.14728946087, 176459.14728946087, 176459.14728946087, 176459.14728946087, 176459.14728946087, 176459.14728946087, 176459.14728946087, 176459.14728946087, 176459.14728946087, 176459.14728946087, 176459.14728946087, 176459.14728946087, 176459.14728946087, 176459.14728946087, 176459.14728946087, 176459.14728946087, 176459.14728946087, 176459.14728946087, 176459.14728946087, 176459.14728946087, 176459.14728946087, 176459.14728946087, 176459.14728946087, 176459.14728946087, 176459.14728946087, 176459.14728946087, 176459.14728946087, 176459.14728946087, 176459.14728946087, 176459.14728946087, 176459.14728946087, 176459.14728946087, 176459.14728946087, 176459.14728946087, 176459.14728946087, 176459.14728946087, 176459.14728946087, 176459.14728946087, 176459.14728946087, 176459.14728946087, 176459.14728946087, 176459.14728946087, 176459.14728946087, 176459.14728946087, 176459.14728946087, 176459.14728946087, 176459.14728946087, 176459.14728946087, 176459.14728946087, 176459.14728946087, 176459.14728946087, 176459.14728946087, 176459.14728946087, 176459.14728946087, 176459.14728946087, 176459.14728946087, 176459.14728946087, 176459.14728946087, 176459.14728946087, 176459.14728946087, 176459.14728946087, 176459.14728946087, 176459.14728946087, 176459.14728946087, 176459.14728946087, 176459.14728946087, 176459.14728946087, 176459.14728946087, 176459.14728946087, 176459.14728946087, 176459.14728946087, 176459.14728946087, 176459.14728946087, 176459.14728946087, 176459.14728946087, 176459.14728946087, 176459.14728946087, 176459.14728946087, 176459.14728946087, 176459.14728946087, 176459.14728946087, 176459.14728946087, 176459.14728946087, 176459.14728946087, 176459.14728946087, 176459.14728946087, 176459.14728946087, 176459.14728946087, 176459.14728946087, 176459.14728946087, 176459.14728946087, 176459.14728946087, 176459.14728946087, 176459.14728946087, 176459.14728946087, 176459.14728946087, 176459.14728946087, 176459.14728946087, 176459.14728946087, 176459.14728946087, 176459.14728946087, 176459.14728946087, 176459.14728946087, 176459.14728946087, 176459.14728946087, 176459.14728946087, 176459.14728946087, 176459.14728946087, 176459.14728946087, 176459.14728946087, 176459.14728946087, 176459.14728946087, 176459.14728946087, 176459.14728946087, 176459.14728946087, 176459.14728946087, 176459.14728946087, 176459.14728946087, 176459.14728946087, 176459.14728946087, 176459.14728946087, 176459.14728946087, 176459.14728946087, 176459.14728946087, 176459.14728946087, 176459.14728946087, 176459.14728946087, 176459.14728946087, 176459.14728946087, 176459.14728946087, 176459.14728946087, 176459.14728946087, 176459.14728946087, 176459.14728946087, 176459.14728946087, 176459.14728946087, 176459.14728946087, 176459.14728946087, 176459.14728946087, 176459.14728946087, 176459.14728946087, 176459.14728946087, 176459.14728946087, 176459.14728946087, 176459.14728946087, 176459.14728946087, 176459.14728946087, 176459.14728946087, 176459.14728946087, 176459.14728946087, 176459.14728946087, 176459.14728946087, 176459.14728946087, 176459.14728946087, 176459.14728946087, 176459.14728946087, 176459.14728946087, 176459.14728946087, 176459.14728946087, 176459.14728946087, 176459.14728946087, 176459.14728946087, 176459.14728946087, 176459.14728946087, 176459.14728946087, 176459.14728946087, 176459.14728946087, 176459.14728946087, 176459.14728946087, 176459.14728946087, 176459.14728946087, 176459.14728946087, 176459.14728946087, 176459.14728946087, 176459.14728946087, 176459.14728946087, 176459.14728946087, 176459.14728946087, 176459.14728946087, 176459.14728946087, 176459.14728946087, 176459.14728946087, 176459.14728946087, 176459.14728946087, 176459.14728946087, 176459.14728946087, 176459.14728946087, 176459.14728946087, 176459.14728946087, 176459.14728946087, 176459.14728946087, 176459.14728946087, 176459.14728946087, 176459.14728946087, 176459.14728946087, 176459.14728946087, 176459.14728946087, 176459.14728946087, 176459.14728946087, 176459.14728946087, 176459.14728946087, 176459.14728946087, 176459.14728946087, 176459.14728946087, 176459.14728946087, 176459.14728946087, 176459.14728946087, 176459.14728946087, 176459.14728946087, 176459.14728946087, 176459.14728946087, 176459.14728946087, 176459.14728946087, 176459.14728946087, 176459.14728946087, 176459.14728946087, 176459.14728946087, 176459.14728946087, 176459.14728946087, 176459.14728946087, 176459.14728946087, 176459.14728946087, 176459.14728946087, 176459.14728946087, 176459.14728946087, 176459.14728946087, 176459.14728946087, 176459.14728946087, 176459.14728946087, 176459.14728946087, 176459.14728946087, 176459.14728946087, 176459.14728946087, 176459.14728946087, 176459.14728946087, 176459.14728946087, 176459.14728946087, 176459.14728946087, 176459.14728946087, 176459.14728946087, 176459.14728946087, 176459.14728946087, 176459.14728946087, 176459.14728946087, 176459.14728946087, 176459.14728946087, 176459.14728946087, 176459.14728946087, 176459.14728946087, 176459.14728946087, 176459.14728946087, 176459.14728946087, 176459.14728946087, 176459.14728946087, 176459.14728946087, 176459.14728946087, 176459.14728946087, 176459.14728946087, 176459.14728946087, 176459.14728946087, 176459.14728946087, 176459.14728946087, 176459.14728946087, 176459.14728946087, 176459.14728946087, 176459.14728946087, 176459.14728946087, 176459.14728946087, 176459.14728946087, 176459.14728946087, 176459.14728946087, 176459.14728946087, 176459.14728946087, 176459.14728946087, 176459.14728946087, 176459.14728946087, 176459.14728946087, 176459.14728946087, 176459.14728946087, 176459.14728946087, 176459.14728946087, 176459.14728946087, 176459.14728946087, 176459.14728946087, 176459.14728946087, 176459.14728946087, 176459.14728946087, 176459.14728946087, 176459.14728946087, 176459.14728946087, 176459.14728946087, 176459.14728946087, 176459.14728946087, 176459.14728946087, 176459.14728946087, 176459.14728946087, 176459.14728946087, 176459.14728946087, 176459.14728946087, 176459.14728946087, 176459.14728946087, 176459.14728946087, 176459.14728946087, 176459.14728946087, 176459.14728946087, 176459.14728946087, 176459.14728946087, 176459.14728946087, 176459.14728946087, 176459.14728946087, 176459.14728946087, 176459.14728946087, 176459.14728946087, 176459.14728946087, 176459.14728946087, 176459.14728946087, 176459.14728946087, 176459.14728946087, 176459.14728946087, 176459.14728946087, 176459.14728946087, 176459.14728946087, 176459.14728946087, 176459.14728946087, 176459.14728946087, 176459.14728946087, 176459.14728946087, 176459.14728946087, 176459.14728946087, 176459.14728946087, 176459.14728946087, 176459.14728946087, 176459.14728946087, 176459.14728946087, 176459.14728946087, 176459.14728946087, 176459.14728946087, 176459.14728946087, 176459.14728946087, 176459.14728946087, 176459.14728946087, 176459.14728946087, 176459.14728946087, 176459.14728946087, 176459.14728946087, 176459.14728946087, 176459.14728946087, 176459.14728946087, 176459.14728946087, 176459.14728946087, 176459.14728946087, 176459.14728946087, 176459.14728946087, 176459.14728946087, 176459.14728946087, 176459.14728946087, 176459.14728946087, 176459.14728946087, 176459.14728946087, 176459.14728946087, 176459.14728946087, 176459.14728946087, 176459.14728946087, 176459.14728946087, 176459.14728946087, 176459.14728946087, 176459.14728946087, 176459.14728946087, 176459.14728946087, 176459.14728946087, 176459.14728946087, 176459.14728946087, 176459.14728946087, 176459.14728946087, 176459.14728946087, 176459.14728946087, 176459.14728946087, 176459.14728946087, 176459.14728946087, 176459.14728946087, 176459.14728946087, 176459.14728946087, 176459.14728946087, 176459.14728946087, 176459.14728946087, 176459.14728946087, 176459.14728946087, 176459.14728946087, 176459.14728946087, 176459.14728946087, 176459.14728946087, 176459.14728946087, 176459.14728946087, 176459.14728946087, 176459.14728946087, 176459.14728946087, 176459.14728946087, 176459.14728946087, 176459.14728946087, 176459.14728946087, 176459.14728946087, 176459.14728946087, 176459.14728946087, 176459.14728946087, 176459.14728946087, 176459.14728946087, 176459.14728946087, 176459.14728946087, 176459.14728946087, 176459.14728946087, 176459.14728946087, 176459.14728946087, 176459.14728946087, 176459.14728946087, 176459.14728946087, 176459.14728946087, 176459.14728946087, 176459.14728946087, 176459.14728946087, 176459.14728946087, 176459.14728946087, 176459.14728946087, 176459.14728946087, 176459.14728946087, 176459.14728946087, 176459.14728946087, 176459.14728946087, 176459.14728946087, 176459.14728946087, 176459.14728946087, 176459.14728946087, 176459.14728946087, 176459.14728946087, 176459.14728946087, 176459.14728946087, 176459.14728946087, 176459.14728946087, 176459.14728946087, 176459.14728946087, 176459.14728946087, 176459.14728946087, 176459.14728946087, 176459.14728946087, 176459.14728946087, 176459.14728946087, 176459.14728946087, 176459.14728946087, 176459.14728946087, 176459.14728946087, 176459.14728946087, 176459.14728946087, 176459.14728946087, 176459.14728946087, 176459.14728946087, 176459.14728946087, 176459.14728946087, 176459.14728946087, 176459.14728946087, 176459.14728946087, 176459.14728946087, 176459.14728946087, 176459.14728946087, 176459.14728946087, 176459.14728946087, 176459.14728946087, 176459.14728946087, 176459.14728946087, 176459.14728946087, 176459.14728946087, 176459.14728946087, 176459.14728946087, 176459.14728946087, 176459.14728946087, 176459.14728946087, 176459.14728946087, 176459.14728946087, 176459.14728946087, 176459.14728946087, 176459.14728946087, 176459.14728946087, 176459.14728946087, 176459.14728946087, 176459.14728946087, 176459.14728946087, 176459.14728946087, 176459.14728946087, 176459.14728946087, 176459.14728946087, 176459.14728946087, 176459.14728946087, 176459.14728946087, 176459.14728946087, 176459.14728946087, 176459.14728946087, 176459.14728946087, 176459.14728946087, 176459.14728946087, 176459.14728946087, 176459.14728946087, 176459.14728946087, 176459.14728946087, 176459.14728946087, 176459.14728946087, 176459.14728946087, 176459.14728946087, 176459.14728946087, 176459.14728946087, 176459.14728946087, 176459.14728946087, 176459.14728946087, 176459.14728946087, 176459.14728946087, 176459.14728946087, 176459.14728946087, 176459.14728946087, 176459.14728946087, 176459.14728946087, 176459.14728946087, 176459.14728946087, 176459.14728946087, 176459.14728946087, 176459.14728946087, 176459.14728946087, 176459.14728946087, 176459.14728946087, 176459.14728946087, 176459.14728946087, 176459.14728946087, 176459.14728946087, 176459.14728946087, 176459.14728946087, 176459.14728946087, 176459.14728946087, 176459.14728946087, 176459.14728946087, 176459.14728946087, 176459.14728946087, 176459.14728946087, 176459.14728946087, 176459.14728946087, 176459.14728946087, 176459.14728946087, 176459.14728946087, 176459.14728946087, 176459.14728946087, 176459.14728946087, 176459.14728946087, 176459.14728946087, 176459.14728946087, 176459.14728946087, 176459.14728946087, 176459.14728946087, 176459.14728946087, 176459.14728946087, 176459.14728946087, 176459.14728946087, 176459.14728946087, 176459.14728946087, 176459.14728946087, 176459.14728946087, 176459.14728946087, 176459.14728946087, 176459.14728946087, 176459.14728946087, 176459.14728946087, 176459.14728946087, 176459.14728946087, 176459.14728946087, 176459.14728946087, 176459.14728946087, 176459.14728946087, 176459.14728946087, 176459.14728946087, 176459.14728946087, 176459.14728946087, 176459.14728946087, 176459.14728946087, 176459.14728946087, 176459.14728946087, 176459.14728946087, 176459.14728946087, 176459.14728946087, 221684.82693789987, 221684.82693789987, 221684.82693789987, 221684.82693789987, 221684.82693789987, 221684.82693789987, 221684.82693789987, 221684.82693789987, 221684.82693789987, 221684.82693789987, 221684.82693789987, 221684.82693789987, 221684.82693789987, 221684.82693789987, 221684.82693789987, 221684.82693789987, 221684.82693789987, 221684.82693789987, 221684.82693789987, 221684.82693789987, 221684.82693789987, 221684.82693789987, 221684.82693789987, 221684.82693789987, 221684.82693789987, 221684.82693789987, 221684.82693789987, 221684.82693789987, 221684.82693789987, 221684.82693789987, 221684.82693789987, 221684.82693789987, 221684.82693789987, 221684.82693789987, 221684.82693789987, 221684.82693789987, 221684.82693789987, 221684.82693789987, 221684.82693789987, 221684.82693789987, 221684.82693789987, 221684.82693789987, 221684.82693789987, 221684.82693789987, 221684.82693789987, 221684.82693789987, 221684.82693789987, 221684.82693789987, 221684.82693789987, 221684.82693789987, 221684.82693789987, 221684.82693789987, 221684.82693789987, 221684.82693789987, 221684.82693789987, 221684.82693789987, 221684.82693789987, 221684.82693789987, 221684.82693789987, 221684.82693789987, 221684.82693789987, 221684.82693789987, 221684.82693789987, 221684.82693789987, 221684.82693789987, 221684.82693789987, 221684.82693789987, 221684.82693789987, 221684.82693789987, 221684.82693789987, 221684.82693789987, 221684.82693789987, 221684.82693789987, 221684.82693789987, 221684.82693789987, 221684.82693789987, 221684.82693789987, 221684.82693789987, 221684.82693789987, 221684.82693789987, 221684.82693789987, 221684.82693789987, 221684.82693789987, 221684.82693789987, 221684.82693789987, 221684.82693789987, 221684.82693789987, 221684.82693789987, 221684.82693789987, 221684.82693789987, 221684.82693789987, 221684.82693789987, 221684.82693789987, 221684.82693789987, 221684.82693789987, 221684.82693789987, 221684.82693789987, 221684.82693789987, 221684.82693789987, 221684.82693789987, 221684.82693789987, 221684.82693789987, 221684.82693789987, 221684.82693789987, 221684.82693789987, 221684.82693789987, 221684.82693789987, 221684.82693789987, 221684.82693789987, 221684.82693789987, 221684.82693789987, 221684.82693789987, 221684.82693789987, 221684.82693789987, 221684.82693789987, 221684.82693789987, 221684.82693789987, 221684.82693789987, 221684.82693789987, 221684.82693789987, 221684.82693789987, 221684.82693789987, 221684.82693789987, 221684.82693789987, 221684.82693789987, 221684.82693789987, 221684.82693789987, 221684.82693789987, 221684.82693789987, 221684.82693789987, 221684.82693789987, 221684.82693789987, 221684.82693789987, 221684.82693789987, 221684.82693789987, 221684.82693789987, 221684.82693789987, 221684.82693789987, 221684.82693789987, 221684.82693789987, 221684.82693789987, 221684.82693789987, 221684.82693789987, 221684.82693789987, 221684.82693789987, 221684.82693789987, 221684.82693789987, 221684.82693789987, 221684.82693789987, 221684.82693789987, 221684.82693789987, 221684.82693789987, 221684.82693789987, 221684.82693789987, 221684.82693789987, 221684.82693789987, 221684.82693789987, 221684.82693789987, 221684.82693789987, 221684.82693789987, 221684.82693789987, 221684.82693789987, 221684.82693789987, 221684.82693789987, 221684.82693789987, 221684.82693789987, 221684.82693789987, 221684.82693789987, 221684.82693789987, 221684.82693789987, 221684.82693789987, 221684.82693789987, 221684.82693789987, 221684.82693789987, 221684.82693789987, 221684.82693789987, 221684.82693789987, 221684.82693789987, 221684.82693789987, 221684.82693789987, 221684.82693789987, 221684.82693789987, 221684.82693789987, 221684.82693789987, 221684.82693789987, 221684.82693789987, 221684.82693789987, 221684.82693789987, 221684.82693789987, 221684.82693789987, 221684.82693789987, 221684.82693789987, 221684.82693789987, 221684.82693789987, 221684.82693789987, 221684.82693789987, 221684.82693789987, 221684.82693789987, 221684.82693789987, 221684.82693789987, 221684.82693789987, 221684.82693789987, 221684.82693789987, 221684.82693789987, 221684.82693789987, 221684.82693789987, 221684.82693789987, 221684.82693789987, 221684.82693789987, 221684.82693789987, 221684.82693789987, 221684.82693789987, 221684.82693789987, 221684.82693789987, 221684.82693789987, 221684.82693789987, 221684.82693789987, 221684.82693789987, 221684.82693789987, 221684.82693789987, 221684.82693789987, 221684.82693789987, 221684.82693789987, 221684.82693789987, 221684.82693789987, 221684.82693789987, 221684.82693789987, 221684.82693789987, 221684.82693789987, 221684.82693789987, 221684.82693789987, 221684.82693789987, 221684.82693789987, 221684.82693789987, 221684.82693789987, 221684.82693789987, 221684.82693789987, 221684.82693789987, 221684.82693789987, 221684.82693789987, 221684.82693789987, 221684.82693789987, 221684.82693789987, 221684.82693789987, 221684.82693789987, 221684.82693789987, 221684.82693789987, 221684.82693789987, 221684.82693789987, 221684.82693789987, 221684.82693789987, 221684.82693789987, 221684.82693789987, 221684.82693789987, 221684.82693789987, 221684.82693789987, 221684.82693789987, 221684.82693789987, 221684.82693789987, 221684.82693789987, 221684.82693789987, 221684.82693789987, 221684.82693789987, 221684.82693789987, 221684.82693789987, 221684.82693789987, 221684.82693789987, 221684.82693789987, 221684.82693789987, 221684.82693789987, 221684.82693789987, 221684.82693789987, 221684.82693789987, 221684.82693789987, 221684.82693789987, 221684.82693789987, 221684.82693789987, 221684.82693789987, 221684.82693789987, 221684.82693789987, 221684.82693789987, 221684.82693789987, 221684.82693789987, 221684.82693789987, 221684.82693789987, 221684.82693789987, 221684.82693789987, 221684.82693789987, 221684.82693789987, 221684.82693789987, 221684.82693789987, 221684.82693789987, 221684.82693789987, 221684.82693789987, 221684.82693789987, 221684.82693789987, 221684.82693789987, 221684.82693789987, 221684.82693789987, 221684.82693789987, 221684.82693789987, 221684.82693789987, 221684.82693789987, 221684.82693789987, 221684.82693789987, 221684.82693789987, 221684.82693789987, 221684.82693789987, 221684.82693789987, 221684.82693789987, 221684.82693789987, 221684.82693789987, 221684.82693789987, 221684.82693789987, 221684.82693789987, 221684.82693789987, 221684.82693789987, 221684.82693789987, 221684.82693789987, 221684.82693789987, 221684.82693789987, 221684.82693789987, 221684.82693789987, 221684.82693789987, 221684.82693789987, 221684.82693789987, 221684.82693789987, 221684.82693789987, 221684.82693789987, 221684.82693789987, 221684.82693789987, 221684.82693789987, 221684.82693789987, 221684.82693789987, 221684.82693789987, 221684.82693789987, 221684.82693789987, 221684.82693789987, 221684.82693789987, 221684.82693789987, 221684.82693789987, 221684.82693789987, 221684.82693789987, 221684.82693789987, 221684.82693789987, 221684.82693789987, 221684.82693789987, 221684.82693789987, 221684.82693789987, 221684.82693789987, 221684.82693789987, 221684.82693789987, 221684.82693789987, 221684.82693789987, 221684.82693789987, 221684.82693789987, 221684.82693789987, 221684.82693789987, 221684.82693789987, 221684.82693789987, 221684.82693789987, 221684.82693789987, 221684.82693789987, 221684.82693789987, 221684.82693789987, 221684.82693789987, 221684.82693789987, 221684.82693789987, 221684.82693789987, 221684.82693789987, 221684.82693789987, 221684.82693789987, 221684.82693789987, 221684.82693789987, 221684.82693789987, 221684.82693789987, 221684.82693789987, 221684.82693789987, 221684.82693789987, 221684.82693789987, 221684.82693789987, 221684.82693789987, 221684.82693789987, 221684.82693789987, 221684.82693789987, 221684.82693789987, 221684.82693789987, 221684.82693789987, 221684.82693789987, 221684.82693789987, 221684.82693789987, 221684.82693789987, 221684.82693789987, 221684.82693789987, 221684.82693789987, 221684.82693789987, 221684.82693789987, 221684.82693789987, 221684.82693789987, 221684.82693789987, 221684.82693789987, 221684.82693789987, 221684.82693789987, 221684.82693789987, 221684.82693789987, 221684.82693789987, 221684.82693789987, 221684.82693789987, 221684.82693789987, 221684.82693789987, 221684.82693789987, 221684.82693789987, 221684.82693789987, 221684.82693789987, 221684.82693789987, 221684.82693789987, 221684.82693789987, 221684.82693789987, 221684.82693789987, 221684.82693789987, 221684.82693789987, 221684.82693789987, 221684.82693789987, 221684.82693789987, 221684.82693789987, 221684.82693789987, 221684.82693789987, 221684.82693789987, 221684.82693789987, 221684.82693789987, 221684.82693789987, 221684.82693789987, 221684.82693789987, 221684.82693789987, 221684.82693789987, 221684.82693789987, 221684.82693789987, 221684.82693789987, 221684.82693789987, 221684.82693789987, 221684.82693789987, 221684.82693789987, 221684.82693789987, 221684.82693789987, 221684.82693789987, 221684.82693789987, 221684.82693789987, 221684.82693789987, 221684.82693789987, 221684.82693789987, 221684.82693789987, 221684.82693789987, 221684.82693789987, 221684.82693789987, 221684.82693789987, 221684.82693789987, 221684.82693789987, 221684.82693789987, 221684.82693789987, 221684.82693789987, 221684.82693789987, 221684.82693789987, 221684.82693789987, 221684.82693789987, 221684.82693789987, 221684.82693789987, 221684.82693789987, 221684.82693789987, 221684.82693789987, 221684.82693789987, 221684.82693789987, 221684.82693789987, 221684.82693789987, 221684.82693789987, 221684.82693789987, 221684.82693789987, 221684.82693789987, 221684.82693789987, 221684.82693789987, 221684.82693789987, 221684.82693789987, 221684.82693789987, 221684.82693789987, 221684.82693789987, 221684.82693789987, 221684.82693789987, 221684.82693789987, 221684.82693789987, 221684.82693789987, 221684.82693789987, 221684.82693789987, 221684.82693789987, 221684.82693789987, 221684.82693789987, 221684.82693789987, 221684.82693789987, 221684.82693789987, 221684.82693789987, 221684.82693789987, 221684.82693789987, 221684.82693789987, 221684.82693789987, 221684.82693789987, 221684.82693789987, 221684.82693789987, 221684.82693789987, 221684.82693789987, 221684.82693789987, 221684.82693789987, 221684.82693789987, 221684.82693789987, 221684.82693789987, 221684.82693789987, 221684.82693789987, 221684.82693789987, 221684.82693789987, 221684.82693789987, 221684.82693789987, 221684.82693789987, 221684.82693789987, 221684.82693789987, 221684.82693789987, 221684.82693789987, 221684.82693789987, 221684.82693789987, 221684.82693789987, 221684.82693789987, 221684.82693789987, 221684.82693789987, 221684.82693789987, 221684.82693789987, 221684.82693789987, 221684.82693789987, 221684.82693789987, 221684.82693789987, 221684.82693789987, 221684.82693789987, 221684.82693789987, 221684.82693789987, 221684.82693789987, 221684.82693789987, 221684.82693789987, 221684.82693789987, 221684.82693789987, 221684.82693789987, 221684.82693789987, 221684.82693789987, 221684.82693789987, 221684.82693789987, 221684.82693789987, 221684.82693789987, 221684.82693789987, 221684.82693789987, 221684.82693789987, 221684.82693789987, 221684.82693789987, 221684.82693789987, 221684.82693789987, 221684.82693789987, 221684.82693789987, 221684.82693789987, 221684.82693789987, 221684.82693789987, 221684.82693789987, 221684.82693789987, 221684.82693789987, 221684.82693789987, 221684.82693789987, 221684.82693789987, 221684.82693789987, 221684.82693789987, 221684.82693789987, 221684.82693789987, 221684.82693789987, 221684.82693789987, 221684.82693789987, 221684.82693789987, 221684.82693789987, 221684.82693789987, 221684.82693789987, 221684.82693789987, 221684.82693789987, 221684.82693789987, 221684.82693789987, 221684.82693789987, 221684.82693789987, 221684.82693789987, 221684.82693789987, 221684.82693789987, 221684.82693789987, 221684.82693789987, 221684.82693789987, 266910.50658633886, 266910.50658633886, 266910.50658633886, 266910.50658633886, 266910.50658633886, 266910.50658633886, 266910.50658633886, 266910.50658633886, 266910.50658633886, 266910.50658633886, 266910.50658633886, 266910.50658633886, 266910.50658633886, 266910.50658633886, 266910.50658633886, 266910.50658633886, 266910.50658633886, 266910.50658633886, 266910.50658633886, 266910.50658633886, 266910.50658633886, 266910.50658633886, 266910.50658633886, 266910.50658633886, 266910.50658633886, 266910.50658633886, 266910.50658633886, 266910.50658633886, 266910.50658633886, 266910.50658633886, 266910.50658633886, 266910.50658633886, 266910.50658633886, 266910.50658633886, 266910.50658633886, 266910.50658633886, 266910.50658633886, 266910.50658633886, 266910.50658633886, 266910.50658633886, 266910.50658633886, 266910.50658633886, 266910.50658633886, 266910.50658633886, 266910.50658633886, 266910.50658633886, 266910.50658633886, 266910.50658633886, 266910.50658633886, 266910.50658633886, 266910.50658633886, 266910.50658633886, 266910.50658633886, 266910.50658633886, 266910.50658633886, 266910.50658633886, 266910.50658633886, 266910.50658633886, 266910.50658633886, 266910.50658633886, 266910.50658633886, 266910.50658633886, 266910.50658633886, 266910.50658633886, 266910.50658633886, 266910.50658633886, 266910.50658633886, 266910.50658633886, 266910.50658633886, 266910.50658633886, 266910.50658633886, 266910.50658633886, 266910.50658633886, 266910.50658633886, 266910.50658633886, 266910.50658633886, 266910.50658633886, 266910.50658633886, 266910.50658633886, 266910.50658633886, 266910.50658633886, 266910.50658633886, 266910.50658633886, 266910.50658633886, 266910.50658633886, 266910.50658633886, 266910.50658633886, 266910.50658633886, 266910.50658633886, 266910.50658633886, 266910.50658633886, 266910.50658633886, 266910.50658633886, 266910.50658633886, 266910.50658633886, 266910.50658633886, 266910.50658633886, 266910.50658633886, 266910.50658633886, 266910.50658633886, 266910.50658633886, 266910.50658633886, 266910.50658633886, 266910.50658633886, 266910.50658633886, 266910.50658633886, 266910.50658633886, 266910.50658633886, 266910.50658633886, 266910.50658633886, 266910.50658633886, 266910.50658633886, 266910.50658633886, 266910.50658633886, 266910.50658633886, 266910.50658633886, 266910.50658633886, 266910.50658633886, 266910.50658633886, 266910.50658633886, 266910.50658633886, 266910.50658633886, 266910.50658633886, 266910.50658633886, 266910.50658633886, 266910.50658633886, 266910.50658633886, 266910.50658633886, 266910.50658633886, 266910.50658633886, 266910.50658633886, 266910.50658633886, 266910.50658633886, 266910.50658633886, 266910.50658633886, 266910.50658633886, 266910.50658633886, 266910.50658633886, 266910.50658633886, 266910.50658633886, 266910.50658633886, 266910.50658633886, 266910.50658633886, 266910.50658633886, 266910.50658633886, 266910.50658633886, 266910.50658633886, 266910.50658633886, 266910.50658633886, 266910.50658633886, 266910.50658633886, 266910.50658633886, 266910.50658633886, 266910.50658633886, 266910.50658633886, 266910.50658633886, 266910.50658633886, 266910.50658633886, 266910.50658633886, 266910.50658633886, 266910.50658633886, 266910.50658633886, 266910.50658633886, 266910.50658633886, 266910.50658633886, 266910.50658633886, 266910.50658633886, 266910.50658633886, 266910.50658633886, 266910.50658633886, 266910.50658633886, 266910.50658633886, 266910.50658633886, 266910.50658633886, 266910.50658633886, 266910.50658633886, 266910.50658633886, 266910.50658633886, 266910.50658633886, 266910.50658633886, 266910.50658633886, 266910.50658633886, 266910.50658633886, 266910.50658633886, 266910.50658633886, 266910.50658633886, 266910.50658633886, 266910.50658633886, 266910.50658633886, 266910.50658633886, 266910.50658633886, 266910.50658633886, 266910.50658633886, 266910.50658633886, 266910.50658633886, 266910.50658633886, 266910.50658633886, 266910.50658633886, 266910.50658633886, 266910.50658633886, 266910.50658633886, 266910.50658633886, 266910.50658633886, 266910.50658633886, 266910.50658633886, 266910.50658633886, 266910.50658633886, 266910.50658633886, 266910.50658633886, 266910.50658633886, 266910.50658633886, 266910.50658633886, 266910.50658633886, 266910.50658633886, 266910.50658633886, 266910.50658633886, 266910.50658633886, 266910.50658633886, 266910.50658633886, 266910.50658633886, 266910.50658633886, 266910.50658633886, 266910.50658633886, 266910.50658633886, 266910.50658633886, 266910.50658633886, 266910.50658633886, 266910.50658633886, 266910.50658633886, 266910.50658633886, 266910.50658633886, 266910.50658633886, 266910.50658633886, 266910.50658633886, 266910.50658633886, 266910.50658633886, 266910.50658633886, 266910.50658633886, 266910.50658633886, 266910.50658633886, 266910.50658633886, 266910.50658633886, 266910.50658633886, 266910.50658633886, 266910.50658633886, 266910.50658633886, 266910.50658633886, 266910.50658633886, 266910.50658633886, 266910.50658633886, 266910.50658633886, 266910.50658633886, 266910.50658633886, 266910.50658633886, 266910.50658633886, 266910.50658633886, 266910.50658633886, 266910.50658633886, 266910.50658633886, 266910.50658633886, 266910.50658633886, 266910.50658633886, 266910.50658633886, 266910.50658633886, 266910.50658633886, 266910.50658633886, 266910.50658633886, 266910.50658633886, 266910.50658633886, 266910.50658633886, 266910.50658633886, 266910.50658633886, 266910.50658633886, 266910.50658633886, 266910.50658633886, 266910.50658633886, 266910.50658633886, 266910.50658633886, 266910.50658633886, 266910.50658633886, 266910.50658633886, 266910.50658633886, 266910.50658633886, 266910.50658633886, 266910.50658633886, 266910.50658633886, 266910.50658633886, 266910.50658633886, 266910.50658633886, 266910.50658633886, 266910.50658633886, 266910.50658633886, 266910.50658633886, 266910.50658633886, 266910.50658633886, 266910.50658633886, 266910.50658633886, 266910.50658633886, 266910.50658633886, 266910.50658633886, 266910.50658633886, 266910.50658633886, 266910.50658633886, 266910.50658633886, 266910.50658633886, 266910.50658633886, 266910.50658633886, 266910.50658633886, 266910.50658633886, 266910.50658633886, 266910.50658633886, 266910.50658633886, 266910.50658633886, 266910.50658633886, 266910.50658633886, 266910.50658633886, 266910.50658633886, 266910.50658633886, 266910.50658633886, 266910.50658633886, 266910.50658633886, 266910.50658633886, 266910.50658633886, 266910.50658633886, 266910.50658633886, 266910.50658633886, 266910.50658633886, 266910.50658633886, 266910.50658633886, 266910.50658633886, 266910.50658633886, 266910.50658633886, 266910.50658633886, 266910.50658633886, 266910.50658633886, 266910.50658633886, 266910.50658633886, 266910.50658633886, 266910.50658633886, 266910.50658633886, 266910.50658633886, 266910.50658633886, 312136.18623477785, 312136.18623477785, 312136.18623477785, 312136.18623477785, 312136.18623477785, 312136.18623477785, 312136.18623477785, 312136.18623477785, 312136.18623477785, 312136.18623477785, 312136.18623477785, 312136.18623477785, 312136.18623477785, 312136.18623477785, 312136.18623477785, 312136.18623477785, 312136.18623477785, 312136.18623477785, 312136.18623477785, 312136.18623477785, 312136.18623477785, 312136.18623477785, 312136.18623477785, 312136.18623477785, 312136.18623477785, 312136.18623477785, 312136.18623477785, 312136.18623477785, 312136.18623477785, 312136.18623477785, 312136.18623477785, 312136.18623477785, 312136.18623477785, 312136.18623477785, 312136.18623477785, 312136.18623477785, 312136.18623477785, 312136.18623477785, 312136.18623477785, 312136.18623477785, 312136.18623477785, 312136.18623477785, 312136.18623477785, 312136.18623477785, 312136.18623477785, 312136.18623477785, 312136.18623477785, 312136.18623477785, 312136.18623477785, 312136.18623477785, 312136.18623477785, 312136.18623477785, 312136.18623477785, 312136.18623477785, 312136.18623477785, 312136.18623477785, 312136.18623477785, 312136.18623477785, 312136.18623477785, 312136.18623477785, 312136.18623477785, 312136.18623477785, 312136.18623477785, 312136.18623477785, 312136.18623477785, 312136.18623477785, 312136.18623477785, 312136.18623477785, 312136.18623477785, 312136.18623477785, 312136.18623477785, 312136.18623477785, 312136.18623477785, 312136.18623477785, 312136.18623477785, 312136.18623477785, 312136.18623477785, 312136.18623477785, 312136.18623477785, 312136.18623477785, 312136.18623477785, 312136.18623477785, 312136.18623477785, 312136.18623477785, 312136.18623477785, 312136.18623477785, 312136.18623477785, 312136.18623477785, 312136.18623477785, 312136.18623477785, 312136.18623477785, 312136.18623477785, 312136.18623477785, 312136.18623477785, 312136.18623477785, 312136.18623477785, 312136.18623477785, 312136.18623477785, 312136.18623477785, 312136.18623477785, 312136.18623477785, 312136.18623477785, 312136.18623477785, 312136.18623477785, 312136.18623477785, 312136.18623477785, 312136.18623477785, 357361.86588321684, 357361.86588321684, 357361.86588321684, 357361.86588321684, 357361.86588321684, 357361.86588321684, 357361.86588321684, 357361.86588321684, 357361.86588321684, 357361.86588321684, 357361.86588321684, 357361.86588321684, 357361.86588321684, 357361.86588321684, 357361.86588321684, 357361.86588321684, 357361.86588321684, 357361.86588321684, 357361.86588321684, 357361.86588321684, 357361.86588321684, 357361.86588321684, 357361.86588321684, 357361.86588321684, 357361.86588321684, 357361.86588321684, 357361.86588321684, 357361.86588321684, 357361.86588321684, 357361.86588321684], \"yaxis\": \"y\"}],\n",
              "                        {\"legend\": {\"tracegroupgap\": 0}, \"margin\": {\"t\": 60}, \"template\": {\"data\": {\"bar\": [{\"error_x\": {\"color\": \"#2a3f5f\"}, \"error_y\": {\"color\": \"#2a3f5f\"}, \"marker\": {\"line\": {\"color\": \"#E5ECF6\", \"width\": 0.5}}, \"type\": \"bar\"}], \"barpolar\": [{\"marker\": {\"line\": {\"color\": \"#E5ECF6\", \"width\": 0.5}}, \"type\": \"barpolar\"}], \"carpet\": [{\"aaxis\": {\"endlinecolor\": \"#2a3f5f\", \"gridcolor\": \"white\", \"linecolor\": \"white\", \"minorgridcolor\": \"white\", \"startlinecolor\": \"#2a3f5f\"}, \"baxis\": {\"endlinecolor\": \"#2a3f5f\", \"gridcolor\": \"white\", \"linecolor\": \"white\", \"minorgridcolor\": \"white\", \"startlinecolor\": \"#2a3f5f\"}, \"type\": \"carpet\"}], \"choropleth\": [{\"colorbar\": {\"outlinewidth\": 0, \"ticks\": \"\"}, \"type\": \"choropleth\"}], \"contour\": [{\"colorbar\": {\"outlinewidth\": 0, \"ticks\": \"\"}, \"colorscale\": [[0.0, \"#0d0887\"], [0.1111111111111111, \"#46039f\"], [0.2222222222222222, \"#7201a8\"], [0.3333333333333333, \"#9c179e\"], [0.4444444444444444, \"#bd3786\"], [0.5555555555555556, \"#d8576b\"], [0.6666666666666666, \"#ed7953\"], [0.7777777777777778, \"#fb9f3a\"], [0.8888888888888888, \"#fdca26\"], [1.0, \"#f0f921\"]], \"type\": \"contour\"}], \"contourcarpet\": [{\"colorbar\": {\"outlinewidth\": 0, \"ticks\": \"\"}, \"type\": \"contourcarpet\"}], \"heatmap\": [{\"colorbar\": {\"outlinewidth\": 0, \"ticks\": \"\"}, \"colorscale\": [[0.0, \"#0d0887\"], [0.1111111111111111, \"#46039f\"], [0.2222222222222222, \"#7201a8\"], [0.3333333333333333, \"#9c179e\"], [0.4444444444444444, \"#bd3786\"], [0.5555555555555556, \"#d8576b\"], [0.6666666666666666, \"#ed7953\"], [0.7777777777777778, \"#fb9f3a\"], [0.8888888888888888, \"#fdca26\"], [1.0, \"#f0f921\"]], \"type\": \"heatmap\"}], \"heatmapgl\": [{\"colorbar\": {\"outlinewidth\": 0, \"ticks\": \"\"}, \"colorscale\": [[0.0, \"#0d0887\"], [0.1111111111111111, \"#46039f\"], [0.2222222222222222, \"#7201a8\"], [0.3333333333333333, \"#9c179e\"], [0.4444444444444444, \"#bd3786\"], [0.5555555555555556, \"#d8576b\"], [0.6666666666666666, \"#ed7953\"], [0.7777777777777778, \"#fb9f3a\"], [0.8888888888888888, \"#fdca26\"], [1.0, \"#f0f921\"]], \"type\": \"heatmapgl\"}], \"histogram\": [{\"marker\": {\"colorbar\": {\"outlinewidth\": 0, \"ticks\": \"\"}}, \"type\": \"histogram\"}], \"histogram2d\": [{\"colorbar\": {\"outlinewidth\": 0, \"ticks\": \"\"}, \"colorscale\": [[0.0, \"#0d0887\"], [0.1111111111111111, \"#46039f\"], [0.2222222222222222, \"#7201a8\"], [0.3333333333333333, \"#9c179e\"], [0.4444444444444444, \"#bd3786\"], [0.5555555555555556, \"#d8576b\"], [0.6666666666666666, \"#ed7953\"], [0.7777777777777778, \"#fb9f3a\"], [0.8888888888888888, \"#fdca26\"], [1.0, \"#f0f921\"]], \"type\": \"histogram2d\"}], \"histogram2dcontour\": [{\"colorbar\": {\"outlinewidth\": 0, \"ticks\": \"\"}, \"colorscale\": [[0.0, \"#0d0887\"], [0.1111111111111111, \"#46039f\"], [0.2222222222222222, \"#7201a8\"], [0.3333333333333333, \"#9c179e\"], [0.4444444444444444, \"#bd3786\"], [0.5555555555555556, \"#d8576b\"], [0.6666666666666666, \"#ed7953\"], [0.7777777777777778, \"#fb9f3a\"], [0.8888888888888888, \"#fdca26\"], [1.0, \"#f0f921\"]], \"type\": \"histogram2dcontour\"}], \"mesh3d\": [{\"colorbar\": {\"outlinewidth\": 0, \"ticks\": \"\"}, \"type\": \"mesh3d\"}], \"parcoords\": [{\"line\": {\"colorbar\": {\"outlinewidth\": 0, \"ticks\": \"\"}}, \"type\": \"parcoords\"}], \"pie\": [{\"automargin\": true, \"type\": \"pie\"}], \"scatter\": [{\"marker\": {\"colorbar\": {\"outlinewidth\": 0, \"ticks\": \"\"}}, \"type\": \"scatter\"}], \"scatter3d\": [{\"line\": {\"colorbar\": {\"outlinewidth\": 0, \"ticks\": \"\"}}, \"marker\": {\"colorbar\": {\"outlinewidth\": 0, \"ticks\": \"\"}}, \"type\": \"scatter3d\"}], \"scattercarpet\": [{\"marker\": {\"colorbar\": {\"outlinewidth\": 0, \"ticks\": \"\"}}, \"type\": \"scattercarpet\"}], \"scattergeo\": [{\"marker\": {\"colorbar\": {\"outlinewidth\": 0, \"ticks\": \"\"}}, \"type\": \"scattergeo\"}], \"scattergl\": [{\"marker\": {\"colorbar\": {\"outlinewidth\": 0, \"ticks\": \"\"}}, \"type\": \"scattergl\"}], \"scattermapbox\": [{\"marker\": {\"colorbar\": {\"outlinewidth\": 0, \"ticks\": \"\"}}, \"type\": \"scattermapbox\"}], \"scatterpolar\": [{\"marker\": {\"colorbar\": {\"outlinewidth\": 0, \"ticks\": \"\"}}, \"type\": \"scatterpolar\"}], \"scatterpolargl\": [{\"marker\": {\"colorbar\": {\"outlinewidth\": 0, \"ticks\": \"\"}}, \"type\": \"scatterpolargl\"}], \"scatterternary\": [{\"marker\": {\"colorbar\": {\"outlinewidth\": 0, \"ticks\": \"\"}}, \"type\": \"scatterternary\"}], \"surface\": [{\"colorbar\": {\"outlinewidth\": 0, \"ticks\": \"\"}, \"colorscale\": [[0.0, \"#0d0887\"], [0.1111111111111111, \"#46039f\"], [0.2222222222222222, \"#7201a8\"], [0.3333333333333333, \"#9c179e\"], [0.4444444444444444, \"#bd3786\"], [0.5555555555555556, \"#d8576b\"], [0.6666666666666666, \"#ed7953\"], [0.7777777777777778, \"#fb9f3a\"], [0.8888888888888888, \"#fdca26\"], [1.0, \"#f0f921\"]], \"type\": \"surface\"}], \"table\": [{\"cells\": {\"fill\": {\"color\": \"#EBF0F8\"}, \"line\": {\"color\": \"white\"}}, \"header\": {\"fill\": {\"color\": \"#C8D4E3\"}, \"line\": {\"color\": \"white\"}}, \"type\": \"table\"}]}, \"layout\": {\"annotationdefaults\": {\"arrowcolor\": \"#2a3f5f\", \"arrowhead\": 0, \"arrowwidth\": 1}, \"coloraxis\": {\"colorbar\": {\"outlinewidth\": 0, \"ticks\": \"\"}}, \"colorscale\": {\"diverging\": [[0, \"#8e0152\"], [0.1, \"#c51b7d\"], [0.2, \"#de77ae\"], [0.3, \"#f1b6da\"], [0.4, \"#fde0ef\"], [0.5, \"#f7f7f7\"], [0.6, \"#e6f5d0\"], [0.7, \"#b8e186\"], [0.8, \"#7fbc41\"], [0.9, \"#4d9221\"], [1, \"#276419\"]], \"sequential\": [[0.0, \"#0d0887\"], [0.1111111111111111, \"#46039f\"], [0.2222222222222222, \"#7201a8\"], [0.3333333333333333, \"#9c179e\"], [0.4444444444444444, \"#bd3786\"], [0.5555555555555556, \"#d8576b\"], [0.6666666666666666, \"#ed7953\"], [0.7777777777777778, \"#fb9f3a\"], [0.8888888888888888, \"#fdca26\"], [1.0, \"#f0f921\"]], \"sequentialminus\": [[0.0, \"#0d0887\"], [0.1111111111111111, \"#46039f\"], [0.2222222222222222, \"#7201a8\"], [0.3333333333333333, \"#9c179e\"], [0.4444444444444444, \"#bd3786\"], [0.5555555555555556, \"#d8576b\"], [0.6666666666666666, \"#ed7953\"], [0.7777777777777778, \"#fb9f3a\"], [0.8888888888888888, \"#fdca26\"], [1.0, \"#f0f921\"]]}, \"colorway\": [\"#636efa\", \"#EF553B\", \"#00cc96\", \"#ab63fa\", \"#FFA15A\", \"#19d3f3\", \"#FF6692\", \"#B6E880\", \"#FF97FF\", \"#FECB52\"], \"font\": {\"color\": \"#2a3f5f\"}, \"geo\": {\"bgcolor\": \"white\", \"lakecolor\": \"white\", \"landcolor\": \"#E5ECF6\", \"showlakes\": true, \"showland\": true, \"subunitcolor\": \"white\"}, \"hoverlabel\": {\"align\": \"left\"}, \"hovermode\": \"closest\", \"mapbox\": {\"style\": \"light\"}, \"paper_bgcolor\": \"white\", \"plot_bgcolor\": \"#E5ECF6\", \"polar\": {\"angularaxis\": {\"gridcolor\": \"white\", \"linecolor\": \"white\", \"ticks\": \"\"}, \"bgcolor\": \"#E5ECF6\", \"radialaxis\": {\"gridcolor\": \"white\", \"linecolor\": \"white\", \"ticks\": \"\"}}, \"scene\": {\"xaxis\": {\"backgroundcolor\": \"#E5ECF6\", \"gridcolor\": \"white\", \"gridwidth\": 2, \"linecolor\": \"white\", \"showbackground\": true, \"ticks\": \"\", \"zerolinecolor\": \"white\"}, \"yaxis\": {\"backgroundcolor\": \"#E5ECF6\", \"gridcolor\": \"white\", \"gridwidth\": 2, \"linecolor\": \"white\", \"showbackground\": true, \"ticks\": \"\", \"zerolinecolor\": \"white\"}, \"zaxis\": {\"backgroundcolor\": \"#E5ECF6\", \"gridcolor\": \"white\", \"gridwidth\": 2, \"linecolor\": \"white\", \"showbackground\": true, \"ticks\": \"\", \"zerolinecolor\": \"white\"}}, \"shapedefaults\": {\"line\": {\"color\": \"#2a3f5f\"}}, \"ternary\": {\"aaxis\": {\"gridcolor\": \"white\", \"linecolor\": \"white\", \"ticks\": \"\"}, \"baxis\": {\"gridcolor\": \"white\", \"linecolor\": \"white\", \"ticks\": \"\"}, \"bgcolor\": \"#E5ECF6\", \"caxis\": {\"gridcolor\": \"white\", \"linecolor\": \"white\", \"ticks\": \"\"}}, \"title\": {\"x\": 0.05}, \"xaxis\": {\"automargin\": true, \"gridcolor\": \"white\", \"linecolor\": \"white\", \"ticks\": \"\", \"title\": {\"standoff\": 15}, \"zerolinecolor\": \"white\", \"zerolinewidth\": 2}, \"yaxis\": {\"automargin\": true, \"gridcolor\": \"white\", \"linecolor\": \"white\", \"ticks\": \"\", \"title\": {\"standoff\": 15}, \"zerolinecolor\": \"white\", \"zerolinewidth\": 2}}}, \"xaxis\": {\"anchor\": \"y\", \"domain\": [0.0, 1.0], \"title\": {\"text\": \"Overall_Qual\"}}, \"yaxis\": {\"anchor\": \"x\", \"domain\": [0.0, 1.0], \"title\": {\"text\": \"SalePrice\"}}},\n",
              "                        {\"responsive\": true}\n",
              "                    ).then(function(){\n",
              "                            \n",
              "var gd = document.getElementById('04696f0d-14c1-4b53-b38b-c08948c4c5d2');\n",
              "var x = new MutationObserver(function (mutations, observer) {{\n",
              "        var display = window.getComputedStyle(gd).display;\n",
              "        if (!display || display === 'none') {{\n",
              "            console.log([gd, 'removed!']);\n",
              "            Plotly.purge(gd);\n",
              "            observer.disconnect();\n",
              "        }}\n",
              "}});\n",
              "\n",
              "// Listen for the removal of the full notebook cells\n",
              "var notebookContainer = gd.closest('#notebook-container');\n",
              "if (notebookContainer) {{\n",
              "    x.observe(notebookContainer, {childList: true});\n",
              "}}\n",
              "\n",
              "// Listen for the clearing of the current output cell\n",
              "var outputEl = gd.closest('.output');\n",
              "if (outputEl) {{\n",
              "    x.observe(outputEl, {childList: true});\n",
              "}}\n",
              "\n",
              "                        })\n",
              "                };\n",
              "                \n",
              "            </script>\n",
              "        </div>\n",
              "</body>\n",
              "</html>"
            ]
          },
          "metadata": {
            "tags": []
          }
        }
      ]
    },
    {
      "cell_type": "code",
      "metadata": {
        "id": "NYyj3f_hr_6q"
      },
      "source": [
        "from matplotlib.patches import Rectangle\n",
        "import matplotlib.pyplot as plt\n",
        "import numpy as np\n",
        "from sklearn.metrics import mean_absolute_error, mean_squared_error, r2_score\n",
        "\n",
        "feature = homes['Overall_Qual']\n",
        "target = homes['SalePrice']\n",
        "\n",
        "\n",
        "def squared_errors(homes, feature, target, m, b):\n",
        "   fig = plt.figure(figsize=(7,7))\n",
        "   ax = plt.axes()\n",
        "   df.plot.scatter(feature, target, ax=ax)\n",
        "    \n",
        "    # Make predictions\n",
        "x = homes['Overall_Qual']\n",
        "y = homes['SalePrice']\n",
        "m, b = np.polyfit(x, y, 1)\n",
        "y_pred = m*x + b\n",
        "    \n",
        "    # Plot predictions\n",
        "ax.plot(x, y_pred)\n",
        "\n",
        "     # Plot squared errors\n",
        "xmin, xmax = ax.get_xlim()\n",
        "ymin, ymax = ax.get_ylim()\n",
        "scale = (xmax-xmin)/(ymax-ymin)\n",
        "for x, y1, y2 in zip(x, y, y_pred):\n",
        "    bottom_left = (x, min(y1, y2))\n",
        "    height = abs(y1 - y2)\n",
        "    width = height * scale\n",
        "    ax.add_patch(Rectangle(xy=bottom_left, width=width, height=height, alpha=0.1))\n",
        "    \n",
        "    # Print regression metrics\n",
        "mse = mean_squared_error(y, y_pred)\n",
        "rmse = np.sqrt(mse)\n",
        "mae = mean_absolute_error(y, y_pred)\n",
        "r2 = r2_score(y, y_pred)\n"
      ],
      "execution_count": null,
      "outputs": []
    },
    {
      "cell_type": "code",
      "metadata": {
        "id": "lE9A1Te5vxaV",
        "colab": {
          "base_uri": "https://localhost:8080/",
          "height": 34
        },
        "outputId": "82c1cbd1-5539-4fab-b98c-d82dec8fc4c9"
      },
      "source": [
        "mse"
      ],
      "execution_count": null,
      "outputs": [
        {
          "output_type": "execute_result",
          "data": {
            "text/plain": [
              "2300836056.647097"
            ]
          },
          "metadata": {
            "tags": []
          },
          "execution_count": 202
        }
      ]
    },
    {
      "cell_type": "code",
      "metadata": {
        "id": "T-_1XDyBwEJr",
        "colab": {
          "base_uri": "https://localhost:8080/",
          "height": 34
        },
        "outputId": "bdda208e-dc3a-403c-c2a6-da65651d6657"
      },
      "source": [
        "rmse"
      ],
      "execution_count": null,
      "outputs": [
        {
          "output_type": "execute_result",
          "data": {
            "text/plain": [
              "47967.03093424792"
            ]
          },
          "metadata": {
            "tags": []
          },
          "execution_count": 203
        }
      ]
    },
    {
      "cell_type": "code",
      "metadata": {
        "id": "QjdFumr-wHjV",
        "colab": {
          "base_uri": "https://localhost:8080/",
          "height": 34
        },
        "outputId": "ff4d1c21-8e9a-4345-e611-1a397734c6e8"
      },
      "source": [
        "mae"
      ],
      "execution_count": null,
      "outputs": [
        {
          "output_type": "execute_result",
          "data": {
            "text/plain": [
              "33740.804433670615"
            ]
          },
          "metadata": {
            "tags": []
          },
          "execution_count": 204
        }
      ]
    },
    {
      "cell_type": "code",
      "metadata": {
        "id": "hExlXipQwHnS",
        "colab": {
          "base_uri": "https://localhost:8080/",
          "height": 34
        },
        "outputId": "43851ae6-1c51-4570-aee1-05108fa60de4"
      },
      "source": [
        "r2"
      ],
      "execution_count": null,
      "outputs": [
        {
          "output_type": "execute_result",
          "data": {
            "text/plain": [
              "0.6385911908301378"
            ]
          },
          "metadata": {
            "tags": []
          },
          "execution_count": 205
        }
      ]
    },
    {
      "cell_type": "markdown",
      "metadata": {
        "id": "yqeiq1wvyrTq"
      },
      "source": [
        "## 2.2. Do train/validate/test split\n",
        "\n",
        "Train on houses sold in the years 2006 - 2008. (1,920 rows)\n",
        "\n",
        "Validate on house sold in 2009. (644 rows)\n",
        "\n",
        "Test on houses sold in 2010. (340 rows)"
      ]
    },
    {
      "cell_type": "code",
      "metadata": {
        "id": "WKFjWLI3w0P_",
        "colab": {
          "base_uri": "https://localhost:8080/",
          "height": 34
        },
        "outputId": "c98fcc91-0098-453e-c4e5-8b2091b311f1"
      },
      "source": [
        "train = homes[homes['Yr_Sold'] <= 2008]\n",
        "test = homes[homes['Yr_Sold'] >= 2010]\n",
        "\n",
        "\n",
        "train.shape\n",
        "test.shape\n"
      ],
      "execution_count": null,
      "outputs": [
        {
          "output_type": "execute_result",
          "data": {
            "text/plain": [
              "(340, 47)"
            ]
          },
          "metadata": {
            "tags": []
          },
          "execution_count": 168
        }
      ]
    },
    {
      "cell_type": "code",
      "metadata": {
        "id": "LTwCVXCRCr5E"
      },
      "source": [
        "train, val = train_test_split(train, random_state=42)"
      ],
      "execution_count": null,
      "outputs": []
    },
    {
      "cell_type": "code",
      "metadata": {
        "id": "FrUq2eOJC2wa",
        "colab": {
          "base_uri": "https://localhost:8080/",
          "height": 34
        },
        "outputId": "81e89832-3d3c-4b38-81f6-9acdd05b20b9"
      },
      "source": [
        "print(val.shape, test.shape)"
      ],
      "execution_count": null,
      "outputs": [
        {
          "output_type": "stream",
          "text": [
            "(480, 47) (340, 47)\n"
          ],
          "name": "stdout"
        }
      ]
    },
    {
      "cell_type": "markdown",
      "metadata": {
        "id": "hk1bYDJy6txq"
      },
      "source": [
        "## 2.3. Arrange data into X features matrix and y target vector\n",
        "\n",
        "Select at least one numeric feature and at least one categorical feature.\n",
        "\n",
        "Otherwise, you may choose whichever features and however many you want."
      ]
    },
    {
      "cell_type": "code",
      "metadata": {
        "id": "JQf9iwzf_uWh"
      },
      "source": [
        "model = LinearRegression()"
      ],
      "execution_count": null,
      "outputs": []
    },
    {
      "cell_type": "code",
      "metadata": {
        "id": "i2UiopAD7L7x"
      },
      "source": [
        "features = ['Central_Air', '1st_Flr_SF']\n",
        "target = ['SalePrice']"
      ],
      "execution_count": null,
      "outputs": []
    },
    {
      "cell_type": "code",
      "metadata": {
        "id": "q0C6rRFh7MCL"
      },
      "source": [
        "x_train = homes[features]\n",
        "y_train = homes[target]"
      ],
      "execution_count": null,
      "outputs": []
    },
    {
      "cell_type": "code",
      "metadata": {
        "id": "TQ-UmJd98E7D",
        "colab": {
          "base_uri": "https://localhost:8080/",
          "height": 34
        },
        "outputId": "54c8d835-e6af-4dd7-8003-20f36a8dc2fb"
      },
      "source": [
        "column_values = homes[[\"Central_Air\"]].values.ravel()\n",
        "unique_values = pd. unique(column_values)\n",
        "print(unique_values)"
      ],
      "execution_count": null,
      "outputs": [
        {
          "output_type": "stream",
          "text": [
            "['Y' 'N']\n"
          ],
          "name": "stdout"
        }
      ]
    },
    {
      "cell_type": "markdown",
      "metadata": {
        "id": "zDT-gSl_-Gwh"
      },
      "source": [
        "## 2.4. Do one-hot encoding\n",
        "\n",
        "Encode your categorical feature(s)."
      ]
    },
    {
      "cell_type": "code",
      "metadata": {
        "id": "iqRywy6M7Jcr"
      },
      "source": [
        "import category_encoders as ce\n",
        "from sklearn.impute import SimpleImputer\n",
        "from sklearn.linear_model import LogisticRegressionCV\n",
        "from sklearn.preprocessing import StandardScaler\n",
        "\n",
        "from sklearn.preprocessing import OneHotEncoder\n",
        "\n",
        "encoder = ce.OneHotEncoder(use_cat_names=True)\n",
        "X_train_encoded = encoder.fit_transform(x_train)"
      ],
      "execution_count": null,
      "outputs": []
    },
    {
      "cell_type": "code",
      "metadata": {
        "id": "JTRRQfaBGEsg",
        "colab": {
          "base_uri": "https://localhost:8080/",
          "height": 195
        },
        "outputId": "35bdf60b-2075-47a8-a7ed-ae1e2bbdfef5"
      },
      "source": [
        "X_train_encoded.head()\n"
      ],
      "execution_count": null,
      "outputs": [
        {
          "output_type": "execute_result",
          "data": {
            "text/html": [
              "<div>\n",
              "<style scoped>\n",
              "    .dataframe tbody tr th:only-of-type {\n",
              "        vertical-align: middle;\n",
              "    }\n",
              "\n",
              "    .dataframe tbody tr th {\n",
              "        vertical-align: top;\n",
              "    }\n",
              "\n",
              "    .dataframe thead th {\n",
              "        text-align: right;\n",
              "    }\n",
              "</style>\n",
              "<table border=\"1\" class=\"dataframe\">\n",
              "  <thead>\n",
              "    <tr style=\"text-align: right;\">\n",
              "      <th></th>\n",
              "      <th>Central_Air_Y</th>\n",
              "      <th>Central_Air_N</th>\n",
              "      <th>1st_Flr_SF</th>\n",
              "    </tr>\n",
              "  </thead>\n",
              "  <tbody>\n",
              "    <tr>\n",
              "      <th>0</th>\n",
              "      <td>1</td>\n",
              "      <td>0</td>\n",
              "      <td>1656</td>\n",
              "    </tr>\n",
              "    <tr>\n",
              "      <th>1</th>\n",
              "      <td>1</td>\n",
              "      <td>0</td>\n",
              "      <td>896</td>\n",
              "    </tr>\n",
              "    <tr>\n",
              "      <th>2</th>\n",
              "      <td>1</td>\n",
              "      <td>0</td>\n",
              "      <td>1329</td>\n",
              "    </tr>\n",
              "    <tr>\n",
              "      <th>3</th>\n",
              "      <td>1</td>\n",
              "      <td>0</td>\n",
              "      <td>2110</td>\n",
              "    </tr>\n",
              "    <tr>\n",
              "      <th>4</th>\n",
              "      <td>1</td>\n",
              "      <td>0</td>\n",
              "      <td>928</td>\n",
              "    </tr>\n",
              "  </tbody>\n",
              "</table>\n",
              "</div>"
            ],
            "text/plain": [
              "   Central_Air_Y  Central_Air_N  1st_Flr_SF\n",
              "0              1              0        1656\n",
              "1              1              0         896\n",
              "2              1              0        1329\n",
              "3              1              0        2110\n",
              "4              1              0         928"
            ]
          },
          "metadata": {
            "tags": []
          },
          "execution_count": 176
        }
      ]
    },
    {
      "cell_type": "code",
      "metadata": {
        "id": "LNzF0qtHGEy3"
      },
      "source": [
        ""
      ],
      "execution_count": null,
      "outputs": []
    },
    {
      "cell_type": "code",
      "metadata": {
        "id": "5MDeiQeIGE4q"
      },
      "source": [
        ""
      ],
      "execution_count": null,
      "outputs": []
    },
    {
      "cell_type": "markdown",
      "metadata": {
        "id": "2ZceruUx-Vs-"
      },
      "source": [
        "## 2.5. Use scikit-learn to fit a linear regression or ridge regression model\n",
        "Fit your model."
      ]
    },
    {
      "cell_type": "code",
      "metadata": {
        "id": "Kvy4Z0xv7eJF",
        "colab": {
          "base_uri": "https://localhost:8080/",
          "height": 34
        },
        "outputId": "e54f22ea-c780-45d6-fc12-aa8b645f7678"
      },
      "source": [
        "model.fit(X_train_encoded, y_train)\n",
        "print(model.coef_)"
      ],
      "execution_count": null,
      "outputs": [
        {
          "output_type": "stream",
          "text": [
            "[[ 27233.60069737 -27233.60069737    123.04983368]]\n"
          ],
          "name": "stdout"
        }
      ]
    },
    {
      "cell_type": "code",
      "metadata": {
        "id": "3YOurim2PiTh",
        "colab": {
          "base_uri": "https://localhost:8080/",
          "height": 34
        },
        "outputId": "45865cb6-65ae-415a-bbb2-eb04063388b9"
      },
      "source": [
        "y_pred = model.predict([[0, 1, 0]])\n",
        "y_pred"
      ],
      "execution_count": null,
      "outputs": [
        {
          "output_type": "execute_result",
          "data": {
            "text/plain": [
              "array([[-12930.71036195]])"
            ]
          },
          "metadata": {
            "tags": []
          },
          "execution_count": 178
        }
      ]
    },
    {
      "cell_type": "code",
      "metadata": {
        "id": "t-iO021Fcka-",
        "colab": {
          "base_uri": "https://localhost:8080/",
          "height": 34
        },
        "outputId": "b1cf8fd8-af6e-4232-cd3e-01a35e99e1b3"
      },
      "source": [
        "y_pred = model.predict(X_train_encoded)\n",
        "mae = mean_absolute_error(y_train, y_pred)\n",
        "print(f'Train Error: {mae:.2f} percentage points')"
      ],
      "execution_count": null,
      "outputs": [
        {
          "output_type": "stream",
          "text": [
            "Train Error: 44662.39 percentage points\n"
          ],
          "name": "stdout"
        }
      ]
    },
    {
      "cell_type": "code",
      "metadata": {
        "id": "Hr9hFj0RWA3F"
      },
      "source": [
        ""
      ],
      "execution_count": null,
      "outputs": []
    },
    {
      "cell_type": "markdown",
      "metadata": {
        "id": "E9reASgw-i8T"
      },
      "source": [
        "## 2.6. Report validation MAE and $R^2$\n",
        "\n",
        "What is your model's Mean Absolute Error and $R^2$ score on the validation set? (You are not graded on how high or low your validation scores are.)"
      ]
    },
    {
      "cell_type": "code",
      "metadata": {
        "id": "q8GdnL4e7hyK"
      },
      "source": [
        ""
      ],
      "execution_count": null,
      "outputs": []
    },
    {
      "cell_type": "code",
      "metadata": {
        "id": "RhJvxJacbzb1",
        "colab": {
          "base_uri": "https://localhost:8080/",
          "height": 84
        },
        "outputId": "468d7ba5-f424-4a2e-f9fd-6c665321373d"
      },
      "source": [
        "mse = mean_squared_error(y_train, y_pred)\n",
        "rmse = np.sqrt(mse)\n",
        "mae = mean_absolute_error(y_train, y_pred)\n",
        "r2 = r2_score(y_train, y_pred)\n",
        "print('Mean Squared Error:', mse)\n",
        "print('Root Mean Squared Error:', rmse)\n",
        "print('Mean Absolute Error:', mae)\n",
        "print('R^2:', r2)"
      ],
      "execution_count": null,
      "outputs": [
        {
          "output_type": "stream",
          "text": [
            "Mean Squared Error: 3693133013.0423\n",
            "Root Mean Squared Error: 60771.15280330216\n",
            "Mean Absolute Error: 44662.39299157388\n",
            "R^2: 0.41989312950242763\n"
          ],
          "name": "stdout"
        }
      ]
    },
    {
      "cell_type": "markdown",
      "metadata": {
        "id": "DidByDsrOa-o"
      },
      "source": [
        "# Stretch Goals, Regression\n",
        "- Make at least 2 visualizations to explore relationships between features and target. You may use any visualization library\n",
        "- Try at least 3 feature combinations. You may select features manually, or automatically\n",
        "- Report validation MAE and $R^2$ for each feature combination you try\n",
        "- Report test MAE and $R^2$ for your final model\n",
        "- Print or plot the coefficients for the features in your model"
      ]
    },
    {
      "cell_type": "code",
      "metadata": {
        "id": "xOfSQIf3Y3OV"
      },
      "source": [
        ""
      ],
      "execution_count": null,
      "outputs": []
    },
    {
      "cell_type": "markdown",
      "metadata": {
        "id": "PdkjBN1Dy_-A"
      },
      "source": [
        "# Data Dictionary \n",
        "\n",
        "Here's a description of the data fields:\n",
        "\n",
        "```\n",
        "1st_Flr_SF: First Floor square feet\n",
        "\n",
        "Bedroom_AbvGr: Bedrooms above grade (does NOT include basement bedrooms)\n",
        "\n",
        "Bldg_Type: Type of dwelling\n",
        "\t\t\n",
        "       1Fam\tSingle-family Detached\t\n",
        "       2FmCon\tTwo-family Conversion; originally built as one-family dwelling\n",
        "       Duplx\tDuplex\n",
        "       TwnhsE\tTownhouse End Unit\n",
        "       TwnhsI\tTownhouse Inside Unit\n",
        "       \n",
        "Bsmt_Half_Bath: Basement half bathrooms\n",
        "\n",
        "Bsmt_Full_Bath: Basement full bathrooms\n",
        "\n",
        "Central_Air: Central air conditioning\n",
        "\n",
        "       N\tNo\n",
        "       Y\tYes\n",
        "\t\t\n",
        "Condition_1: Proximity to various conditions\n",
        "\t\n",
        "       Artery\tAdjacent to arterial street\n",
        "       Feedr\tAdjacent to feeder street\t\n",
        "       Norm\tNormal\t\n",
        "       RRNn\tWithin 200' of North-South Railroad\n",
        "       RRAn\tAdjacent to North-South Railroad\n",
        "       PosN\tNear positive off-site feature--park, greenbelt, etc.\n",
        "       PosA\tAdjacent to postive off-site feature\n",
        "       RRNe\tWithin 200' of East-West Railroad\n",
        "       RRAe\tAdjacent to East-West Railroad\n",
        "\t\n",
        "Condition_2: Proximity to various conditions (if more than one is present)\n",
        "\t\t\n",
        "       Artery\tAdjacent to arterial street\n",
        "       Feedr\tAdjacent to feeder street\t\n",
        "       Norm\tNormal\t\n",
        "       RRNn\tWithin 200' of North-South Railroad\n",
        "       RRAn\tAdjacent to North-South Railroad\n",
        "       PosN\tNear positive off-site feature--park, greenbelt, etc.\n",
        "       PosA\tAdjacent to postive off-site feature\n",
        "       RRNe\tWithin 200' of East-West Railroad\n",
        "       RRAe\tAdjacent to East-West Railroad\n",
        "       \n",
        " Electrical: Electrical system\n",
        "\n",
        "       SBrkr\tStandard Circuit Breakers & Romex\n",
        "       FuseA\tFuse Box over 60 AMP and all Romex wiring (Average)\t\n",
        "       FuseF\t60 AMP Fuse Box and mostly Romex wiring (Fair)\n",
        "       FuseP\t60 AMP Fuse Box and mostly knob & tube wiring (poor)\n",
        "       Mix\tMixed\n",
        "       \n",
        " Exter_Cond: Evaluates the present condition of the material on the exterior\n",
        "\t\t\n",
        "       Ex\tExcellent\n",
        "       Gd\tGood\n",
        "       TA\tAverage/Typical\n",
        "       Fa\tFair\n",
        "       Po\tPoor\n",
        " \n",
        " Exter_Qual: Evaluates the quality of the material on the exterior \n",
        "\t\t\n",
        "       Ex\tExcellent\n",
        "       Gd\tGood\n",
        "       TA\tAverage/Typical\n",
        "       Fa\tFair\n",
        "       Po\tPoor\n",
        "\t\t\n",
        "Exterior_1st: Exterior covering on house\n",
        "\n",
        "       AsbShng\tAsbestos Shingles\n",
        "       AsphShn\tAsphalt Shingles\n",
        "       BrkComm\tBrick Common\n",
        "       BrkFace\tBrick Face\n",
        "       CBlock\tCinder Block\n",
        "       CemntBd\tCement Board\n",
        "       HdBoard\tHard Board\n",
        "       ImStucc\tImitation Stucco\n",
        "       MetalSd\tMetal Siding\n",
        "       Other\tOther\n",
        "       Plywood\tPlywood\n",
        "       PreCast\tPreCast\t\n",
        "       Stone\tStone\n",
        "       Stucco\tStucco\n",
        "       VinylSd\tVinyl Siding\n",
        "       Wd Sdng\tWood Siding\n",
        "       WdShing\tWood Shingles\n",
        "\t\n",
        "Exterior_2nd: Exterior covering on house (if more than one material)\n",
        "\n",
        "       AsbShng\tAsbestos Shingles\n",
        "       AsphShn\tAsphalt Shingles\n",
        "       BrkComm\tBrick Common\n",
        "       BrkFace\tBrick Face\n",
        "       CBlock\tCinder Block\n",
        "       CemntBd\tCement Board\n",
        "       HdBoard\tHard Board\n",
        "       ImStucc\tImitation Stucco\n",
        "       MetalSd\tMetal Siding\n",
        "       Other\tOther\n",
        "       Plywood\tPlywood\n",
        "       PreCast\tPreCast\n",
        "       Stone\tStone\n",
        "       Stucco\tStucco\n",
        "       VinylSd\tVinyl Siding\n",
        "       Wd Sdng\tWood Siding\n",
        "       WdShing\tWood Shingles\n",
        "       \n",
        "Foundation: Type of foundation\n",
        "\t\t\n",
        "       BrkTil\tBrick & Tile\n",
        "       CBlock\tCinder Block\n",
        "       PConc\tPoured Contrete\t\n",
        "       Slab\tSlab\n",
        "       Stone\tStone\n",
        "       Wood\tWood\n",
        "\t\t\n",
        "Full_Bath: Full bathrooms above grade\n",
        "\n",
        "Functional: Home functionality (Assume typical unless deductions are warranted)\n",
        "\n",
        "       Typ\tTypical Functionality\n",
        "       Min1\tMinor Deductions 1\n",
        "       Min2\tMinor Deductions 2\n",
        "       Mod\tModerate Deductions\n",
        "       Maj1\tMajor Deductions 1\n",
        "       Maj2\tMajor Deductions 2\n",
        "       Sev\tSeverely Damaged\n",
        "       Sal\tSalvage only\n",
        "\t\t\n",
        "Gr_Liv_Area: Above grade (ground) living area square feet\n",
        "        \n",
        "Half_Bath: Half baths above grade\n",
        "\n",
        "Heating: Type of heating\n",
        "\t\t\n",
        "       Floor\tFloor Furnace\n",
        "       GasA\tGas forced warm air furnace\n",
        "       GasW\tGas hot water or steam heat\n",
        "       Grav\tGravity furnace\t\n",
        "       OthW\tHot water or steam heat other than gas\n",
        "       Wall\tWall furnace\n",
        "\t\t\n",
        "Heating_QC: Heating quality and condition\n",
        "\n",
        "       Ex\tExcellent\n",
        "       Gd\tGood\n",
        "       TA\tAverage/Typical\n",
        "       Fa\tFair\n",
        "       Po\tPoor\n",
        "\n",
        "House_Style: Style of dwelling\n",
        "\t\n",
        "       1Story\tOne story\n",
        "       1.5Fin\tOne and one-half story: 2nd level finished\n",
        "       1.5Unf\tOne and one-half story: 2nd level unfinished\n",
        "       2Story\tTwo story\n",
        "       2.5Fin\tTwo and one-half story: 2nd level finished\n",
        "       2.5Unf\tTwo and one-half story: 2nd level unfinished\n",
        "       SFoyer\tSplit Foyer\n",
        "       SLvl\tSplit Level\n",
        "\n",
        "Kitchen_AbvGr: Kitchens above grade\n",
        "\n",
        "Kitchen_Qual: Kitchen quality\n",
        "\n",
        "       Ex\tExcellent\n",
        "       Gd\tGood\n",
        "       TA\tTypical/Average\n",
        "       Fa\tFair\n",
        "       Po\tPoor\n",
        "\n",
        "LandContour: Flatness of the property\n",
        "\n",
        "       Lvl\tNear Flat/Level\t\n",
        "       Bnk\tBanked - Quick and significant rise from street grade to building\n",
        "       HLS\tHillside - Significant slope from side to side\n",
        "       Low\tDepression\n",
        "\t\t\n",
        "Land_Slope: Slope of property\n",
        "\t\t\n",
        "       Gtl\tGentle slope\n",
        "       Mod\tModerate Slope\t\n",
        "       Sev\tSevere Slope\n",
        "\n",
        "Lot_Area: Lot size in square feet\n",
        "\n",
        "Lot_Config: Lot configuration\n",
        "\n",
        "       Inside\tInside lot\n",
        "       Corner\tCorner lot\n",
        "       CulDSac\tCul-de-sac\n",
        "       FR2\tFrontage on 2 sides of property\n",
        "       FR3\tFrontage on 3 sides of property\n",
        "\n",
        "Lot_Shape: General shape of property\n",
        "\n",
        "       Reg\tRegular\t\n",
        "       IR1\tSlightly irregular\n",
        "       IR2\tModerately Irregular\n",
        "       IR3\tIrregular\n",
        "\n",
        "MS_SubClass: Identifies the type of dwelling involved in the sale.\t\n",
        "\n",
        "        20\t1-STORY 1946 & NEWER ALL STYLES\n",
        "        30\t1-STORY 1945 & OLDER\n",
        "        40\t1-STORY W/FINISHED ATTIC ALL AGES\n",
        "        45\t1-1/2 STORY - UNFINISHED ALL AGES\n",
        "        50\t1-1/2 STORY FINISHED ALL AGES\n",
        "        60\t2-STORY 1946 & NEWER\n",
        "        70\t2-STORY 1945 & OLDER\n",
        "        75\t2-1/2 STORY ALL AGES\n",
        "        80\tSPLIT OR MULTI-LEVEL\n",
        "        85\tSPLIT FOYER\n",
        "        90\tDUPLEX - ALL STYLES AND AGES\n",
        "       120\t1-STORY PUD (Planned Unit Development) - 1946 & NEWER\n",
        "       150\t1-1/2 STORY PUD - ALL AGES\n",
        "       160\t2-STORY PUD - 1946 & NEWER\n",
        "       180\tPUD - MULTILEVEL - INCL SPLIT LEV/FOYER\n",
        "       190\t2 FAMILY CONVERSION - ALL STYLES AND AGES\n",
        "\n",
        "MS_Zoning: Identifies the general zoning classification of the sale.\n",
        "\t\t\n",
        "       A\tAgriculture\n",
        "       C\tCommercial\n",
        "       FV\tFloating Village Residential\n",
        "       I\tIndustrial\n",
        "       RH\tResidential High Density\n",
        "       RL\tResidential Low Density\n",
        "       RP\tResidential Low Density Park \n",
        "       RM\tResidential Medium Density\n",
        "\n",
        "Mas_Vnr_Type: Masonry veneer type\n",
        "\n",
        "       BrkCmn\tBrick Common\n",
        "       BrkFace\tBrick Face\n",
        "       CBlock\tCinder Block\n",
        "       None\tNone\n",
        "       Stone\tStone\n",
        "\n",
        "Mo_Sold: Month Sold (MM)\n",
        "\n",
        "Neighborhood: Physical locations within Ames city limits\n",
        "\n",
        "       Blmngtn\tBloomington Heights\n",
        "       Blueste\tBluestem\n",
        "       BrDale\tBriardale\n",
        "       BrkSide\tBrookside\n",
        "       ClearCr\tClear Creek\n",
        "       CollgCr\tCollege Creek\n",
        "       Crawfor\tCrawford\n",
        "       Edwards\tEdwards\n",
        "       Gilbert\tGilbert\n",
        "       IDOTRR\tIowa DOT and Rail Road\n",
        "       MeadowV\tMeadow Village\n",
        "       Mitchel\tMitchell\n",
        "       Names\tNorth Ames\n",
        "       NoRidge\tNorthridge\n",
        "       NPkVill\tNorthpark Villa\n",
        "       NridgHt\tNorthridge Heights\n",
        "       NWAmes\tNorthwest Ames\n",
        "       OldTown\tOld Town\n",
        "       SWISU\tSouth & West of Iowa State University\n",
        "       Sawyer\tSawyer\n",
        "       SawyerW\tSawyer West\n",
        "       Somerst\tSomerset\n",
        "       StoneBr\tStone Brook\n",
        "       Timber\tTimberland\n",
        "       Veenker\tVeenker\n",
        "\t\t\t\n",
        "Overall_Cond: Rates the overall condition of the house\n",
        "\n",
        "       10\tVery Excellent\n",
        "       9\tExcellent\n",
        "       8\tVery Good\n",
        "       7\tGood\n",
        "       6\tAbove Average\t\n",
        "       5\tAverage\n",
        "       4\tBelow Average\t\n",
        "       3\tFair\n",
        "       2\tPoor\n",
        "       1\tVery Poor\n",
        "\n",
        "Overall_Qual: Rates the overall material and finish of the house\n",
        "\n",
        "       10\tVery Excellent\n",
        "       9\tExcellent\n",
        "       8\tVery Good\n",
        "       7\tGood\n",
        "       6\tAbove Average\n",
        "       5\tAverage\n",
        "       4\tBelow Average\n",
        "       3\tFair\n",
        "       2\tPoor\n",
        "       1\tVery Poor\n",
        "\n",
        "Paved_Drive: Paved driveway\n",
        "\n",
        "       Y\tPaved \n",
        "       P\tPartial Pavement\n",
        "       N\tDirt/Gravel\n",
        "\n",
        "Roof_Matl: Roof material\n",
        "\n",
        "       ClyTile\tClay or Tile\n",
        "       CompShg\tStandard (Composite) Shingle\n",
        "       Membran\tMembrane\n",
        "       Metal\tMetal\n",
        "       Roll\tRoll\n",
        "       Tar&Grv\tGravel & Tar\n",
        "       WdShake\tWood Shakes\n",
        "       WdShngl\tWood Shingles\n",
        "\n",
        "Roof_Style: Type of roof\n",
        "\n",
        "       Flat\tFlat\n",
        "       Gable\tGable\n",
        "       Gambrel\tGabrel (Barn)\n",
        "       Hip\tHip\n",
        "       Mansard\tMansard\n",
        "       Shed\tShed\n",
        "\n",
        "SalePrice: the sales price for each house\n",
        "\n",
        "Sale_Condition: Condition of sale\n",
        "\n",
        "       Normal\tNormal Sale\n",
        "       Abnorml\tAbnormal Sale -  trade, foreclosure, short sale\n",
        "       AdjLand\tAdjoining Land Purchase\n",
        "       Alloca\tAllocation - two linked properties with separate deeds, typically condo with a garage unit\t\n",
        "       Family\tSale between family members\n",
        "       Partial\tHome was not completed when last assessed (associated with New Homes)\n",
        "\n",
        "Sale_Type: Type of sale\n",
        "\t\t\n",
        "       WD \tWarranty Deed - Conventional\n",
        "       CWD\tWarranty Deed - Cash\n",
        "       VWD\tWarranty Deed - VA Loan\n",
        "       New\tHome just constructed and sold\n",
        "       COD\tCourt Officer Deed/Estate\n",
        "       Con\tContract 15% Down payment regular terms\n",
        "       ConLw\tContract Low Down payment and low interest\n",
        "       ConLI\tContract Low Interest\n",
        "       ConLD\tContract Low Down\n",
        "       Oth\tOther\n",
        "\t\n",
        "Street: Type of road access to property\n",
        "\n",
        "       Grvl\tGravel\t\n",
        "       Pave\tPaved\n",
        "       \t\n",
        "TotRms_AbvGrd: Total rooms above grade (does not include bathrooms)\n",
        "\n",
        "Utilities: Type of utilities available\n",
        "\t\t\n",
        "       AllPub\tAll public Utilities (E,G,W,& S)\t\n",
        "       NoSewr\tElectricity, Gas, and Water (Septic Tank)\n",
        "       NoSeWa\tElectricity and Gas Only\n",
        "       ELO\tElectricity only\t\n",
        "\t\n",
        "Year_Built: Original construction date\n",
        "\n",
        "Year_Remod/Add: Remodel date (same as construction date if no remodeling or additions)\n",
        "\t\t\t\t\t\t\n",
        "Yr_Sold: Year Sold (YYYY)\t\n",
        "\n",
        "```"
      ]
    }
  ]
}